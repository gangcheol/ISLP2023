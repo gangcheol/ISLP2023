{
 "cells": [
  {
   "cell_type": "raw",
   "metadata": {},
   "source": [
    "---\n",
    "title : \"04. 경사하강법 (2)\"\n",
    "author : \"study\"\n",
    "date : \"09/21/23\"\n",
    "categories : [study, tensorflow]\n",
    "---"
   ]
  },
  {
   "cell_type": "markdown",
   "metadata": {
    "id": "VzbynSwW4vO7"
   },
   "source": [
    "# import"
   ]
  },
  {
   "cell_type": "code",
   "execution_count": 1,
   "metadata": {
    "executionInfo": {
     "elapsed": 3167,
     "status": "ok",
     "timestamp": 1695289882124,
     "user": {
      "displayName": "ccc flkwerkdai",
      "userId": "13507850890638580947"
     },
     "user_tz": -540
    },
    "id": "b-Ay8hrr5i8Q"
   },
   "outputs": [],
   "source": [
    "import tensorflow as tf\n",
    "import numpy as np\n",
    "import matplotlib.pyplot as plt\n",
    "import tensorflow.experimental.numpy as tnp\n",
    "tnp.experimental_enable_numpy_behavior()"
   ]
  },
  {
   "cell_type": "markdown",
   "metadata": {
    "id": "nJB1BTaH5wJg"
   },
   "source": [
    "# review"
   ]
  },
  {
   "cell_type": "markdown",
   "metadata": {
    "id": "lDsL-N4ZDtwr"
   },
   "source": [
    "`-` 데이터 셋팅"
   ]
  },
  {
   "cell_type": "code",
   "execution_count": 20,
   "metadata": {
    "executionInfo": {
     "elapsed": 3,
     "status": "ok",
     "timestamp": 1695290736878,
     "user": {
      "displayName": "ccc flkwerkdai",
      "userId": "13507850890638580947"
     },
     "user_tz": -540
    },
    "id": "yVrdGMy7Datz"
   },
   "outputs": [],
   "source": [
    "# code-fold : true\n",
    "tnp.random.seed(41068)\n",
    "N = 200\n",
    "x = tnp.linspace(0,1,N)\n",
    "epsilon = tnp.random.randn(N)*0.5\n",
    "y = 2.5 + 4*x + epsilon\n",
    "y_hat = 2.5 + 4*x"
   ]
  },
  {
   "cell_type": "markdown",
   "metadata": {
    "id": "ul2VaQDS53cw"
   },
   "source": [
    "`-`  이전까지 최적해를 찾을 때는 아래처럼 수식을 알고 있어야 한다는 단점이 있다."
   ]
  },
  {
   "cell_type": "markdown",
   "metadata": {
    "id": "RAM9gYE47B9j"
   },
   "source": [
    "$$\\text{loss} = \\left(\\frac {1}{2}-\\beta \\right)^2$$"
   ]
  },
  {
   "cell_type": "markdown",
   "metadata": {
    "id": "5BSYIMT15wCo"
   },
   "source": [
    "`-` 보통 `loss`함수의 경우 위와 같이 간단한 형태로 정의되는 것이 아닌 비모수적 형태, 즉, 함수의 형태를 가정할 수가 없는 경우가 대부분임."
   ]
  },
  {
   "cell_type": "markdown",
   "metadata": {
    "id": "8K1tzYDq6bkP"
   },
   "source": [
    "* `tf.keras.optimizers`를 이용한다면 `loss`함수가 비모수적이어도 비교적 쉽게  최적해를 찾을 수 있다."
   ]
  },
  {
   "cell_type": "markdown",
   "metadata": {
    "id": "l0LHAiVB7HqZ"
   },
   "source": [
    "* 위 식을 최소로하는 $\\hat {\\beta} = 2$ 이다. 이전까지 이를 구하는 과정은 다음과 같았다."
   ]
  },
  {
   "cell_type": "markdown",
   "metadata": {
    "id": "hcTDyoyzDxcj"
   },
   "source": [
    "`-` 회귀분석 예제"
   ]
  },
  {
   "cell_type": "markdown",
   "metadata": {
    "id": "X4Xfe4GGD4kT"
   },
   "source": [
    "$$\\hat  y = 4x + 2.5$$"
   ]
  },
  {
   "cell_type": "markdown",
   "metadata": {
    "id": "XCTEa2p-D8hE"
   },
   "source": [
    "$$\\hat {\\beta}_1 =4, \\,\\, \\hat {\\beta}_0  = 2.5 $$"
   ]
  },
  {
   "cell_type": "code",
   "execution_count": 21,
   "metadata": {
    "colab": {
     "base_uri": "https://localhost:8080/",
     "height": 395
    },
    "executionInfo": {
     "elapsed": 659,
     "status": "ok",
     "timestamp": 1695290818875,
     "user": {
      "displayName": "ccc flkwerkdai",
      "userId": "13507850890638580947"
     },
     "user_tz": -540
    },
    "id": "CGq64mcYE2Nl",
    "outputId": "92c507c8-2d94-4abc-a781-b5ad149b8c98"
   },
   "outputs": [
    {
     "data": {
      "image/png": "[encoded data removed]",
      "text/plain": [
       "<Figure size 1200x400 with 1 Axes>"
      ]
     },
     "metadata": {},
     "output_type": "display_data"
    }
   ],
   "source": [
    "#| code-fold : true\n",
    "plt.figure(figsize  = (12,4))\n",
    "plt.plot(x,y,\".r\", label = r\"$(x,y)$\",alpha = 0.3 )\n",
    "plt.plot(x,y_hat,\".b\", label = r\"$(x,\\hat y)$\",alpha = 0.5)\n",
    "plt.title(r\"$\\hat  y = 4x +2.5$\")\n",
    "plt.legend()\n",
    "plt.show()"
   ]
  },
  {
   "cell_type": "markdown",
   "metadata": {
    "id": "G3aqnM9VEUdz"
   },
   "source": [
    "`-` loss"
   ]
  },
  {
   "cell_type": "markdown",
   "metadata": {
    "id": "icU49IWrERyz"
   },
   "source": [
    "$$\\text{loss} = \\bf(y-X \\hat{\\beta})^{\\top}(y-X\\hat {\\beta})$$"
   ]
  },
  {
   "cell_type": "markdown",
   "metadata": {
    "id": "DqoT9yl2KAuq"
   },
   "source": [
    "$$ \\bf{X} \\hat {\\beta} = \\bf {\\hat {y}}$$"
   ]
  },
  {
   "cell_type": "markdown",
   "metadata": {
    "id": "mzST7OJPGdCM"
   },
   "source": [
    "`-` 기존 방식(경사하강법을 이용한 풀이)"
   ]
  },
  {
   "cell_type": "code",
   "execution_count": 22,
   "metadata": {
    "executionInfo": {
     "elapsed": 475,
     "status": "ok",
     "timestamp": 1695290851524,
     "user": {
      "displayName": "ccc flkwerkdai",
      "userId": "13507850890638580947"
     },
     "user_tz": -540
    },
    "id": "j7lDdJcy7Sf5"
   },
   "outputs": [],
   "source": [
    "X=tf.stack([tf.ones(N,dtype='float64'),x],axis=1)\n",
    "beta_hat = tf.Variable([-5.0,10.0]) ## 초기값 셋\n",
    "alpha=0.1"
   ]
  },
  {
   "cell_type": "markdown",
   "metadata": {
    "id": "aqvl5vF2KTJx"
   },
   "source": [
    "$$\\beta_{t+1} = \\beta_{t} - \\alpha \\times \\frac {d\\,\\text{loss}}{d\\, \\beta}$$"
   ]
  },
  {
   "cell_type": "code",
   "execution_count": 23,
   "metadata": {
    "executionInfo": {
     "elapsed": 7103,
     "status": "ok",
     "timestamp": 1695290891040,
     "user": {
      "displayName": "ccc flkwerkdai",
      "userId": "13507850890638580947"
     },
     "user_tz": -540
    },
    "id": "GYdCWg9z7YlA"
   },
   "outputs": [],
   "source": [
    "for epoc in range(1000):\n",
    "    with tf.GradientTape() as tape:\n",
    "        tape.watch(beta_hat)\n",
    "        yhat = X@beta_hat\n",
    "        loss = (y-yhat).T @ (y-yhat) / N\n",
    "    slope = tape.gradient(loss,beta_hat)\n",
    "    beta_hat.assign_sub(slope * alpha)"
   ]
  },
  {
   "cell_type": "code",
   "execution_count": 24,
   "metadata": {
    "colab": {
     "base_uri": "https://localhost:8080/"
    },
    "executionInfo": {
     "elapsed": 491,
     "status": "ok",
     "timestamp": 1695290894511,
     "user": {
      "displayName": "ccc flkwerkdai",
      "userId": "13507850890638580947"
     },
     "user_tz": -540
    },
    "id": "y2QudUnV718x",
    "outputId": "22ede1d2-32e4-40d2-8da5-9015eefbbb86"
   },
   "outputs": [
    {
     "data": {
      "text/plain": [
       "<tf.Variable 'Variable:0' shape=(2,) dtype=float32, numpy=array([2.5205595, 3.924182 ], dtype=float32)>"
      ]
     },
     "execution_count": 24,
     "metadata": {},
     "output_type": "execute_result"
    }
   ],
   "source": [
    "beta_hat"
   ]
  },
  {
   "cell_type": "markdown",
   "metadata": {
    "id": "nHQHc9ij99uZ"
   },
   "source": [
    "# `tf.keras.optimizers`"
   ]
  },
  {
   "cell_type": "markdown",
   "metadata": {
    "id": "2CadGjEf-a1h"
   },
   "source": [
    "## SGD : 확률적 경사하강법"
   ]
  },
  {
   "cell_type": "code",
   "execution_count": 25,
   "metadata": {
    "executionInfo": {
     "elapsed": 477,
     "status": "ok",
     "timestamp": 1695290905757,
     "user": {
      "displayName": "ccc flkwerkdai",
      "userId": "13507850890638580947"
     },
     "user_tz": -540
    },
    "id": "r9qgvWBqGf5M"
   },
   "outputs": [],
   "source": [
    "beta_hat = tf.Variable([-5.0,10.0]) ## 초기값 셋\n",
    "alpha = 0.1\n",
    "opt = tf.keras.optimizers.SGD(alpha) ## 경사하강법 종류 선언"
   ]
  },
  {
   "cell_type": "code",
   "execution_count": 26,
   "metadata": {
    "executionInfo": {
     "elapsed": 10222,
     "status": "ok",
     "timestamp": 1695290944212,
     "user": {
      "displayName": "ccc flkwerkdai",
      "userId": "13507850890638580947"
     },
     "user_tz": -540
    },
    "id": "pp5_dkmg-lXK"
   },
   "outputs": [],
   "source": [
    "for epoc in range(1000):\n",
    "    with tf.GradientTape() as tape:\n",
    "        yhat = X@beta_hat\n",
    "        loss = (y-yhat).T @ (y-yhat) / N\n",
    "    slope = tape.gradient(loss,beta_hat)\n",
    "    opt.apply_gradients( [(slope,beta_hat),(slope,beta_hat)] )"
   ]
  },
  {
   "cell_type": "code",
   "execution_count": 27,
   "metadata": {
    "colab": {
     "base_uri": "https://localhost:8080/"
    },
    "executionInfo": {
     "elapsed": 474,
     "status": "ok",
     "timestamp": 1695290956482,
     "user": {
      "displayName": "ccc flkwerkdai",
      "userId": "13507850890638580947"
     },
     "user_tz": -540
    },
    "id": "-BHvUgNVHPm0",
    "outputId": "0d1330b2-732c-4d4a-885a-9b2612588ae6"
   },
   "outputs": [
    {
     "data": {
      "text/plain": [
       "<tf.Variable 'Variable:0' shape=(2,) dtype=float32, numpy=array([2.5205617, 3.9241781], dtype=float32)>"
      ]
     },
     "execution_count": 27,
     "metadata": {},
     "output_type": "execute_result"
    }
   ],
   "source": [
    "beta_hat"
   ]
  },
  {
   "cell_type": "markdown",
   "metadata": {
    "id": "j_HsCr63_hDr"
   },
   "source": [
    "## SGD + opt.minimize"
   ]
  },
  {
   "cell_type": "markdown",
   "metadata": {
    "id": "cRreN-ZgJG5e"
   },
   "source": [
    "`-` opt.minimize $\\to$ slope + `beta_assign_sub`"
   ]
  },
  {
   "cell_type": "markdown",
   "metadata": {
    "id": "4zdYdEJuHeAE"
   },
   "source": [
    "`-` 셋팅"
   ]
  },
  {
   "cell_type": "code",
   "execution_count": 28,
   "metadata": {
    "colab": {
     "base_uri": "https://localhost:8080/"
    },
    "executionInfo": {
     "elapsed": 4,
     "status": "ok",
     "timestamp": 1695290995601,
     "user": {
      "displayName": "ccc flkwerkdai",
      "userId": "13507850890638580947"
     },
     "user_tz": -540
    },
    "id": "QuCNIkG3Hbo8",
    "outputId": "134903f9-8b5b-4ed9-93c3-654922375fae"
   },
   "outputs": [
    {
     "data": {
      "text/plain": [
       "(TensorShape([200, 2]), TensorShape([200, 1]))"
      ]
     },
     "execution_count": 28,
     "metadata": {},
     "output_type": "execute_result"
    }
   ],
   "source": [
    "y=y.reshape(N,1)\n",
    "X.shape,y.shape"
   ]
  },
  {
   "cell_type": "code",
   "execution_count": 29,
   "metadata": {
    "executionInfo": {
     "elapsed": 2,
     "status": "ok",
     "timestamp": 1695290998494,
     "user": {
      "displayName": "ccc flkwerkdai",
      "userId": "13507850890638580947"
     },
     "user_tz": -540
    },
    "id": "yAn-i8KdIvgc"
   },
   "outputs": [],
   "source": [
    "beta_hat = tf.Variable(tnp.array([-5.0,10.0]).reshape(2,1))"
   ]
  },
  {
   "cell_type": "markdown",
   "metadata": {
    "id": "Zdhcgv0HHdp8"
   },
   "source": [
    "`-` loss 함수 정의"
   ]
  },
  {
   "cell_type": "code",
   "execution_count": 30,
   "metadata": {
    "executionInfo": {
     "elapsed": 3,
     "status": "ok",
     "timestamp": 1695290999702,
     "user": {
      "displayName": "ccc flkwerkdai",
      "userId": "13507850890638580947"
     },
     "user_tz": -540
    },
    "id": "U0F-vz1-_9yq"
   },
   "outputs": [],
   "source": [
    "def loss_fn():\n",
    "    return (y-X@beta_hat).T @ (y-X@beta_hat)/N"
   ]
  },
  {
   "cell_type": "code",
   "execution_count": 31,
   "metadata": {
    "executionInfo": {
     "elapsed": 552,
     "status": "ok",
     "timestamp": 1695291005240,
     "user": {
      "displayName": "ccc flkwerkdai",
      "userId": "13507850890638580947"
     },
     "user_tz": -540
    },
    "id": "4h7zsVaBIyld"
   },
   "outputs": [],
   "source": [
    "alpha=0.1\n",
    "opt = tf.optimizers.SGD(alpha)"
   ]
  },
  {
   "cell_type": "code",
   "execution_count": 32,
   "metadata": {
    "executionInfo": {
     "elapsed": 5887,
     "status": "ok",
     "timestamp": 1695291013419,
     "user": {
      "displayName": "ccc flkwerkdai",
      "userId": "13507850890638580947"
     },
     "user_tz": -540
    },
    "id": "9eYv7VWGHYZL"
   },
   "outputs": [],
   "source": [
    "for epoc in range(1000):\n",
    "    opt.minimize(loss_fn,[beta_hat]) # 미분 + update"
   ]
  },
  {
   "cell_type": "code",
   "execution_count": 33,
   "metadata": {
    "colab": {
     "base_uri": "https://localhost:8080/"
    },
    "executionInfo": {
     "elapsed": 575,
     "status": "ok",
     "timestamp": 1695291028249,
     "user": {
      "displayName": "ccc flkwerkdai",
      "userId": "13507850890638580947"
     },
     "user_tz": -540
    },
    "id": "vjA2c1NTJBN9",
    "outputId": "13ba8bc2-ab1b-4c5b-80ae-f5980ddfa5aa"
   },
   "outputs": [
    {
     "data": {
      "text/plain": [
       "<tf.Variable 'Variable:0' shape=(2, 1) dtype=float64, numpy=\n",
       "array([[2.52055998],\n",
       "       [3.92418141]])>"
      ]
     },
     "execution_count": 33,
     "metadata": {},
     "output_type": "execute_result"
    }
   ],
   "source": [
    "beta_hat"
   ]
  },
  {
   "cell_type": "markdown",
   "metadata": {
    "id": "iOpHVakQA_BY"
   },
   "source": [
    "## net($\\star\\star\\star$)"
   ]
  },
  {
   "cell_type": "code",
   "execution_count": 34,
   "metadata": {
    "executionInfo": {
     "elapsed": 710,
     "status": "ok",
     "timestamp": 1695291053857,
     "user": {
      "displayName": "ccc flkwerkdai",
      "userId": "13507850890638580947"
     },
     "user_tz": -540
    },
    "id": "OxUMIMmBJn_k"
   },
   "outputs": [],
   "source": [
    "N = 200\n",
    "alpha=0.1\n",
    "opt=tf.optimizers.SGD(alpha) ## 옵티마이저의 선택"
   ]
  },
  {
   "cell_type": "markdown",
   "metadata": {
    "id": "wtCJXXx2OpH7"
   },
   "source": [
    "$$y = ax +b$$"
   ]
  },
  {
   "cell_type": "markdown",
   "metadata": {
    "id": "n5YlSf_sOlwB"
   },
   "source": [
    "$$y = X\\beta$$"
   ]
  },
  {
   "cell_type": "code",
   "execution_count": 40,
   "metadata": {
    "executionInfo": {
     "elapsed": 459,
     "status": "ok",
     "timestamp": 1695291342003,
     "user": {
      "displayName": "ccc flkwerkdai",
      "userId": "13507850890638580947"
     },
     "user_tz": -540
    },
    "id": "yKpIBoSwByLr"
   },
   "outputs": [],
   "source": [
    "## 포인트코드1: 네트워크 생성\n",
    "net = tf.keras.Sequential() ## step1. net을 뭐 순차적으로 만들겠다.\n",
    "\n",
    "## 포인트코드2: 네트워크의 아키텍처 설계\n",
    "net.add(tf.keras.layers.Dense(1,input_shape=(2,),use_bias=False))\n",
    "\n",
    "## 포인트코드3: 네트워크 컴파일 = 손실함수 + 옵티마이저\n",
    "net.compile(opt,loss=tf.losses.MeanSquaredError())"
   ]
  },
  {
   "cell_type": "code",
   "execution_count": 41,
   "metadata": {
    "colab": {
     "base_uri": "https://localhost:8080/"
    },
    "executionInfo": {
     "elapsed": 3906,
     "status": "ok",
     "timestamp": 1695291361797,
     "user": {
      "displayName": "ccc flkwerkdai",
      "userId": "13507850890638580947"
     },
     "user_tz": -540
    },
    "id": "hN3_nLEUJqtM",
    "outputId": "060dca4a-bebe-464b-8be8-f56d304bf0fa"
   },
   "outputs": [
    {
     "data": {
      "text/plain": [
       "<keras.src.callbacks.History at 0x7bae8de924d0>"
      ]
     },
     "execution_count": 41,
     "metadata": {},
     "output_type": "execute_result"
    }
   ],
   "source": [
    "## 포인트코드4: 미분 & update\n",
    "net.fit(X,y,epochs=1000,verbose=0,batch_size=N)"
   ]
  },
  {
   "cell_type": "code",
   "execution_count": 42,
   "metadata": {
    "colab": {
     "base_uri": "https://localhost:8080/"
    },
    "executionInfo": {
     "elapsed": 612,
     "status": "ok",
     "timestamp": 1695291365552,
     "user": {
      "displayName": "ccc flkwerkdai",
      "userId": "13507850890638580947"
     },
     "user_tz": -540
    },
    "id": "jsXyJhVICqWs",
    "outputId": "57ee3adc-3e02-4954-c1d3-eaa2317e33fb"
   },
   "outputs": [
    {
     "data": {
      "text/plain": [
       "[<tf.Variable 'dense_1/kernel:0' shape=(2, 1) dtype=float32, numpy=\n",
       " array([[2.5205722],\n",
       "        [3.924159 ]], dtype=float32)>]"
      ]
     },
     "execution_count": 42,
     "metadata": {},
     "output_type": "execute_result"
    }
   ],
   "source": [
    "net.weights"
   ]
  },
  {
   "cell_type": "code",
   "execution_count": 48,
   "metadata": {
    "colab": {
     "base_uri": "https://localhost:8080/",
     "height": 449
    },
    "executionInfo": {
     "elapsed": 5,
     "status": "ok",
     "timestamp": 1695291472164,
     "user": {
      "displayName": "ccc flkwerkdai",
      "userId": "13507850890638580947"
     },
     "user_tz": -540
    },
    "id": "wkKIVcMYPWaN",
    "outputId": "38e67fee-74b5-4646-af62-194a33dd9943"
   },
   "outputs": [
    {
     "data": {
      "text/plain": [
       "[<matplotlib.lines.Line2D at 0x7bae66c22680>]"
      ]
     },
     "execution_count": 48,
     "metadata": {},
     "output_type": "execute_result"
    },
    {
     "data": {
      "image/png": "[encoded data removed]",
      "text/plain": [
       "<Figure size 640x480 with 1 Axes>"
      ]
     },
     "metadata": {},
     "output_type": "display_data"
    }
   ],
   "source": [
    "plt.plot(x,y, \".r\",alpha= 0.3)\n",
    "plt.plot(x,2.5205722 + 3.924159*x, \".b\",alpha= 0.3)"
   ]
  },
  {
   "cell_type": "code",
   "execution_count": 49,
   "metadata": {
    "colab": {
     "base_uri": "https://localhost:8080/"
    },
    "executionInfo": {
     "elapsed": 4,
     "status": "ok",
     "timestamp": 1695291499411,
     "user": {
      "displayName": "ccc flkwerkdai",
      "userId": "13507850890638580947"
     },
     "user_tz": -540
    },
    "id": "t66SqTvTP0ER",
    "outputId": "e5be5400-41e4-4b32-dde8-ddf9647ab601"
   },
   "outputs": [
    {
     "name": "stdout",
     "output_type": "stream",
     "text": [
      "Model: \"sequential_1\"\n",
      "_________________________________________________________________\n",
      " Layer (type)                Output Shape              Param #   \n",
      "=================================================================\n",
      " dense_1 (Dense)             (None, 1)                 2         \n",
      "                                                                 \n",
      "=================================================================\n",
      "Total params: 2 (8.00 Byte)\n",
      "Trainable params: 2 (8.00 Byte)\n",
      "Non-trainable params: 0 (0.00 Byte)\n",
      "_________________________________________________________________\n"
     ]
    }
   ],
   "source": [
    "net.summary()"
   ]
  }
 ],
 "metadata": {
  "accelerator": "GPU",
  "colab": {
   "authorship_tag": "ABX9TyMhNqqWKSqnTT1Hdb7MX5se",
   "gpuType": "T4",
   "provenance": []
  },
  "kernelspec": {
   "display_name": "Python 3 (ipykernel)",
   "language": "python",
   "name": "python3"
  },
  "language_info": {
   "codemirror_mode": {
    "name": "ipython",
    "version": 3
   },
   "file_extension": ".py",
   "mimetype": "text/x-python",
   "name": "python",
   "nbconvert_exporter": "python",
   "pygments_lexer": "ipython3",
   "version": "3.11.4"
  }
 },
 "nbformat": 4,
 "nbformat_minor": 4
}
