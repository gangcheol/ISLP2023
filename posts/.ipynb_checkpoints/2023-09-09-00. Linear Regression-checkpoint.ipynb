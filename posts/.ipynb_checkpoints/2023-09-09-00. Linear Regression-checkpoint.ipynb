{
 "cells": [
  {
   "cell_type": "raw",
   "id": "807a3268-8d98-46b3-a742-fe210794923f",
   "metadata": {
    "id": "807a3268-8d98-46b3-a742-fe210794923f"
   },
   "source": [
    "---\n",
    "title : \"00. Linear Regression\"\n",
    "author : \"GC\"\n",
    "date : \"09/09/23\"\n",
    "categories : [회귀분석]\n",
    "---"
   ]
  },
  {
   "cell_type": "markdown",
   "id": "002c755d-6f19-4ce4-bbde-70f0b66f0c08",
   "metadata": {
    "id": "002c755d-6f19-4ce4-bbde-70f0b66f0c08"
   },
   "source": [
    "# import"
   ]
  },
  {
   "cell_type": "markdown",
   "id": "CmvToICe-4h6",
   "metadata": {
    "id": "CmvToICe-4h6"
   },
   "source": [
    "`-` 코랩환경에서 아래 순서대로 진행해야 `ISLP` 패키지 설치시 오류가 발생하지 않는다.\n",
    "\n",
    "1. 드라이브 마운트\n",
    "\n",
    "2. 현재 작업중인 경로로 이동\n",
    "\n",
    "3. 패키지 import"
   ]
  },
  {
   "cell_type": "markdown",
   "id": "f8cec7d8-89af-454c-91aa-789a3a5510dd",
   "metadata": {
    "colab": {
     "base_uri": "https://localhost:8080/"
    },
    "executionInfo": {
     "elapsed": 2445,
     "status": "ok",
     "timestamp": 1692418103482,
     "user": {
      "displayName": "ccc flkwerkdai",
      "userId": "13507850890638580947"
     },
     "user_tz": -540
    },
    "id": "GtR05dYV-sAF",
    "outputId": "d6b14220-8626-4801-bb60-1efac6f91bcf"
   },
   "source": [
    "```python\n",
    "from google.colab import drive\n",
    "drive.mount('/content/drive')\n",
    "```"
   ]
  },
  {
   "cell_type": "markdown",
   "id": "7b144696-edc1-440f-829a-586de0b98879",
   "metadata": {
    "colab": {
     "base_uri": "https://localhost:8080/"
    },
    "executionInfo": {
     "elapsed": 3,
     "status": "ok",
     "timestamp": 1692418108176,
     "user": {
      "displayName": "ccc flkwerkdai",
      "userId": "13507850890638580947"
     },
     "user_tz": -540
    },
    "id": "WrKlP7Wx-JJC",
    "outputId": "3bb6f575-6aab-443a-bdad-80fa983ba208"
   },
   "source": [
    "```python\n",
    "cd /content/drive/MyDrive/Colab Notebooks/ISLP/Linear Regression\n",
    "```"
   ]
  },
  {
   "cell_type": "code",
   "execution_count": 1,
   "id": "c77V1xqf96o8",
   "metadata": {
    "executionInfo": {
     "elapsed": 5,
     "status": "ok",
     "timestamp": 1692418124654,
     "user": {
      "displayName": "ccc flkwerkdai",
      "userId": "13507850890638580947"
     },
     "user_tz": -540
    },
    "id": "c77V1xqf96o8"
   },
   "outputs": [],
   "source": [
    "#pip install ISLP"
   ]
  },
  {
   "cell_type": "code",
   "execution_count": 26,
   "id": "835a1d85-8d7e-40f9-a25e-3bd9a0423f59",
   "metadata": {
    "executionInfo": {
     "elapsed": 5583,
     "status": "ok",
     "timestamp": 1692418133940,
     "user": {
      "displayName": "ccc flkwerkdai",
      "userId": "13507850890638580947"
     },
     "user_tz": -540
    },
    "id": "835a1d85-8d7e-40f9-a25e-3bd9a0423f59",
    "tags": []
   },
   "outputs": [],
   "source": [
    "import numpy as np\n",
    "import pandas as pd\n",
    "import matplotlib.pyplot as plt\n",
    "import plotly.express as px\n",
    "import plotly.io as pio\n",
    "pio.renderers.default = \"plotly_mimetype+notebook_connected\"\n",
    "\n",
    "from ISLP import load_data\n",
    "\n",
    "import statsmodels.api as sm\n",
    "\n",
    "from statsmodels.stats.outliers_influence \\\n",
    "import variance_inflation_factor as VIF\n",
    "from statsmodels.stats.anova import anova_lm\n",
    "from ISLP.models import (ModelSpec as MS,\n",
    "summarize,poly)"
   ]
  },
  {
   "cell_type": "markdown",
   "id": "1a22a766-ea9f-4e39-8efb-8ecab7871b4c",
   "metadata": {
    "id": "1a22a766-ea9f-4e39-8efb-8ecab7871b4c"
   },
   "source": [
    "# Overview"
   ]
  },
  {
   "cell_type": "markdown",
   "id": "718ade8f-2742-46e9-b4fd-78c44ea02165",
   "metadata": {
    "id": "718ade8f-2742-46e9-b4fd-78c44ea02165"
   },
   "source": [
    "`-` 정의 : 한 개의 예측변수 $x$를 이용하여 반응변수 $y$를 예측하기 위한 모델링을 수행한다."
   ]
  },
  {
   "cell_type": "markdown",
   "id": "60423e9b-f8eb-43bf-8d43-84c5bacf44fe",
   "metadata": {
    "id": "60423e9b-f8eb-43bf-8d43-84c5bacf44fe"
   },
   "source": [
    "## 표현1. 단순선형회귀"
   ]
  },
  {
   "cell_type": "markdown",
   "id": "07188d50-7d82-45e5-9158-e8f569cdfbf5",
   "metadata": {
    "id": "07188d50-7d82-45e5-9158-e8f569cdfbf5"
   },
   "source": [
    "$$\\hat {y} = \\hat {\\beta}_1x + \\hat {\\beta}_0$$"
   ]
  },
  {
   "cell_type": "markdown",
   "id": "66709679-1e68-4b4e-a587-6984730d3630",
   "metadata": {
    "id": "66709679-1e68-4b4e-a587-6984730d3630"
   },
   "source": [
    "## 표현 2 ($\\star\\star\\star$)"
   ]
  },
  {
   "cell_type": "markdown",
   "id": "2bf88928-f3a4-4691-a432-4a4dc50d19b0",
   "metadata": {
    "id": "2bf88928-f3a4-4691-a432-4a4dc50d19b0"
   },
   "source": [
    "`-` 표현 2가 자주 쓰이니 잘 알아두자."
   ]
  },
  {
   "cell_type": "markdown",
   "id": "941f0d39-50ef-42f2-a070-fdb5e23f41ec",
   "metadata": {
    "id": "941f0d39-50ef-42f2-a070-fdb5e23f41ec"
   },
   "source": [
    "$$\\bf \\hat Y = X \\hat {\\boldsymbol{\\beta}} = \\begin{bmatrix}\n",
    "1  & x_1 \\\\ 1 & x_2  \\\\ \\dots & \\dots \\\\  1  & x_n\\end{bmatrix}\\begin{bmatrix} \\hat \\beta_0  \\\\ \\hat \\beta_1 \\end{bmatrix} $$"
   ]
  },
  {
   "cell_type": "markdown",
   "id": "e24ecdee",
   "metadata": {},
   "source": [
    "## 잔차(residual)"
   ]
  },
  {
   "cell_type": "markdown",
   "id": "3a003d39",
   "metadata": {},
   "source": [
    "`-` $\\hat y_i = \\hat{\\beta_1} + \\hat {\\beta}_0x_i$는 개별 관측치 $x_i$가 주어졌을때 $i$ 번째 $y$의 추정치이다."
   ]
  },
  {
   "cell_type": "markdown",
   "id": "499e2eb1",
   "metadata": {},
   "source": [
    "`-`  잔차는 표본으로부터 추정된 예측값에서 실제값의 차이로 다음과 같이 정의한다."
   ]
  },
  {
   "cell_type": "markdown",
   "id": "2ea62146",
   "metadata": {},
   "source": [
    "$$e_i = \\hat {y}_i - y_i,  \\quad e_i \\sim N(0,\\sigma^2)$$"
   ]
  },
  {
   "cell_type": "markdown",
   "id": "69ef6477",
   "metadata": {},
   "source": [
    "`-`    그리고 책에서는 `잔차제곱합`을 다음과 같이 표현하니 눈에 익혀두자"
   ]
  },
  {
   "cell_type": "markdown",
   "id": "087ca5cb",
   "metadata": {},
   "source": [
    "$$RSS =\\sum_{i=1}^{n} e_i$$"
   ]
  },
  {
   "cell_type": "markdown",
   "id": "7fd51273",
   "metadata": {},
   "source": [
    "## 회귀계수 추정 1. 단순선형회귀"
   ]
  },
  {
   "cell_type": "markdown",
   "id": "5c648756",
   "metadata": {},
   "source": [
    "`-` 잔차제곱합을 최소로하는 $(\\beta_0, \\beta_1)$은 다음과 같은 추정치로 구해진다."
   ]
  },
  {
   "cell_type": "markdown",
   "id": "07f54ca9",
   "metadata": {},
   "source": [
    "$$\\hat{\\beta}_1= \\frac{\\sum (x-\\bar x)(y-\\bar  y)}{\\sum (x-\\bar x)^2}$$"
   ]
  },
  {
   "cell_type": "markdown",
   "id": "1edf357b",
   "metadata": {},
   "source": [
    "$$\\hat {\\beta}_0 = \\bar y - \\hat {\\beta}_1 \\bar x$$"
   ]
  },
  {
   "cell_type": "markdown",
   "id": "3246a4de",
   "metadata": {},
   "source": [
    "## 회귀계수 추정 2. 일반적인 추정"
   ]
  },
  {
   "cell_type": "markdown",
   "id": "400aae90",
   "metadata": {},
   "source": [
    "$$\\boldsymbol{\\hat \\beta} = \\bf{(X^{\\top}X)^{-1}X^{\\top}y}$$"
   ]
  },
  {
   "cell_type": "markdown",
   "id": "de24c53d",
   "metadata": {},
   "source": [
    "[회귀계수 추정 및 벡터미분](https://gangcheol.github.io/mysite/posts/Lecture/STBD/2022-03-08-(1%EC%A3%BC%EC%B0%A8).html#extra)"
   ]
  },
  {
   "cell_type": "markdown",
   "id": "7934a748",
   "metadata": {},
   "source": [
    "## 회귀계수의 신뢰구간"
   ]
  },
  {
   "cell_type": "markdown",
   "id": "2046da30",
   "metadata": {},
   "source": [
    "### 표준오차"
   ]
  },
  {
   "cell_type": "markdown",
   "id": "688fa352",
   "metadata": {},
   "source": [
    "`-` 정의 :   추정값인 표본평균들과 참값인 모평균과의 표준적인 차이"
   ]
  },
  {
   "cell_type": "markdown",
   "id": "6da46601",
   "metadata": {},
   "source": [
    "`-` 보통 모집단의 평균 $\\mu$를 추정할 때 추정치의 표준오차는 다음과 같이 정의된다."
   ]
  },
  {
   "cell_type": "markdown",
   "id": "3727dc86",
   "metadata": {},
   "source": [
    "$$\\text {Var} (\\hat {\\mu}) = \\text{SE}(\\hat {\\mu}) ^2= \\frac {\\sigma^2}{ n}$$"
   ]
  },
  {
   "cell_type": "markdown",
   "id": "1099640b",
   "metadata": {},
   "source": [
    "`-` 여기서 $\\sigma$는 표본($y_i$)으로 부터 산출된 표준편차이다. (**standard deviation**)"
   ]
  },
  {
   "cell_type": "markdown",
   "id": "4eb7bf40",
   "metadata": {},
   "source": [
    "`-` 회귀계수의 표준편차"
   ]
  },
  {
   "cell_type": "markdown",
   "id": "5cf7d7ca",
   "metadata": {},
   "source": [
    "$$\\text{SE} (\\hat {\\beta}_0)^2 = \\sigma^2 \\left [ \\frac 1n + \\frac {\\bar x^2}{\\sum (x-x_i)^2}\\right],\\quad \\text{SE} (\\hat {\\beta}_0)^2  = \\frac {\\sigma^2}{\\sum (x-\\bar x)^2}$$"
   ]
  },
  {
   "cell_type": "markdown",
   "id": "f0552780",
   "metadata": {},
   "source": [
    "### 회귀계수의 유의성 검정"
   ]
  },
  {
   "cell_type": "markdown",
   "id": "21e1b1c6",
   "metadata": {},
   "source": [
    "`-` 유의수준 $\\alpha$ 각 회귀계수의 유의성 가설은 다음과 같다."
   ]
  },
  {
   "cell_type": "markdown",
   "id": "ed8df7e7",
   "metadata": {},
   "source": [
    "$$H_0 : \\beta_i  = 0, \\quad H_1 : \\beta_i \\neq 0$$"
   ]
  },
  {
   "cell_type": "markdown",
   "id": "637776e0",
   "metadata": {},
   "source": [
    "`-` 이 가설에 대한 95% 신뢰구간은?"
   ]
  },
  {
   "cell_type": "markdown",
   "id": "f8552a0c",
   "metadata": {},
   "source": [
    "$$\\beta_i \\pm 1.96 \\cdot \\text {SE} (\\hat {\\beta}_i)$$"
   ]
  },
  {
   "cell_type": "markdown",
   "id": "e58b7695",
   "metadata": {},
   "source": [
    "`-` 사용되는 검정통계량은 $t-statistic$이다."
   ]
  },
  {
   "cell_type": "markdown",
   "id": "d460b7c3",
   "metadata": {},
   "source": [
    "$$t = \\frac {\\hat {\\beta}_i - 0}{\\text{SE}(\\hat {\\beta_i})} $$ "
   ]
  },
  {
   "cell_type": "markdown",
   "id": "c30cead4",
   "metadata": {},
   "source": [
    "### 모델평가"
   ]
  },
  {
   "cell_type": "markdown",
   "id": "d710b999",
   "metadata": {},
   "source": [
    "`1` RSE :  estimation of the standard deviation of $\\varepsilon$ : 잔차의 평균\n",
    "\n",
    "* $p$ : 예측변수의 개수"
   ]
  },
  {
   "cell_type": "markdown",
   "id": "596cdb3c",
   "metadata": {},
   "source": [
    "$$\\text{RSE} = \\sqrt {\\frac {1}{n-(p+1)} RSS}$$"
   ]
  },
  {
   "cell_type": "markdown",
   "id": "dc0d5739",
   "metadata": {},
   "source": [
    "`2`  결정 계수 :  적합한 모델이 데이터를 얼마나 잘 설명하는지 해석적 측면"
   ]
  },
  {
   "cell_type": "markdown",
   "id": "7dc764ef",
   "metadata": {},
   "source": [
    "$$R^2 = \\frac {\\text{TSS} - \\text{RSS}}{\\text{TSS}} =  1-\\frac{\\text{RSS}}{\\text{TSS}}$$"
   ]
  },
  {
   "cell_type": "markdown",
   "id": "607f7bdf",
   "metadata": {},
   "source": [
    "$$R^2_{adj} = \\frac {\\text{TSS} - \\text{RSS)}\\,/\\,(n-(p+1)}{\\text{TSS}\\,/\\,(n-1)} =  1-\\frac{\\text{RSS}}{\\text{TSS}}$$ "
   ]
  },
  {
   "cell_type": "markdown",
   "id": "8bdf2e0f",
   "metadata": {},
   "source": [
    "$$\\text{TSS} = \\sum (y_i-\\bar y)^2$$"
   ]
  },
  {
   "cell_type": "markdown",
   "id": "88d7ef66",
   "metadata": {},
   "source": [
    "### 전체 모델의 유의성 검정"
   ]
  },
  {
   "cell_type": "markdown",
   "id": "fc96d2a9",
   "metadata": {},
   "source": [
    "`-` 가설 설정"
   ]
  },
  {
   "cell_type": "markdown",
   "id": "30aa9bb2",
   "metadata": {},
   "source": [
    "$$H_0 : \\beta_1 = \\beta_1 = \\dots \\beta_p = 0, \\quad H_1  : \\text{not} \\,\\,H_0$$"
   ]
  },
  {
   "cell_type": "markdown",
   "id": "ec75a5c2",
   "metadata": {},
   "source": [
    "`-` $F-statistic$"
   ]
  },
  {
   "cell_type": "markdown",
   "id": "9a671951",
   "metadata": {},
   "source": [
    "$$F = \\frac {(TSS - RSS)\\,/\\,p}{RSS\\,/\\,(n-(p+1))}$$"
   ]
  },
  {
   "cell_type": "markdown",
   "id": "b11dce95",
   "metadata": {},
   "source": [
    "### summary"
   ]
  },
  {
   "cell_type": "markdown",
   "id": "79560b1d",
   "metadata": {},
   "source": [
    "`-`  정리하다보니 순서가 조금 엉켰지만! 회귀분석 순서는 아래의 순서로 기억하자.\n",
    "\n",
    "1. 전체 모델에 대한 유의성 검정\n",
    "\n",
    "\n",
    "2. 개별 변수에 대한 유의성 검정\n",
    "\n",
    "\n",
    "3. 결정계수값 확인\n",
    "\n",
    "\n",
    "4. 잔차분석 (이번 블로그에서는 위 내용은 생략)"
   ]
  },
  {
   "cell_type": "markdown",
   "id": "6853008e-317d-4920-a277-9691590ad216",
   "metadata": {
    "id": "6853008e-317d-4920-a277-9691590ad216"
   },
   "source": [
    "# Lab 1. 단순선형회귀"
   ]
  },
  {
   "cell_type": "markdown",
   "id": "a62fab6a-eff3-4e34-9176-7120dde690e2",
   "metadata": {
    "id": "a62fab6a-eff3-4e34-9176-7120dde690e2"
   },
   "source": [
    "## 데이터 로드"
   ]
  },
  {
   "cell_type": "markdown",
   "id": "5260ca53-8175-4bd6-9eed-7af5119db987",
   "metadata": {
    "id": "5260ca53-8175-4bd6-9eed-7af5119db987"
   },
   "source": [
    "`-` 아래의 데이터를 살펴보자."
   ]
  },
  {
   "cell_type": "markdown",
   "id": "a5635789-5ba2-4417-b114-54c772937df6",
   "metadata": {
    "id": "a5635789-5ba2-4417-b114-54c772937df6"
   },
   "source": [
    "* `Boston data` :  보스턴 시의 주택 가격에 대한 데이터 정보\n",
    "    * crim : 자치시 별 1인당 범죄율\n",
    "    * zn : 25,000 평방피트르 초과하는 거주지역의 비율\n",
    "    * indus : 비소매상업지역이 점유하고 있는 토지의 비율\n",
    "    * chas : 찰스강에 대한 더미변수 (강의 경계에 위치한 경우는 1, 아니면 0)\n",
    "    * nos : 10ppm당 농축 일산화 질소\n",
    "    * rm : 주택 1가구당 평균 방의 개수\n",
    "    * age : 1940년 이전에 건축된 소유주택의 비율\n",
    "    * dis : 5개의 보스턴 직업센터까지의 접근성 지수\n",
    "    * rad : 방사형 도로까지의 접근성 지수\n",
    "    * tax : 10,000 달러 당 재산 세율\n",
    "    * ptratio : 자치시별 학생/교사 비율\n",
    "    * lstat : 모집단의 하위 계층의 비율\n",
    "    * medv : 본인 소유의 주택가격(중앙값) (단위 : $ 1,000)"
   ]
  },
  {
   "cell_type": "code",
   "execution_count": 2,
   "id": "427014be-442a-4551-ad30-c62c261db93c",
   "metadata": {
    "colab": {
     "base_uri": "https://localhost:8080/"
    },
    "executionInfo": {
     "elapsed": 285,
     "status": "ok",
     "timestamp": 1692418295016,
     "user": {
      "displayName": "ccc flkwerkdai",
      "userId": "13507850890638580947"
     },
     "user_tz": -540
    },
    "id": "427014be-442a-4551-ad30-c62c261db93c",
    "outputId": "9149e5ae-7ea3-455e-ca53-0b3a5808dc6e",
    "tags": []
   },
   "outputs": [
    {
     "data": {
      "text/plain": [
       "Index(['crim', 'zn', 'indus', 'chas', 'nox', 'rm', 'age', 'dis', 'rad', 'tax',\n",
       "       'ptratio', 'lstat', 'medv'],\n",
       "      dtype='object')"
      ]
     },
     "execution_count": 2,
     "metadata": {},
     "output_type": "execute_result"
    }
   ],
   "source": [
    "Boston = load_data(\"Boston\")\n",
    "Boston.columns\n",
    "#len(Boston.columns)"
   ]
  },
  {
   "cell_type": "markdown",
   "id": "355b7151-b669-43fe-ad06-db7fdf0d8586",
   "metadata": {
    "id": "355b7151-b669-43fe-ad06-db7fdf0d8586"
   },
   "source": [
    "## X,y 생성"
   ]
  },
  {
   "cell_type": "markdown",
   "id": "303f96bb-4fbc-4e99-9bd6-16d4be022516",
   "metadata": {
    "id": "303f96bb-4fbc-4e99-9bd6-16d4be022516"
   },
   "source": [
    "$$\\bf X = \\begin{bmatrix}\n",
    "1  & x_1 \\\\ 1 & x_2  \\\\ \\dots & \\dots \\\\  1  & x_n\\end{bmatrix}$$"
   ]
  },
  {
   "cell_type": "markdown",
   "id": "e9429ee3-381e-4dbd-9622-eef205d6d87f",
   "metadata": {
    "id": "e9429ee3-381e-4dbd-9622-eef205d6d87f"
   },
   "source": [
    "* `lstat` 변수를 예측변수로, `medv`변수를 반응변수로 사용"
   ]
  },
  {
   "cell_type": "code",
   "execution_count": 3,
   "id": "57e77576-8419-427b-81fb-c8c997fc167c",
   "metadata": {
    "colab": {
     "base_uri": "https://localhost:8080/",
     "height": 206
    },
    "executionInfo": {
     "elapsed": 367,
     "status": "ok",
     "timestamp": 1692418296890,
     "user": {
      "displayName": "ccc flkwerkdai",
      "userId": "13507850890638580947"
     },
     "user_tz": -540
    },
    "id": "57e77576-8419-427b-81fb-c8c997fc167c",
    "outputId": "f944789d-4e28-4573-d367-427f6d4879c0",
    "tags": []
   },
   "outputs": [
    {
     "data": {
      "text/html": [
       "<div>\n",
       "<style scoped>\n",
       "    .dataframe tbody tr th:only-of-type {\n",
       "        vertical-align: middle;\n",
       "    }\n",
       "\n",
       "    .dataframe tbody tr th {\n",
       "        vertical-align: top;\n",
       "    }\n",
       "\n",
       "    .dataframe thead th {\n",
       "        text-align: right;\n",
       "    }\n",
       "</style>\n",
       "<table border=\"1\" class=\"dataframe\">\n",
       "  <thead>\n",
       "    <tr style=\"text-align: right;\">\n",
       "      <th></th>\n",
       "      <th>intercept</th>\n",
       "      <th>lstat</th>\n",
       "    </tr>\n",
       "  </thead>\n",
       "  <tbody>\n",
       "    <tr>\n",
       "      <th>0</th>\n",
       "      <td>1.0</td>\n",
       "      <td>4.98</td>\n",
       "    </tr>\n",
       "    <tr>\n",
       "      <th>1</th>\n",
       "      <td>1.0</td>\n",
       "      <td>9.14</td>\n",
       "    </tr>\n",
       "    <tr>\n",
       "      <th>2</th>\n",
       "      <td>1.0</td>\n",
       "      <td>4.03</td>\n",
       "    </tr>\n",
       "    <tr>\n",
       "      <th>3</th>\n",
       "      <td>1.0</td>\n",
       "      <td>2.94</td>\n",
       "    </tr>\n",
       "    <tr>\n",
       "      <th>4</th>\n",
       "      <td>1.0</td>\n",
       "      <td>5.33</td>\n",
       "    </tr>\n",
       "  </tbody>\n",
       "</table>\n",
       "</div>"
      ],
      "text/plain": [
       "   intercept  lstat\n",
       "0        1.0   4.98\n",
       "1        1.0   9.14\n",
       "2        1.0   4.03\n",
       "3        1.0   2.94\n",
       "4        1.0   5.33"
      ]
     },
     "execution_count": 3,
     "metadata": {},
     "output_type": "execute_result"
    }
   ],
   "source": [
    "X = pd.DataFrame({\"intercept\" : np.ones(Boston.shape[0]),\n",
    "                  \"lstat\" : Boston[\"lstat\"]})\n",
    "y = Boston[\"medv\"]\n",
    "X.head()"
   ]
  },
  {
   "cell_type": "markdown",
   "id": "060f7624-fa31-4441-bdde-0d01df8897be",
   "metadata": {
    "id": "060f7624-fa31-4441-bdde-0d01df8897be"
   },
   "source": [
    "`-` OLS : Ordinary Least Squares의 약자로, 주어진 데이터에서 오차의 제곱을 최소화하는 $\\beta_i$를 추정한다."
   ]
  },
  {
   "cell_type": "markdown",
   "id": "53b1ae1c",
   "metadata": {
    "id": "96a35fb6-193d-44eb-ab12-3b2f60a0b621"
   },
   "source": [
    "## 모델 적합"
   ]
  },
  {
   "cell_type": "code",
   "execution_count": 5,
   "id": "d91d0e18-6275-4e28-9069-2b121fcb9beb",
   "metadata": {
    "executionInfo": {
     "elapsed": 1,
     "status": "ok",
     "timestamp": 1692418298191,
     "user": {
      "displayName": "ccc flkwerkdai",
      "userId": "13507850890638580947"
     },
     "user_tz": -540
    },
    "id": "d91d0e18-6275-4e28-9069-2b121fcb9beb",
    "tags": []
   },
   "outputs": [],
   "source": [
    "model = sm.OLS(y,X)\n",
    "results = model.fit()"
   ]
  },
  {
   "cell_type": "code",
   "execution_count": 6,
   "id": "0b729f87-0ae4-4943-b831-0e94e2ed42ee",
   "metadata": {
    "executionInfo": {
     "elapsed": 458,
     "status": "ok",
     "timestamp": 1692418299090,
     "user": {
      "displayName": "ccc flkwerkdai",
      "userId": "13507850890638580947"
     },
     "user_tz": -540
    },
    "id": "0b729f87-0ae4-4943-b831-0e94e2ed42ee",
    "tags": []
   },
   "outputs": [],
   "source": [
    "s_result = summarize(results)"
   ]
  },
  {
   "cell_type": "code",
   "execution_count": 7,
   "id": "67e7fd1c-8211-4e8f-a856-4c6bce44f7d3",
   "metadata": {
    "colab": {
     "base_uri": "https://localhost:8080/",
     "height": 112
    },
    "executionInfo": {
     "elapsed": 5,
     "status": "ok",
     "timestamp": 1692418299090,
     "user": {
      "displayName": "ccc flkwerkdai",
      "userId": "13507850890638580947"
     },
     "user_tz": -540
    },
    "id": "67e7fd1c-8211-4e8f-a856-4c6bce44f7d3",
    "outputId": "9470f95a-83af-46d6-ce2d-88294e9e35dc",
    "tags": []
   },
   "outputs": [
    {
     "data": {
      "text/html": [
       "<div>\n",
       "<style scoped>\n",
       "    .dataframe tbody tr th:only-of-type {\n",
       "        vertical-align: middle;\n",
       "    }\n",
       "\n",
       "    .dataframe tbody tr th {\n",
       "        vertical-align: top;\n",
       "    }\n",
       "\n",
       "    .dataframe thead th {\n",
       "        text-align: right;\n",
       "    }\n",
       "</style>\n",
       "<table border=\"1\" class=\"dataframe\">\n",
       "  <thead>\n",
       "    <tr style=\"text-align: right;\">\n",
       "      <th></th>\n",
       "      <th>coef</th>\n",
       "      <th>std err</th>\n",
       "      <th>t</th>\n",
       "      <th>P&gt;|t|</th>\n",
       "    </tr>\n",
       "  </thead>\n",
       "  <tbody>\n",
       "    <tr>\n",
       "      <th>intercept</th>\n",
       "      <td>34.5538</td>\n",
       "      <td>0.563</td>\n",
       "      <td>61.415</td>\n",
       "      <td>0.0</td>\n",
       "    </tr>\n",
       "    <tr>\n",
       "      <th>lstat</th>\n",
       "      <td>-0.9500</td>\n",
       "      <td>0.039</td>\n",
       "      <td>-24.528</td>\n",
       "      <td>0.0</td>\n",
       "    </tr>\n",
       "  </tbody>\n",
       "</table>\n",
       "</div>"
      ],
      "text/plain": [
       "              coef  std err       t  P>|t|\n",
       "intercept  34.5538    0.563  61.415    0.0\n",
       "lstat      -0.9500    0.039 -24.528    0.0"
      ]
     },
     "execution_count": 7,
     "metadata": {},
     "output_type": "execute_result"
    }
   ],
   "source": [
    "s_result"
   ]
  },
  {
   "cell_type": "markdown",
   "id": "0ec74ec8-9ace-4a4d-bbd7-fa21d60ccbe2",
   "metadata": {
    "id": "0ec74ec8-9ace-4a4d-bbd7-fa21d60ccbe2"
   },
   "source": [
    "`-` 적합된 모델을 해석하면 다음과 같다."
   ]
  },
  {
   "cell_type": "markdown",
   "id": "c0ba3b01-088a-4314-ba23-1d763b0bcc16",
   "metadata": {
    "id": "c0ba3b01-088a-4314-ba23-1d763b0bcc16"
   },
   "source": [
    "$$\\hat {\\text{medv}} = -0.95 \\times \\text{lstat} + 34\n",
    ".5538$$"
   ]
  },
  {
   "cell_type": "markdown",
   "id": "45665236-da7b-4643-90d1-8c3520bc1275",
   "metadata": {
    "id": "45665236-da7b-4643-90d1-8c3520bc1275"
   },
   "source": [
    "## 시각화"
   ]
  },
  {
   "cell_type": "code",
   "execution_count": 8,
   "id": "235181d7-2db0-42cb-8148-688ae5fe91ea",
   "metadata": {
    "executionInfo": {
     "elapsed": 2,
     "status": "ok",
     "timestamp": 1692418300127,
     "user": {
      "displayName": "ccc flkwerkdai",
      "userId": "13507850890638580947"
     },
     "user_tz": -540
    },
    "id": "235181d7-2db0-42cb-8148-688ae5fe91ea",
    "tags": []
   },
   "outputs": [],
   "source": [
    "x = Boston[\"lstat\"]\n",
    "yhat = results.predict()"
   ]
  },
  {
   "cell_type": "code",
   "execution_count": 9,
   "id": "ac41997f-0fbc-4d5e-82e0-ea992069ddfa",
   "metadata": {
    "colab": {
     "base_uri": "https://localhost:8080/",
     "height": 448
    },
    "executionInfo": {
     "elapsed": 974,
     "status": "ok",
     "timestamp": 1692418301507,
     "user": {
      "displayName": "ccc flkwerkdai",
      "userId": "13507850890638580947"
     },
     "user_tz": -540
    },
    "id": "ac41997f-0fbc-4d5e-82e0-ea992069ddfa",
    "outputId": "a1188bb9-5489-430d-fcdd-8d16ce5e6788",
    "tags": []
   },
   "outputs": [
    {
     "data": {
      "text/plain": [
       "<matplotlib.legend.Legend at 0x163b69b88d0>"
      ]
     },
     "execution_count": 9,
     "metadata": {},
     "output_type": "execute_result"
    },
    {
     "data": {
      "image/png": "[encoded data removed]",
      "text/plain": [
       "<Figure size 640x480 with 1 Axes>"
      ]
     },
     "metadata": {},
     "output_type": "display_data"
    }
   ],
   "source": [
    "#| code-fold : true\n",
    "plt.plot(x,y,\"o\",label = r\"$(x,y)$\",alpha=0.3)\n",
    "plt.plot(x,yhat,\"--\",label = r\"$(x,\\hat {y})$\")\n",
    "plt.legend()"
   ]
  },
  {
   "cell_type": "markdown",
   "id": "4f1e174f-c17f-4c81-aa60-b46ee1ad1f91",
   "metadata": {
    "id": "4f1e174f-c17f-4c81-aa60-b46ee1ad1f91"
   },
   "source": [
    "## `ModelSpec()` ($\\star\\star\\star$)"
   ]
  },
  {
   "cell_type": "markdown",
   "id": "496d4f10-c817-45a9-b217-4a904d0c9fd7",
   "metadata": {
    "id": "496d4f10-c817-45a9-b217-4a904d0c9fd7"
   },
   "source": [
    "`-` 우리는 앞서 다음과 같은 module을 import 했다"
   ]
  },
  {
   "cell_type": "markdown",
   "id": "84189675-c28f-42ca-9846-dd73a0200d74",
   "metadata": {
    "id": "84189675-c28f-42ca-9846-dd73a0200d74"
   },
   "source": [
    "```python\n",
    "from ISLP.models import (ModelSpec as MS,\n",
    "summarize,poly)\n",
    "```"
   ]
  },
  {
   "cell_type": "markdown",
   "id": "7be121b9-1fe5-4288-9c3b-f3aa906e22bb",
   "metadata": {
    "id": "7be121b9-1fe5-4288-9c3b-f3aa906e22bb",
    "tags": []
   },
   "source": [
    "`-` ModelSpec이라는 모듈을 `MS`로 사용할 것으로 지칭"
   ]
  },
  {
   "cell_type": "markdown",
   "id": "4cccd8a1-fb01-4aea-b19e-1d910d32afa0",
   "metadata": {
    "id": "4cccd8a1-fb01-4aea-b19e-1d910d32afa0"
   },
   "source": [
    "`-` 이 모듈은 예측변수 $x$를 컴퓨터가 이해할 수 있게끔 변환해준다."
   ]
  },
  {
   "cell_type": "markdown",
   "id": "5ae4299e-b84e-4b38-8a5c-f4b4a4bf5615",
   "metadata": {
    "id": "5ae4299e-b84e-4b38-8a5c-f4b4a4bf5615"
   },
   "source": [
    "`-` step1. 전달할 $x$를 다음과 같이 전달"
   ]
  },
  {
   "cell_type": "code",
   "execution_count": 10,
   "id": "313b716d-2b97-4068-89ad-f994bd6a38cd",
   "metadata": {
    "executionInfo": {
     "elapsed": 2,
     "status": "ok",
     "timestamp": 1692418303684,
     "user": {
      "displayName": "ccc flkwerkdai",
      "userId": "13507850890638580947"
     },
     "user_tz": -540
    },
    "id": "313b716d-2b97-4068-89ad-f994bd6a38cd",
    "tags": []
   },
   "outputs": [],
   "source": [
    "design = MS(['lstat'])"
   ]
  },
  {
   "cell_type": "markdown",
   "id": "2caf5e43-67bf-4767-85ed-d8c48fc9d6f8",
   "metadata": {
    "id": "2caf5e43-67bf-4767-85ed-d8c48fc9d6f8"
   },
   "source": [
    "`-` step2. 컴퓨터가 이해할 수 있는 형태에 맞게 $x$를 변환 $\\to$ 주어진 $x$를 매트릭스 형태로 변환해줌"
   ]
  },
  {
   "cell_type": "code",
   "execution_count": 11,
   "id": "17bd6943-9ee7-4432-8a46-1d484df3d447",
   "metadata": {
    "id": "17bd6943-9ee7-4432-8a46-1d484df3d447",
    "tags": []
   },
   "outputs": [],
   "source": [
    "X = design.fit_transform(Boston)"
   ]
  },
  {
   "cell_type": "code",
   "execution_count": 12,
   "id": "5807bba0-c8a1-45bf-adcf-f1f23a48e9ed",
   "metadata": {
    "colab": {
     "base_uri": "https://localhost:8080/",
     "height": 206
    },
    "executionInfo": {
     "elapsed": 3,
     "status": "ok",
     "timestamp": 1692418304836,
     "user": {
      "displayName": "ccc flkwerkdai",
      "userId": "13507850890638580947"
     },
     "user_tz": -540
    },
    "id": "5807bba0-c8a1-45bf-adcf-f1f23a48e9ed",
    "outputId": "8397293e-2576-455b-af07-b1f872b62b59",
    "tags": []
   },
   "outputs": [
    {
     "data": {
      "text/html": [
       "<div>\n",
       "<style scoped>\n",
       "    .dataframe tbody tr th:only-of-type {\n",
       "        vertical-align: middle;\n",
       "    }\n",
       "\n",
       "    .dataframe tbody tr th {\n",
       "        vertical-align: top;\n",
       "    }\n",
       "\n",
       "    .dataframe thead th {\n",
       "        text-align: right;\n",
       "    }\n",
       "</style>\n",
       "<table border=\"1\" class=\"dataframe\">\n",
       "  <thead>\n",
       "    <tr style=\"text-align: right;\">\n",
       "      <th></th>\n",
       "      <th>intercept</th>\n",
       "      <th>lstat</th>\n",
       "    </tr>\n",
       "  </thead>\n",
       "  <tbody>\n",
       "    <tr>\n",
       "      <th>0</th>\n",
       "      <td>1.0</td>\n",
       "      <td>4.98</td>\n",
       "    </tr>\n",
       "    <tr>\n",
       "      <th>1</th>\n",
       "      <td>1.0</td>\n",
       "      <td>9.14</td>\n",
       "    </tr>\n",
       "    <tr>\n",
       "      <th>2</th>\n",
       "      <td>1.0</td>\n",
       "      <td>4.03</td>\n",
       "    </tr>\n",
       "    <tr>\n",
       "      <th>3</th>\n",
       "      <td>1.0</td>\n",
       "      <td>2.94</td>\n",
       "    </tr>\n",
       "    <tr>\n",
       "      <th>4</th>\n",
       "      <td>1.0</td>\n",
       "      <td>5.33</td>\n",
       "    </tr>\n",
       "  </tbody>\n",
       "</table>\n",
       "</div>"
      ],
      "text/plain": [
       "   intercept  lstat\n",
       "0        1.0   4.98\n",
       "1        1.0   9.14\n",
       "2        1.0   4.03\n",
       "3        1.0   2.94\n",
       "4        1.0   5.33"
      ]
     },
     "execution_count": 12,
     "metadata": {},
     "output_type": "execute_result"
    }
   ],
   "source": [
    "X.head()"
   ]
  },
  {
   "cell_type": "markdown",
   "id": "ede29a39-1862-4186-b711-c1555712cd93",
   "metadata": {
    "id": "ede29a39-1862-4186-b711-c1555712cd93"
   },
   "source": [
    "### 모델 적합"
   ]
  },
  {
   "cell_type": "code",
   "execution_count": 13,
   "id": "2819b70a-262a-439c-a46f-651d92520e2c",
   "metadata": {
    "executionInfo": {
     "elapsed": 1,
     "status": "ok",
     "timestamp": 1692418305709,
     "user": {
      "displayName": "ccc flkwerkdai",
      "userId": "13507850890638580947"
     },
     "user_tz": -540
    },
    "id": "2819b70a-262a-439c-a46f-651d92520e2c",
    "tags": []
   },
   "outputs": [],
   "source": [
    "model = sm.OLS(y, X)\n",
    "results = model.fit()"
   ]
  },
  {
   "cell_type": "markdown",
   "id": "cc70dbe8-b6a5-488f-9630-6da0ed637c7a",
   "metadata": {
    "id": "cc70dbe8-b6a5-488f-9630-6da0ed637c7a"
   },
   "source": [
    "### 모델 요약"
   ]
  },
  {
   "cell_type": "code",
   "execution_count": 14,
   "id": "d1d08c06-cfd3-4601-827d-7d9145d9c0f4",
   "metadata": {
    "executionInfo": {
     "elapsed": 282,
     "status": "ok",
     "timestamp": 1692418306910,
     "user": {
      "displayName": "ccc flkwerkdai",
      "userId": "13507850890638580947"
     },
     "user_tz": -540
    },
    "id": "d1d08c06-cfd3-4601-827d-7d9145d9c0f4",
    "tags": []
   },
   "outputs": [],
   "source": [
    "report = results.summary()"
   ]
  },
  {
   "cell_type": "code",
   "execution_count": 15,
   "id": "e966562c-e7d4-4717-b8ff-11ab8559b505",
   "metadata": {
    "colab": {
     "base_uri": "https://localhost:8080/",
     "height": 226
    },
    "executionInfo": {
     "elapsed": 3,
     "status": "ok",
     "timestamp": 1692418307229,
     "user": {
      "displayName": "ccc flkwerkdai",
      "userId": "13507850890638580947"
     },
     "user_tz": -540
    },
    "id": "e966562c-e7d4-4717-b8ff-11ab8559b505",
    "outputId": "8fa53537-4f7e-4944-d85c-08a7080c4240",
    "tags": []
   },
   "outputs": [
    {
     "data": {
      "text/html": [
       "<table class=\"simpletable\">\n",
       "<caption>OLS Regression Results</caption>\n",
       "<tr>\n",
       "  <th>Dep. Variable:</th>          <td>medv</td>       <th>  R-squared:         </th> <td>   0.544</td>\n",
       "</tr>\n",
       "<tr>\n",
       "  <th>Model:</th>                   <td>OLS</td>       <th>  Adj. R-squared:    </th> <td>   0.543</td>\n",
       "</tr>\n",
       "<tr>\n",
       "  <th>Method:</th>             <td>Least Squares</td>  <th>  F-statistic:       </th> <td>   601.6</td>\n",
       "</tr>\n",
       "<tr>\n",
       "  <th>Date:</th>             <td>Sat, 09 Sep 2023</td> <th>  Prob (F-statistic):</th> <td>5.08e-88</td>\n",
       "</tr>\n",
       "<tr>\n",
       "  <th>Time:</th>                 <td>12:11:20</td>     <th>  Log-Likelihood:    </th> <td> -1641.5</td>\n",
       "</tr>\n",
       "<tr>\n",
       "  <th>No. Observations:</th>      <td>   506</td>      <th>  AIC:               </th> <td>   3287.</td>\n",
       "</tr>\n",
       "<tr>\n",
       "  <th>Df Residuals:</th>          <td>   504</td>      <th>  BIC:               </th> <td>   3295.</td>\n",
       "</tr>\n",
       "<tr>\n",
       "  <th>Df Model:</th>              <td>     1</td>      <th>                     </th>     <td> </td>   \n",
       "</tr>\n",
       "<tr>\n",
       "  <th>Covariance Type:</th>      <td>nonrobust</td>    <th>                     </th>     <td> </td>   \n",
       "</tr>\n",
       "</table>"
      ],
      "text/latex": [
       "\\begin{center}\n",
       "\\begin{tabular}{lclc}\n",
       "\\toprule\n",
       "\\textbf{Dep. Variable:}    &       medv       & \\textbf{  R-squared:         } &    0.544  \\\\\n",
       "\\textbf{Model:}            &       OLS        & \\textbf{  Adj. R-squared:    } &    0.543  \\\\\n",
       "\\textbf{Method:}           &  Least Squares   & \\textbf{  F-statistic:       } &    601.6  \\\\\n",
       "\\textbf{Date:}             & Sat, 09 Sep 2023 & \\textbf{  Prob (F-statistic):} & 5.08e-88  \\\\\n",
       "\\textbf{Time:}             &     12:11:20     & \\textbf{  Log-Likelihood:    } &  -1641.5  \\\\\n",
       "\\textbf{No. Observations:} &         506      & \\textbf{  AIC:               } &    3287.  \\\\\n",
       "\\textbf{Df Residuals:}     &         504      & \\textbf{  BIC:               } &    3295.  \\\\\n",
       "\\textbf{Df Model:}         &           1      & \\textbf{                     } &           \\\\\n",
       "\\textbf{Covariance Type:}  &    nonrobust     & \\textbf{                     } &           \\\\\n",
       "\\bottomrule\n",
       "\\end{tabular}\n",
       "%\\caption{OLS Regression Results}\n",
       "\\end{center}"
      ],
      "text/plain": [
       "<class 'statsmodels.iolib.table.SimpleTable'>"
      ]
     },
     "execution_count": 15,
     "metadata": {},
     "output_type": "execute_result"
    }
   ],
   "source": [
    "report.tables[0]"
   ]
  },
  {
   "cell_type": "markdown",
   "id": "32380d1a-f00b-4d71-8fe1-3bab4fc8f53d",
   "metadata": {
    "id": "32380d1a-f00b-4d71-8fe1-3bab4fc8f53d"
   },
   "source": [
    "`-` 이런식으로 위의 표에 대한 데이터도 확인할 수 있음"
   ]
  },
  {
   "cell_type": "code",
   "execution_count": 16,
   "id": "b4a1650b-9613-4b22-9824-d69b06181b49",
   "metadata": {
    "colab": {
     "base_uri": "https://localhost:8080/"
    },
    "executionInfo": {
     "elapsed": 2,
     "status": "ok",
     "timestamp": 1692418308330,
     "user": {
      "displayName": "ccc flkwerkdai",
      "userId": "13507850890638580947"
     },
     "user_tz": -540
    },
    "id": "b4a1650b-9613-4b22-9824-d69b06181b49",
    "outputId": "4eaf52f9-81bb-41d0-aa92-75e999ad92bb",
    "tags": []
   },
   "outputs": [
    {
     "data": {
      "text/plain": [
       "[['Dep. Variable:', 'medv', '  R-squared:         ', '   0.544'],\n",
       " ['Model:', 'OLS', '  Adj. R-squared:    ', '   0.543'],\n",
       " ['Method:', 'Least Squares', '  F-statistic:       ', '   601.6'],\n",
       " ['Date:', 'Sat, 09 Sep 2023', '  Prob (F-statistic):', '5.08e-88'],\n",
       " ['Time:', '12:11:20', '  Log-Likelihood:    ', ' -1641.5'],\n",
       " ['No. Observations:', '   506', '  AIC:               ', '   3287.'],\n",
       " ['Df Residuals:', '   504', '  BIC:               ', '   3295.'],\n",
       " ['Df Model:', '     1', '                     ', ' '],\n",
       " ['Covariance Type:', 'nonrobust', '                     ', ' ']]"
      ]
     },
     "execution_count": 16,
     "metadata": {},
     "output_type": "execute_result"
    }
   ],
   "source": [
    "report.tables[0].data"
   ]
  },
  {
   "cell_type": "markdown",
   "id": "ca75c01e-43d4-4e6d-b7cb-b9d9cd2191b5",
   "metadata": {
    "id": "ca75c01e-43d4-4e6d-b7cb-b9d9cd2191b5"
   },
   "source": [
    "`-` 추정된 회귀계수값 확인"
   ]
  },
  {
   "cell_type": "code",
   "execution_count": 17,
   "id": "aec8dce8-43ab-4e98-8ab5-f133769d5921",
   "metadata": {
    "colab": {
     "base_uri": "https://localhost:8080/"
    },
    "executionInfo": {
     "elapsed": 1,
     "status": "ok",
     "timestamp": 1692418309619,
     "user": {
      "displayName": "ccc flkwerkdai",
      "userId": "13507850890638580947"
     },
     "user_tz": -540
    },
    "id": "aec8dce8-43ab-4e98-8ab5-f133769d5921",
    "outputId": "d2d63192-13b9-46d4-b4c3-4d54e5792013",
    "tags": []
   },
   "outputs": [
    {
     "data": {
      "text/plain": [
       "intercept    34.553841\n",
       "lstat        -0.950049\n",
       "dtype: float64"
      ]
     },
     "execution_count": 17,
     "metadata": {},
     "output_type": "execute_result"
    }
   ],
   "source": [
    "results.params"
   ]
  },
  {
   "cell_type": "markdown",
   "id": "d96d950e-9f49-4c72-945c-6168ce4326f9",
   "metadata": {
    "id": "d96d950e-9f49-4c72-945c-6168ce4326f9"
   },
   "source": [
    "### 모델 해석1 (모델의 유의성)"
   ]
  },
  {
   "cell_type": "code",
   "execution_count": 18,
   "id": "3d83dad6-9af6-4bc8-88fe-dff9edba6830",
   "metadata": {
    "colab": {
     "base_uri": "https://localhost:8080/",
     "height": 226
    },
    "executionInfo": {
     "elapsed": 449,
     "status": "ok",
     "timestamp": 1692418310485,
     "user": {
      "displayName": "ccc flkwerkdai",
      "userId": "13507850890638580947"
     },
     "user_tz": -540
    },
    "id": "3d83dad6-9af6-4bc8-88fe-dff9edba6830",
    "outputId": "e25bd048-2142-4031-d092-dff498233970",
    "tags": []
   },
   "outputs": [
    {
     "data": {
      "text/html": [
       "<table class=\"simpletable\">\n",
       "<caption>OLS Regression Results</caption>\n",
       "<tr>\n",
       "  <th>Dep. Variable:</th>          <td>medv</td>       <th>  R-squared:         </th> <td>   0.544</td>\n",
       "</tr>\n",
       "<tr>\n",
       "  <th>Model:</th>                   <td>OLS</td>       <th>  Adj. R-squared:    </th> <td>   0.543</td>\n",
       "</tr>\n",
       "<tr>\n",
       "  <th>Method:</th>             <td>Least Squares</td>  <th>  F-statistic:       </th> <td>   601.6</td>\n",
       "</tr>\n",
       "<tr>\n",
       "  <th>Date:</th>             <td>Sat, 09 Sep 2023</td> <th>  Prob (F-statistic):</th> <td>5.08e-88</td>\n",
       "</tr>\n",
       "<tr>\n",
       "  <th>Time:</th>                 <td>12:11:20</td>     <th>  Log-Likelihood:    </th> <td> -1641.5</td>\n",
       "</tr>\n",
       "<tr>\n",
       "  <th>No. Observations:</th>      <td>   506</td>      <th>  AIC:               </th> <td>   3287.</td>\n",
       "</tr>\n",
       "<tr>\n",
       "  <th>Df Residuals:</th>          <td>   504</td>      <th>  BIC:               </th> <td>   3295.</td>\n",
       "</tr>\n",
       "<tr>\n",
       "  <th>Df Model:</th>              <td>     1</td>      <th>                     </th>     <td> </td>   \n",
       "</tr>\n",
       "<tr>\n",
       "  <th>Covariance Type:</th>      <td>nonrobust</td>    <th>                     </th>     <td> </td>   \n",
       "</tr>\n",
       "</table>"
      ],
      "text/latex": [
       "\\begin{center}\n",
       "\\begin{tabular}{lclc}\n",
       "\\toprule\n",
       "\\textbf{Dep. Variable:}    &       medv       & \\textbf{  R-squared:         } &    0.544  \\\\\n",
       "\\textbf{Model:}            &       OLS        & \\textbf{  Adj. R-squared:    } &    0.543  \\\\\n",
       "\\textbf{Method:}           &  Least Squares   & \\textbf{  F-statistic:       } &    601.6  \\\\\n",
       "\\textbf{Date:}             & Sat, 09 Sep 2023 & \\textbf{  Prob (F-statistic):} & 5.08e-88  \\\\\n",
       "\\textbf{Time:}             &     12:11:20     & \\textbf{  Log-Likelihood:    } &  -1641.5  \\\\\n",
       "\\textbf{No. Observations:} &         506      & \\textbf{  AIC:               } &    3287.  \\\\\n",
       "\\textbf{Df Residuals:}     &         504      & \\textbf{  BIC:               } &    3295.  \\\\\n",
       "\\textbf{Df Model:}         &           1      & \\textbf{                     } &           \\\\\n",
       "\\textbf{Covariance Type:}  &    nonrobust     & \\textbf{                     } &           \\\\\n",
       "\\bottomrule\n",
       "\\end{tabular}\n",
       "%\\caption{OLS Regression Results}\n",
       "\\end{center}"
      ],
      "text/plain": [
       "<class 'statsmodels.iolib.table.SimpleTable'>"
      ]
     },
     "execution_count": 18,
     "metadata": {},
     "output_type": "execute_result"
    }
   ],
   "source": [
    "report.tables[0]"
   ]
  },
  {
   "cell_type": "markdown",
   "id": "8eb1f7b5-533c-433c-a9d8-9f3fc5d2ad11",
   "metadata": {
    "id": "8eb1f7b5-533c-433c-a9d8-9f3fc5d2ad11"
   },
   "source": [
    "`-` 결정계수 ($R^2$) 값을 살펴보니 약 54%의 설명력을 가진 모델이다."
   ]
  },
  {
   "cell_type": "markdown",
   "id": "f550d31e-17bf-4dd3-bdce-ae357bd0ee02",
   "metadata": {
    "id": "f550d31e-17bf-4dd3-bdce-ae357bd0ee02",
    "tags": []
   },
   "source": [
    "`-` 또한, F통계량에 근거한 `p-value` 값을 살펴보았을 때 주어진 표본으로 부터 추출된 모형은 통계적으로 유의하다."
   ]
  },
  {
   "cell_type": "markdown",
   "id": "e1d69ef5-b465-4cfc-9910-4461edf367a8",
   "metadata": {
    "id": "e1d69ef5-b465-4cfc-9910-4461edf367a8"
   },
   "source": [
    "### 모델 해석2 (예측변수의 유의성)"
   ]
  },
  {
   "cell_type": "code",
   "execution_count": 19,
   "id": "10db0a0d-cca0-412a-ac1a-bcba982e6cdf",
   "metadata": {
    "colab": {
     "base_uri": "https://localhost:8080/",
     "height": 82
    },
    "executionInfo": {
     "elapsed": 306,
     "status": "ok",
     "timestamp": 1692418312489,
     "user": {
      "displayName": "ccc flkwerkdai",
      "userId": "13507850890638580947"
     },
     "user_tz": -540
    },
    "id": "10db0a0d-cca0-412a-ac1a-bcba982e6cdf",
    "outputId": "0ff19035-9a00-4847-e0cd-9e77a47b84b9",
    "tags": []
   },
   "outputs": [
    {
     "data": {
      "text/html": [
       "<table class=\"simpletable\">\n",
       "<tr>\n",
       "      <td></td>         <th>coef</th>     <th>std err</th>      <th>t</th>      <th>P>|t|</th>  <th>[0.025</th>    <th>0.975]</th>  \n",
       "</tr>\n",
       "<tr>\n",
       "  <th>intercept</th> <td>   34.5538</td> <td>    0.563</td> <td>   61.415</td> <td> 0.000</td> <td>   33.448</td> <td>   35.659</td>\n",
       "</tr>\n",
       "<tr>\n",
       "  <th>lstat</th>     <td>   -0.9500</td> <td>    0.039</td> <td>  -24.528</td> <td> 0.000</td> <td>   -1.026</td> <td>   -0.874</td>\n",
       "</tr>\n",
       "</table>"
      ],
      "text/latex": [
       "\\begin{center}\n",
       "\\begin{tabular}{lcccccc}\n",
       "\\toprule\n",
       "                   & \\textbf{coef} & \\textbf{std err} & \\textbf{t} & \\textbf{P$> |$t$|$} & \\textbf{[0.025} & \\textbf{0.975]}  \\\\\n",
       "\\midrule\n",
       "\\textbf{intercept} &      34.5538  &        0.563     &    61.415  &         0.000        &       33.448    &       35.659     \\\\\n",
       "\\textbf{lstat}     &      -0.9500  &        0.039     &   -24.528  &         0.000        &       -1.026    &       -0.874     \\\\\n",
       "\\bottomrule\n",
       "\\end{tabular}\n",
       "\\end{center}"
      ],
      "text/plain": [
       "<class 'statsmodels.iolib.table.SimpleTable'>"
      ]
     },
     "execution_count": 19,
     "metadata": {},
     "output_type": "execute_result"
    }
   ],
   "source": [
    "report.tables[1]"
   ]
  },
  {
   "cell_type": "markdown",
   "id": "19af0d79-6fcf-4321-a9f8-b5f4dbf393b3",
   "metadata": {
    "id": "19af0d79-6fcf-4321-a9f8-b5f4dbf393b3"
   },
   "source": [
    "`-` `lstat`의 coef $\\to$ 즉, 회귀계수에 대한 유의성 검정결과"
   ]
  },
  {
   "cell_type": "markdown",
   "id": "cea75a53-68d7-45d4-9070-a5942206dc79",
   "metadata": {
    "id": "cea75a53-68d7-45d4-9070-a5942206dc79"
   },
   "source": [
    "* `p-value`값을 살펴본 결과 유의수준 0.05에서 유의성을 만족한다. 따라서 `lstat`의 회귀계수는 통계적으로 유의하다."
   ]
  },
  {
   "cell_type": "markdown",
   "id": "31ba94c1-fbdc-42bf-83f1-2fd658ce3aa7",
   "metadata": {
    "id": "31ba94c1-fbdc-42bf-83f1-2fd658ce3aa7"
   },
   "source": [
    "### 시각화"
   ]
  },
  {
   "cell_type": "code",
   "execution_count": 20,
   "id": "e42086e2-aa45-49c3-86dc-db333dd89799",
   "metadata": {
    "executionInfo": {
     "elapsed": 279,
     "status": "ok",
     "timestamp": 1692418313976,
     "user": {
      "displayName": "ccc flkwerkdai",
      "userId": "13507850890638580947"
     },
     "user_tz": -540
    },
    "id": "e42086e2-aa45-49c3-86dc-db333dd89799",
    "tags": []
   },
   "outputs": [],
   "source": [
    "yhat = results.predict()\n",
    "x = X[\"lstat\"]"
   ]
  },
  {
   "cell_type": "markdown",
   "id": "d6b37ddc-443e-41a6-a787-086675b84681",
   "metadata": {
    "id": "d6b37ddc-443e-41a6-a787-086675b84681"
   },
   "source": [
    "`-` 적합된 $(x,\\hat y)$와 $(x,y)$를 시각화한 결과 몇몇 이상치를 제외하고 잘 예측하고 있는것 같다."
   ]
  },
  {
   "cell_type": "code",
   "execution_count": 21,
   "id": "2e61fe3c-0486-450e-8bb7-fd2fea5a7059",
   "metadata": {
    "colab": {
     "base_uri": "https://localhost:8080/",
     "height": 448
    },
    "executionInfo": {
     "elapsed": 1102,
     "status": "ok",
     "timestamp": 1692418316354,
     "user": {
      "displayName": "ccc flkwerkdai",
      "userId": "13507850890638580947"
     },
     "user_tz": -540
    },
    "id": "2e61fe3c-0486-450e-8bb7-fd2fea5a7059",
    "outputId": "72809662-e872-4986-c0e4-1e63a2d4b76f",
    "tags": []
   },
   "outputs": [
    {
     "data": {
      "text/plain": [
       "<matplotlib.legend.Legend at 0x163b6c7cd10>"
      ]
     },
     "execution_count": 21,
     "metadata": {},
     "output_type": "execute_result"
    },
    {
     "data": {
      "image/png": "[encoded data removed]",
      "text/plain": [
       "<Figure size 640x480 with 1 Axes>"
      ]
     },
     "metadata": {},
     "output_type": "display_data"
    }
   ],
   "source": [
    "#| code-fold : true\n",
    "plt.plot(x,y,\"o\",label = r\"$(x,y)$\",alpha=0.3)\n",
    "plt.plot(x,yhat,\"--\",label = r\"$(x,\\hat {y})$\")\n",
    "plt.legend()"
   ]
  },
  {
   "cell_type": "markdown",
   "id": "6141f59a",
   "metadata": {},
   "source": [
    "# Lab 2. 다중선형회귀"
   ]
  },
  {
   "cell_type": "markdown",
   "id": "801a3dbf",
   "metadata": {},
   "source": [
    "`-` 이번에는 `lstat`, `age`를 예측 변수 $\\bf X$로 선언하고, 반응변수를 `medv`로 선언하고 개별 회귀계수의 유의성 검정\n",
    "\n",
    "* 음.... 모두 유의미하게 나왔음!"
   ]
  },
  {
   "cell_type": "code",
   "execution_count": 25,
   "id": "71f6882f",
   "metadata": {},
   "outputs": [
    {
     "data": {
      "text/html": [
       "<div>\n",
       "<style scoped>\n",
       "    .dataframe tbody tr th:only-of-type {\n",
       "        vertical-align: middle;\n",
       "    }\n",
       "\n",
       "    .dataframe tbody tr th {\n",
       "        vertical-align: top;\n",
       "    }\n",
       "\n",
       "    .dataframe thead th {\n",
       "        text-align: right;\n",
       "    }\n",
       "</style>\n",
       "<table border=\"1\" class=\"dataframe\">\n",
       "  <thead>\n",
       "    <tr style=\"text-align: right;\">\n",
       "      <th></th>\n",
       "      <th>coef</th>\n",
       "      <th>std err</th>\n",
       "      <th>t</th>\n",
       "      <th>P&gt;|t|</th>\n",
       "    </tr>\n",
       "  </thead>\n",
       "  <tbody>\n",
       "    <tr>\n",
       "      <th>intercept</th>\n",
       "      <td>33.2228</td>\n",
       "      <td>0.731</td>\n",
       "      <td>45.458</td>\n",
       "      <td>0.000</td>\n",
       "    </tr>\n",
       "    <tr>\n",
       "      <th>lstat</th>\n",
       "      <td>-1.0321</td>\n",
       "      <td>0.048</td>\n",
       "      <td>-21.416</td>\n",
       "      <td>0.000</td>\n",
       "    </tr>\n",
       "    <tr>\n",
       "      <th>age</th>\n",
       "      <td>0.0345</td>\n",
       "      <td>0.012</td>\n",
       "      <td>2.826</td>\n",
       "      <td>0.005</td>\n",
       "    </tr>\n",
       "  </tbody>\n",
       "</table>\n",
       "</div>"
      ],
      "text/plain": [
       "              coef  std err       t  P>|t|\n",
       "intercept  33.2228    0.731  45.458  0.000\n",
       "lstat      -1.0321    0.048 -21.416  0.000\n",
       "age         0.0345    0.012   2.826  0.005"
      ]
     },
     "execution_count": 25,
     "metadata": {},
     "output_type": "execute_result"
    }
   ],
   "source": [
    "X =MS([\"lstat\",\"age\"]).fit_transform(Boston)\n",
    "\n",
    "model1 = sm.OLS(y,X)\n",
    "results1 = model1.fit()\n",
    "summarize(results1)"
   ]
  },
  {
   "cell_type": "markdown",
   "id": "bdd3fc61",
   "metadata": {},
   "source": [
    "`-` 이번엔 반응변수를 제외한 모든 변수를 사용"
   ]
  },
  {
   "cell_type": "code",
   "execution_count": 28,
   "id": "538fd521",
   "metadata": {},
   "outputs": [
    {
     "data": {
      "text/plain": [
       "Index(['crim', 'zn', 'indus', 'chas', 'nox', 'rm', 'age', 'dis', 'rad', 'tax',\n",
       "       'ptratio', 'lstat'],\n",
       "      dtype='object')"
      ]
     },
     "execution_count": 28,
     "metadata": {},
     "output_type": "execute_result"
    }
   ],
   "source": [
    "terms = Boston.columns.drop(\"medv\")\n",
    "terms"
   ]
  },
  {
   "cell_type": "code",
   "execution_count": 29,
   "id": "4bef263f",
   "metadata": {},
   "outputs": [
    {
     "data": {
      "text/html": [
       "<div>\n",
       "<style scoped>\n",
       "    .dataframe tbody tr th:only-of-type {\n",
       "        vertical-align: middle;\n",
       "    }\n",
       "\n",
       "    .dataframe tbody tr th {\n",
       "        vertical-align: top;\n",
       "    }\n",
       "\n",
       "    .dataframe thead th {\n",
       "        text-align: right;\n",
       "    }\n",
       "</style>\n",
       "<table border=\"1\" class=\"dataframe\">\n",
       "  <thead>\n",
       "    <tr style=\"text-align: right;\">\n",
       "      <th></th>\n",
       "      <th>coef</th>\n",
       "      <th>std err</th>\n",
       "      <th>t</th>\n",
       "      <th>P&gt;|t|</th>\n",
       "    </tr>\n",
       "  </thead>\n",
       "  <tbody>\n",
       "    <tr>\n",
       "      <th>intercept</th>\n",
       "      <td>41.6173</td>\n",
       "      <td>4.936</td>\n",
       "      <td>8.431</td>\n",
       "      <td>0.000</td>\n",
       "    </tr>\n",
       "    <tr>\n",
       "      <th>crim</th>\n",
       "      <td>-0.1214</td>\n",
       "      <td>0.033</td>\n",
       "      <td>-3.678</td>\n",
       "      <td>0.000</td>\n",
       "    </tr>\n",
       "    <tr>\n",
       "      <th>zn</th>\n",
       "      <td>0.0470</td>\n",
       "      <td>0.014</td>\n",
       "      <td>3.384</td>\n",
       "      <td>0.001</td>\n",
       "    </tr>\n",
       "    <tr>\n",
       "      <th>indus</th>\n",
       "      <td>0.0135</td>\n",
       "      <td>0.062</td>\n",
       "      <td>0.217</td>\n",
       "      <td>0.829</td>\n",
       "    </tr>\n",
       "    <tr>\n",
       "      <th>chas</th>\n",
       "      <td>2.8400</td>\n",
       "      <td>0.870</td>\n",
       "      <td>3.264</td>\n",
       "      <td>0.001</td>\n",
       "    </tr>\n",
       "    <tr>\n",
       "      <th>nox</th>\n",
       "      <td>-18.7580</td>\n",
       "      <td>3.851</td>\n",
       "      <td>-4.870</td>\n",
       "      <td>0.000</td>\n",
       "    </tr>\n",
       "    <tr>\n",
       "      <th>rm</th>\n",
       "      <td>3.6581</td>\n",
       "      <td>0.420</td>\n",
       "      <td>8.705</td>\n",
       "      <td>0.000</td>\n",
       "    </tr>\n",
       "    <tr>\n",
       "      <th>age</th>\n",
       "      <td>0.0036</td>\n",
       "      <td>0.013</td>\n",
       "      <td>0.271</td>\n",
       "      <td>0.787</td>\n",
       "    </tr>\n",
       "    <tr>\n",
       "      <th>dis</th>\n",
       "      <td>-1.4908</td>\n",
       "      <td>0.202</td>\n",
       "      <td>-7.394</td>\n",
       "      <td>0.000</td>\n",
       "    </tr>\n",
       "    <tr>\n",
       "      <th>rad</th>\n",
       "      <td>0.2894</td>\n",
       "      <td>0.067</td>\n",
       "      <td>4.325</td>\n",
       "      <td>0.000</td>\n",
       "    </tr>\n",
       "    <tr>\n",
       "      <th>tax</th>\n",
       "      <td>-0.0127</td>\n",
       "      <td>0.004</td>\n",
       "      <td>-3.337</td>\n",
       "      <td>0.001</td>\n",
       "    </tr>\n",
       "    <tr>\n",
       "      <th>ptratio</th>\n",
       "      <td>-0.9375</td>\n",
       "      <td>0.132</td>\n",
       "      <td>-7.091</td>\n",
       "      <td>0.000</td>\n",
       "    </tr>\n",
       "    <tr>\n",
       "      <th>lstat</th>\n",
       "      <td>-0.5520</td>\n",
       "      <td>0.051</td>\n",
       "      <td>-10.897</td>\n",
       "      <td>0.000</td>\n",
       "    </tr>\n",
       "  </tbody>\n",
       "</table>\n",
       "</div>"
      ],
      "text/plain": [
       "              coef  std err       t  P>|t|\n",
       "intercept  41.6173    4.936   8.431  0.000\n",
       "crim       -0.1214    0.033  -3.678  0.000\n",
       "zn          0.0470    0.014   3.384  0.001\n",
       "indus       0.0135    0.062   0.217  0.829\n",
       "chas        2.8400    0.870   3.264  0.001\n",
       "nox       -18.7580    3.851  -4.870  0.000\n",
       "rm          3.6581    0.420   8.705  0.000\n",
       "age         0.0036    0.013   0.271  0.787\n",
       "dis        -1.4908    0.202  -7.394  0.000\n",
       "rad         0.2894    0.067   4.325  0.000\n",
       "tax        -0.0127    0.004  -3.337  0.001\n",
       "ptratio    -0.9375    0.132  -7.091  0.000\n",
       "lstat      -0.5520    0.051 -10.897  0.000"
      ]
     },
     "execution_count": 29,
     "metadata": {},
     "output_type": "execute_result"
    }
   ],
   "source": [
    "X = MS(terms).fit_transform(Boston)\n",
    "model = sm.OLS(y, X)\n",
    "\n",
    "results = model.fit()\n",
    "summarize(results)"
   ]
  },
  {
   "cell_type": "markdown",
   "id": "b4283c31",
   "metadata": {},
   "source": [
    "`-` 모델 적합결과 : `indus, age` 변수를 제외하고 모든 변수의 회귀계수가 유의미하게 나왔다."
   ]
  },
  {
   "cell_type": "markdown",
   "id": "6a476642",
   "metadata": {},
   "source": [
    "`-` 근데, 우리는 유의미하게 나오지 않은 변수를 제외하고 모델을 만들고 싶음."
   ]
  },
  {
   "cell_type": "code",
   "execution_count": 35,
   "id": "024e631e",
   "metadata": {},
   "outputs": [
    {
     "data": {
      "text/html": [
       "<div>\n",
       "<style scoped>\n",
       "    .dataframe tbody tr th:only-of-type {\n",
       "        vertical-align: middle;\n",
       "    }\n",
       "\n",
       "    .dataframe tbody tr th {\n",
       "        vertical-align: top;\n",
       "    }\n",
       "\n",
       "    .dataframe thead th {\n",
       "        text-align: right;\n",
       "    }\n",
       "</style>\n",
       "<table border=\"1\" class=\"dataframe\">\n",
       "  <thead>\n",
       "    <tr style=\"text-align: right;\">\n",
       "      <th></th>\n",
       "      <th>coef</th>\n",
       "      <th>std err</th>\n",
       "      <th>t</th>\n",
       "      <th>P&gt;|t|</th>\n",
       "    </tr>\n",
       "  </thead>\n",
       "  <tbody>\n",
       "    <tr>\n",
       "      <th>intercept</th>\n",
       "      <td>41.4517</td>\n",
       "      <td>4.903</td>\n",
       "      <td>8.454</td>\n",
       "      <td>0.000</td>\n",
       "    </tr>\n",
       "    <tr>\n",
       "      <th>crim</th>\n",
       "      <td>-0.1217</td>\n",
       "      <td>0.033</td>\n",
       "      <td>-3.696</td>\n",
       "      <td>0.000</td>\n",
       "    </tr>\n",
       "    <tr>\n",
       "      <th>zn</th>\n",
       "      <td>0.0462</td>\n",
       "      <td>0.014</td>\n",
       "      <td>3.378</td>\n",
       "      <td>0.001</td>\n",
       "    </tr>\n",
       "    <tr>\n",
       "      <th>chas</th>\n",
       "      <td>2.8719</td>\n",
       "      <td>0.863</td>\n",
       "      <td>3.329</td>\n",
       "      <td>0.001</td>\n",
       "    </tr>\n",
       "    <tr>\n",
       "      <th>nox</th>\n",
       "      <td>-18.2624</td>\n",
       "      <td>3.565</td>\n",
       "      <td>-5.122</td>\n",
       "      <td>0.000</td>\n",
       "    </tr>\n",
       "    <tr>\n",
       "      <th>rm</th>\n",
       "      <td>3.6730</td>\n",
       "      <td>0.409</td>\n",
       "      <td>8.978</td>\n",
       "      <td>0.000</td>\n",
       "    </tr>\n",
       "    <tr>\n",
       "      <th>dis</th>\n",
       "      <td>-1.5160</td>\n",
       "      <td>0.188</td>\n",
       "      <td>-8.078</td>\n",
       "      <td>0.000</td>\n",
       "    </tr>\n",
       "    <tr>\n",
       "      <th>rad</th>\n",
       "      <td>0.2839</td>\n",
       "      <td>0.064</td>\n",
       "      <td>4.440</td>\n",
       "      <td>0.000</td>\n",
       "    </tr>\n",
       "    <tr>\n",
       "      <th>tax</th>\n",
       "      <td>-0.0123</td>\n",
       "      <td>0.003</td>\n",
       "      <td>-3.608</td>\n",
       "      <td>0.000</td>\n",
       "    </tr>\n",
       "    <tr>\n",
       "      <th>ptratio</th>\n",
       "      <td>-0.9310</td>\n",
       "      <td>0.130</td>\n",
       "      <td>-7.138</td>\n",
       "      <td>0.000</td>\n",
       "    </tr>\n",
       "    <tr>\n",
       "      <th>lstat</th>\n",
       "      <td>-0.5465</td>\n",
       "      <td>0.047</td>\n",
       "      <td>-11.519</td>\n",
       "      <td>0.000</td>\n",
       "    </tr>\n",
       "  </tbody>\n",
       "</table>\n",
       "</div>"
      ],
      "text/plain": [
       "              coef  std err       t  P>|t|\n",
       "intercept  41.4517    4.903   8.454  0.000\n",
       "crim       -0.1217    0.033  -3.696  0.000\n",
       "zn          0.0462    0.014   3.378  0.001\n",
       "chas        2.8719    0.863   3.329  0.001\n",
       "nox       -18.2624    3.565  -5.122  0.000\n",
       "rm          3.6730    0.409   8.978  0.000\n",
       "dis        -1.5160    0.188  -8.078  0.000\n",
       "rad         0.2839    0.064   4.440  0.000\n",
       "tax        -0.0123    0.003  -3.608  0.000\n",
       "ptratio    -0.9310    0.130  -7.138  0.000\n",
       "lstat      -0.5465    0.047 -11.519  0.000"
      ]
     },
     "execution_count": 35,
     "metadata": {},
     "output_type": "execute_result"
    }
   ],
   "source": [
    "minus_age = Boston.columns.drop([\"medv\",\"age\",\"indus\"])\n",
    "\n",
    "X = MS(minus_age).fit_transform(Boston)\n",
    "\n",
    "model1= sm.OLS(y,X)\n",
    "summarize(model1.fit())"
   ]
  },
  {
   "cell_type": "markdown",
   "id": "1373e946",
   "metadata": {},
   "source": [
    "`-` 적합결과 모두 유의미하게 나왔다."
   ]
  },
  {
   "cell_type": "code",
   "execution_count": 40,
   "id": "d62aa328",
   "metadata": {},
   "outputs": [
    {
     "data": {
      "text/html": [
       "<table class=\"simpletable\">\n",
       "<caption>OLS Regression Results</caption>\n",
       "<tr>\n",
       "  <th>Dep. Variable:</th>          <td>medv</td>       <th>  R-squared:         </th> <td>   0.734</td> \n",
       "</tr>\n",
       "<tr>\n",
       "  <th>Model:</th>                   <td>OLS</td>       <th>  Adj. R-squared:    </th> <td>   0.729</td> \n",
       "</tr>\n",
       "<tr>\n",
       "  <th>Method:</th>             <td>Least Squares</td>  <th>  F-statistic:       </th> <td>   136.8</td> \n",
       "</tr>\n",
       "<tr>\n",
       "  <th>Date:</th>             <td>Sat, 09 Sep 2023</td> <th>  Prob (F-statistic):</th> <td>1.73e-135</td>\n",
       "</tr>\n",
       "<tr>\n",
       "  <th>Time:</th>                 <td>12:32:49</td>     <th>  Log-Likelihood:    </th> <td> -1505.0</td> \n",
       "</tr>\n",
       "<tr>\n",
       "  <th>No. Observations:</th>      <td>   506</td>      <th>  AIC:               </th> <td>   3032.</td> \n",
       "</tr>\n",
       "<tr>\n",
       "  <th>Df Residuals:</th>          <td>   495</td>      <th>  BIC:               </th> <td>   3078.</td> \n",
       "</tr>\n",
       "<tr>\n",
       "  <th>Df Model:</th>              <td>    10</td>      <th>                     </th>     <td> </td>    \n",
       "</tr>\n",
       "<tr>\n",
       "  <th>Covariance Type:</th>      <td>nonrobust</td>    <th>                     </th>     <td> </td>    \n",
       "</tr>\n",
       "</table>"
      ],
      "text/latex": [
       "\\begin{center}\n",
       "\\begin{tabular}{lclc}\n",
       "\\toprule\n",
       "\\textbf{Dep. Variable:}    &       medv       & \\textbf{  R-squared:         } &     0.734  \\\\\n",
       "\\textbf{Model:}            &       OLS        & \\textbf{  Adj. R-squared:    } &     0.729  \\\\\n",
       "\\textbf{Method:}           &  Least Squares   & \\textbf{  F-statistic:       } &     136.8  \\\\\n",
       "\\textbf{Date:}             & Sat, 09 Sep 2023 & \\textbf{  Prob (F-statistic):} & 1.73e-135  \\\\\n",
       "\\textbf{Time:}             &     12:32:49     & \\textbf{  Log-Likelihood:    } &   -1505.0  \\\\\n",
       "\\textbf{No. Observations:} &         506      & \\textbf{  AIC:               } &     3032.  \\\\\n",
       "\\textbf{Df Residuals:}     &         495      & \\textbf{  BIC:               } &     3078.  \\\\\n",
       "\\textbf{Df Model:}         &          10      & \\textbf{                     } &            \\\\\n",
       "\\textbf{Covariance Type:}  &    nonrobust     & \\textbf{                     } &            \\\\\n",
       "\\bottomrule\n",
       "\\end{tabular}\n",
       "%\\caption{OLS Regression Results}\n",
       "\\end{center}"
      ],
      "text/plain": [
       "<class 'statsmodels.iolib.table.SimpleTable'>"
      ]
     },
     "execution_count": 40,
     "metadata": {},
     "output_type": "execute_result"
    }
   ],
   "source": [
    "model1.fit().summary().tables[0]"
   ]
  },
  {
   "cell_type": "markdown",
   "id": "b32aefe0",
   "metadata": {},
   "source": [
    "# Lab 3. VIF"
   ]
  },
  {
   "cell_type": "markdown",
   "id": "c1e2dc64",
   "metadata": {},
   "source": [
    "`-` 분산팽창지수($\\text{VIF}$)는 다음과 같이 정의된다."
   ]
  },
  {
   "cell_type": "markdown",
   "id": "1332a993",
   "metadata": {},
   "source": [
    "$$\\text{VIF}(\\hat {\\beta}_j) = \\frac{1}{1- R^2_{X_j | X_{-j}}}$$"
   ]
  },
  {
   "cell_type": "markdown",
   "id": "e1b3404b",
   "metadata": {},
   "source": [
    "`-` 위 식을 해석하면 다음과 같다.\n",
    "\n",
    "* $R^2_{X_j | X_{-j}}$  :  $X_j$를 반응변수로, $X_j$를 제외한 모든 변수들을 예측변수로 설정하였을 떄 산출되는 결정계수 값\n",
    "\n",
    "* 위 식에서 $R^2_{X_j | X_{-j}}$ 크다는 것은 분모값이 작아지므로 $\\text{VIF}(\\hat {\\beta}_j)$는 커지게된다. \n",
    "\n",
    "* 이말은, $X_j$가 다른 변수들과의 연관성이 높아 다중공선성 문제가 의심된다는 것이다.\n",
    "\n",
    "* 보통 `5~ 10`을 초과하면 다중공선성의 문제가 있다고 본다."
   ]
  },
  {
   "cell_type": "markdown",
   "id": "fee24fb5",
   "metadata": {},
   "source": [
    "`-` 코드 작성"
   ]
  },
  {
   "cell_type": "code",
   "execution_count": 76,
   "id": "b904b192",
   "metadata": {},
   "outputs": [
    {
     "data": {
      "text/html": [
       "<div>\n",
       "<style scoped>\n",
       "    .dataframe tbody tr th:only-of-type {\n",
       "        vertical-align: middle;\n",
       "    }\n",
       "\n",
       "    .dataframe tbody tr th {\n",
       "        vertical-align: top;\n",
       "    }\n",
       "\n",
       "    .dataframe thead th {\n",
       "        text-align: right;\n",
       "    }\n",
       "</style>\n",
       "<table border=\"1\" class=\"dataframe\">\n",
       "  <thead>\n",
       "    <tr style=\"text-align: right;\">\n",
       "      <th></th>\n",
       "      <th>crim</th>\n",
       "      <th>zn</th>\n",
       "      <th>indus</th>\n",
       "      <th>chas</th>\n",
       "      <th>nox</th>\n",
       "      <th>rm</th>\n",
       "      <th>age</th>\n",
       "      <th>dis</th>\n",
       "      <th>rad</th>\n",
       "      <th>tax</th>\n",
       "      <th>ptratio</th>\n",
       "      <th>lstat</th>\n",
       "    </tr>\n",
       "  </thead>\n",
       "  <tbody>\n",
       "    <tr>\n",
       "      <th>0</th>\n",
       "      <td>1.767486</td>\n",
       "      <td>2.298459</td>\n",
       "      <td>3.987181</td>\n",
       "      <td>1.071168</td>\n",
       "      <td>4.369093</td>\n",
       "      <td>1.912532</td>\n",
       "      <td>3.088232</td>\n",
       "      <td>3.954037</td>\n",
       "      <td>7.445301</td>\n",
       "      <td>9.002158</td>\n",
       "      <td>1.79706</td>\n",
       "      <td>2.870777</td>\n",
       "    </tr>\n",
       "  </tbody>\n",
       "</table>\n",
       "</div>"
      ],
      "text/plain": [
       "       crim        zn     indus      chas       nox        rm       age  \\\n",
       "0  1.767486  2.298459  3.987181  1.071168  4.369093  1.912532  3.088232   \n",
       "\n",
       "        dis       rad       tax  ptratio     lstat  \n",
       "0  3.954037  7.445301  9.002158  1.79706  2.870777  "
      ]
     },
     "execution_count": 76,
     "metadata": {},
     "output_type": "execute_result"
    }
   ],
   "source": [
    "# step 1.  X 생성\n",
    "\n",
    "term  = Boston.columns.drop(\"medv\") \n",
    "X = MS(terms).fit_transform(Boston)\n",
    "col = X.columns\n",
    "\n",
    "# step 2.  각 예측변수의 분산팽창지수 계산\n",
    "pd.DataFrame({col[i]: [VIF(X,i)] for i in range(1,X.shape[1])})"
   ]
  },
  {
   "cell_type": "markdown",
   "id": "b1603d6a",
   "metadata": {},
   "source": [
    "`-` 음... 결과를 보니 `tax, rad`의 경우 분산팽창지수가 높게 나왔다.\n",
    "\n",
    "* 주성분 분석이나, 요인 분석을 통해 해당 변수를 합쳐서 해결하는 방안이 있다.\n",
    "\n",
    "* Ridge, Lasso 회귀분석을 이용\n",
    "\n",
    "* 해당 변수를 제거 (**그러나 해당 변수가 분석에서 중요한 경우가 있기 때문에, 연관성이 높은 변수들끼리 합쳐 평균을 내던지... 등등에 방법이 이용되나 이도 완벽하지 않음 **)"
   ]
  },
  {
   "cell_type": "markdown",
   "id": "6a76f010",
   "metadata": {},
   "source": [
    "# Lab 4. Qualitative Predictors"
   ]
  },
  {
   "cell_type": "markdown",
   "id": "17e79ba3",
   "metadata": {},
   "source": [
    "`MS` 함수는 범주형 변수를 자동으로  `원핫 인코딩`을 수행해준다!! 얼마나 편한가~~"
   ]
  },
  {
   "cell_type": "code",
   "execution_count": 100,
   "id": "d962c800",
   "metadata": {},
   "outputs": [
    {
     "data": {
      "text/plain": [
       "Index(['Sales', 'CompPrice', 'Income', 'Advertising', 'Population', 'Price',\n",
       "       'ShelveLoc', 'Age', 'Education', 'Urban', 'US'],\n",
       "      dtype='object')"
      ]
     },
     "execution_count": 100,
     "metadata": {},
     "output_type": "execute_result"
    }
   ],
   "source": [
    "Carseats = load_data('Carseats')\n",
    "Carseats.columns"
   ]
  },
  {
   "cell_type": "code",
   "execution_count": 122,
   "id": "80fce155",
   "metadata": {},
   "outputs": [
    {
     "data": {
      "text/html": [
       "<table class=\"simpletable\">\n",
       "<caption>OLS Regression Results</caption>\n",
       "<tr>\n",
       "  <th>Dep. Variable:</th>          <td>Sales</td>      <th>  R-squared:         </th> <td>   0.873</td> \n",
       "</tr>\n",
       "<tr>\n",
       "  <th>Model:</th>                   <td>OLS</td>       <th>  Adj. R-squared:    </th> <td>   0.870</td> \n",
       "</tr>\n",
       "<tr>\n",
       "  <th>Method:</th>             <td>Least Squares</td>  <th>  F-statistic:       </th> <td>   243.4</td> \n",
       "</tr>\n",
       "<tr>\n",
       "  <th>Date:</th>             <td>Sat, 09 Sep 2023</td> <th>  Prob (F-statistic):</th> <td>1.60e-166</td>\n",
       "</tr>\n",
       "<tr>\n",
       "  <th>Time:</th>                 <td>13:08:45</td>     <th>  Log-Likelihood:    </th> <td> -568.99</td> \n",
       "</tr>\n",
       "<tr>\n",
       "  <th>No. Observations:</th>      <td>   400</td>      <th>  AIC:               </th> <td>   1162.</td> \n",
       "</tr>\n",
       "<tr>\n",
       "  <th>Df Residuals:</th>          <td>   388</td>      <th>  BIC:               </th> <td>   1210.</td> \n",
       "</tr>\n",
       "<tr>\n",
       "  <th>Df Model:</th>              <td>    11</td>      <th>                     </th>     <td> </td>    \n",
       "</tr>\n",
       "<tr>\n",
       "  <th>Covariance Type:</th>      <td>nonrobust</td>    <th>                     </th>     <td> </td>    \n",
       "</tr>\n",
       "</table>"
      ],
      "text/latex": [
       "\\begin{center}\n",
       "\\begin{tabular}{lclc}\n",
       "\\toprule\n",
       "\\textbf{Dep. Variable:}    &      Sales       & \\textbf{  R-squared:         } &     0.873  \\\\\n",
       "\\textbf{Model:}            &       OLS        & \\textbf{  Adj. R-squared:    } &     0.870  \\\\\n",
       "\\textbf{Method:}           &  Least Squares   & \\textbf{  F-statistic:       } &     243.4  \\\\\n",
       "\\textbf{Date:}             & Sat, 09 Sep 2023 & \\textbf{  Prob (F-statistic):} & 1.60e-166  \\\\\n",
       "\\textbf{Time:}             &     13:08:45     & \\textbf{  Log-Likelihood:    } &   -568.99  \\\\\n",
       "\\textbf{No. Observations:} &         400      & \\textbf{  AIC:               } &     1162.  \\\\\n",
       "\\textbf{Df Residuals:}     &         388      & \\textbf{  BIC:               } &     1210.  \\\\\n",
       "\\textbf{Df Model:}         &          11      & \\textbf{                     } &            \\\\\n",
       "\\textbf{Covariance Type:}  &    nonrobust     & \\textbf{                     } &            \\\\\n",
       "\\bottomrule\n",
       "\\end{tabular}\n",
       "%\\caption{OLS Regression Results}\n",
       "\\end{center}"
      ],
      "text/plain": [
       "<class 'statsmodels.iolib.table.SimpleTable'>"
      ]
     },
     "execution_count": 122,
     "metadata": {},
     "output_type": "execute_result"
    }
   ],
   "source": [
    "x = list(Carseats.columns.drop('Sales'))\n",
    "y = Carseats['Sales']\n",
    "\n",
    "X = MS(x).fit_transform(Carseats)\n",
    "model = sm.OLS(y,X)\n",
    "model.fit().summary().tables[0]"
   ]
  },
  {
   "cell_type": "code",
   "execution_count": 123,
   "id": "7d66b7a9",
   "metadata": {},
   "outputs": [
    {
     "data": {
      "text/html": [
       "<table class=\"simpletable\">\n",
       "<tr>\n",
       "          <td></td>             <th>coef</th>     <th>std err</th>      <th>t</th>      <th>P>|t|</th>  <th>[0.025</th>    <th>0.975]</th>  \n",
       "</tr>\n",
       "<tr>\n",
       "  <th>intercept</th>         <td>    5.6606</td> <td>    0.603</td> <td>    9.380</td> <td> 0.000</td> <td>    4.474</td> <td>    6.847</td>\n",
       "</tr>\n",
       "<tr>\n",
       "  <th>CompPrice</th>         <td>    0.0928</td> <td>    0.004</td> <td>   22.378</td> <td> 0.000</td> <td>    0.085</td> <td>    0.101</td>\n",
       "</tr>\n",
       "<tr>\n",
       "  <th>Income</th>            <td>    0.0158</td> <td>    0.002</td> <td>    8.565</td> <td> 0.000</td> <td>    0.012</td> <td>    0.019</td>\n",
       "</tr>\n",
       "<tr>\n",
       "  <th>Advertising</th>       <td>    0.1231</td> <td>    0.011</td> <td>   11.066</td> <td> 0.000</td> <td>    0.101</td> <td>    0.145</td>\n",
       "</tr>\n",
       "<tr>\n",
       "  <th>Population</th>        <td>    0.0002</td> <td>    0.000</td> <td>    0.561</td> <td> 0.575</td> <td>   -0.001</td> <td>    0.001</td>\n",
       "</tr>\n",
       "<tr>\n",
       "  <th>Price</th>             <td>   -0.0954</td> <td>    0.003</td> <td>  -35.700</td> <td> 0.000</td> <td>   -0.101</td> <td>   -0.090</td>\n",
       "</tr>\n",
       "<tr>\n",
       "  <th>ShelveLoc[Good]</th>   <td>    4.8502</td> <td>    0.153</td> <td>   31.678</td> <td> 0.000</td> <td>    4.549</td> <td>    5.151</td>\n",
       "</tr>\n",
       "<tr>\n",
       "  <th>ShelveLoc[Medium]</th> <td>    1.9567</td> <td>    0.126</td> <td>   15.516</td> <td> 0.000</td> <td>    1.709</td> <td>    2.205</td>\n",
       "</tr>\n",
       "<tr>\n",
       "  <th>Age</th>               <td>   -0.0460</td> <td>    0.003</td> <td>  -14.472</td> <td> 0.000</td> <td>   -0.052</td> <td>   -0.040</td>\n",
       "</tr>\n",
       "<tr>\n",
       "  <th>Education</th>         <td>   -0.0211</td> <td>    0.020</td> <td>   -1.070</td> <td> 0.285</td> <td>   -0.060</td> <td>    0.018</td>\n",
       "</tr>\n",
       "<tr>\n",
       "  <th>Urban[Yes]</th>        <td>    0.1229</td> <td>    0.113</td> <td>    1.088</td> <td> 0.277</td> <td>   -0.099</td> <td>    0.345</td>\n",
       "</tr>\n",
       "<tr>\n",
       "  <th>US[Yes]</th>           <td>   -0.1841</td> <td>    0.150</td> <td>   -1.229</td> <td> 0.220</td> <td>   -0.479</td> <td>    0.111</td>\n",
       "</tr>\n",
       "</table>"
      ],
      "text/latex": [
       "\\begin{center}\n",
       "\\begin{tabular}{lcccccc}\n",
       "\\toprule\n",
       "                           & \\textbf{coef} & \\textbf{std err} & \\textbf{t} & \\textbf{P$> |$t$|$} & \\textbf{[0.025} & \\textbf{0.975]}  \\\\\n",
       "\\midrule\n",
       "\\textbf{intercept}         &       5.6606  &        0.603     &     9.380  &         0.000        &        4.474    &        6.847     \\\\\n",
       "\\textbf{CompPrice}         &       0.0928  &        0.004     &    22.378  &         0.000        &        0.085    &        0.101     \\\\\n",
       "\\textbf{Income}            &       0.0158  &        0.002     &     8.565  &         0.000        &        0.012    &        0.019     \\\\\n",
       "\\textbf{Advertising}       &       0.1231  &        0.011     &    11.066  &         0.000        &        0.101    &        0.145     \\\\\n",
       "\\textbf{Population}        &       0.0002  &        0.000     &     0.561  &         0.575        &       -0.001    &        0.001     \\\\\n",
       "\\textbf{Price}             &      -0.0954  &        0.003     &   -35.700  &         0.000        &       -0.101    &       -0.090     \\\\\n",
       "\\textbf{ShelveLoc[Good]}   &       4.8502  &        0.153     &    31.678  &         0.000        &        4.549    &        5.151     \\\\\n",
       "\\textbf{ShelveLoc[Medium]} &       1.9567  &        0.126     &    15.516  &         0.000        &        1.709    &        2.205     \\\\\n",
       "\\textbf{Age}               &      -0.0460  &        0.003     &   -14.472  &         0.000        &       -0.052    &       -0.040     \\\\\n",
       "\\textbf{Education}         &      -0.0211  &        0.020     &    -1.070  &         0.285        &       -0.060    &        0.018     \\\\\n",
       "\\textbf{Urban[Yes]}        &       0.1229  &        0.113     &     1.088  &         0.277        &       -0.099    &        0.345     \\\\\n",
       "\\textbf{US[Yes]}           &      -0.1841  &        0.150     &    -1.229  &         0.220        &       -0.479    &        0.111     \\\\\n",
       "\\bottomrule\n",
       "\\end{tabular}\n",
       "\\end{center}"
      ],
      "text/plain": [
       "<class 'statsmodels.iolib.table.SimpleTable'>"
      ]
     },
     "execution_count": 123,
     "metadata": {},
     "output_type": "execute_result"
    }
   ],
   "source": [
    "model.fit().summary().tables[1]"
   ]
  },
  {
   "cell_type": "markdown",
   "id": "3c7516d9",
   "metadata": {},
   "source": [
    "## summary : Lab"
   ]
  },
  {
   "cell_type": "markdown",
   "id": "3f956e50",
   "metadata": {},
   "source": [
    "`-` 구구절절 말이 많았지만, 회귀모형 적합 시 아래의 step을 기억하자."
   ]
  },
  {
   "cell_type": "markdown",
   "id": "f2cfc11a",
   "metadata": {},
   "source": [
    "```python\n",
    "\n",
    "# step 0. import\n",
    "import statsmodels.api as sm\n",
    "from ISLP.models import (ModelSpec as MS,\n",
    "summarize,poly)\n",
    "\n",
    "# step 1. x, y를 저장\n",
    "x = data.columns.drop(\"target\") \n",
    "y = data[\"target\"]\n",
    "\n",
    "# step 2.  matrix 형태의 X 생성\n",
    "X = MS(final).fit_transform(data)\n",
    "\n",
    "# step 3. 최소제곱법(OLS)를 이용하여 모델을 적합하겠다고 선언\n",
    "model = sm.OLS(y,X)\n",
    "\n",
    "# step 4. 모형에 대한 유의성 확인\n",
    "model.fit().summary().tables[0]\n",
    "\n",
    "# step 5. 개별 회귀계수에 대한 유의성 확인\n",
    "model.fit().summary().tables[1]\n",
    "\n",
    "```"
   ]
  }
 ],
 "metadata": {
  "colab": {
   "provenance": []
  },
  "kernelspec": {
   "display_name": "Python 3 (ipykernel)",
   "language": "python",
   "name": "python3"
  },
  "language_info": {
   "codemirror_mode": {
    "name": "ipython",
    "version": 3
   },
   "file_extension": ".py",
   "mimetype": "text/x-python",
   "name": "python",
   "nbconvert_exporter": "python",
   "pygments_lexer": "ipython3",
   "version": "3.11.4"
  },
  "toc": {
   "base_numbering": 1,
   "nav_menu": {},
   "number_sections": false,
   "sideBar": true,
   "skip_h1_title": false,
   "title_cell": "Table of Contents",
   "title_sidebar": "Contents",
   "toc_cell": false,
   "toc_position": {
    "height": "calc(100% - 180px)",
    "left": "10px",
    "top": "150px",
    "width": "322.438px"
   },
   "toc_section_display": true,
   "toc_window_display": true
  }
 },
 "nbformat": 4,
 "nbformat_minor": 5
}
