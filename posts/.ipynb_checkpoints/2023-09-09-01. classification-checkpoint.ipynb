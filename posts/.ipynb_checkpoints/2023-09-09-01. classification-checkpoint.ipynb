{
 "cells": [
  {
   "cell_type": "raw",
   "id": "b777b355",
   "metadata": {},
   "source": [
    "---\n",
    "title : \"01. Classification\"\n",
    "author : \"GC\"\n",
    "date : \"09/09/23\"\n",
    "categories : [분류, 로지스틱, 예측성능, 과적합]\n",
    "---"
   ]
  },
  {
   "cell_type": "markdown",
   "id": "51875691",
   "metadata": {},
   "source": [
    "# Note 1. 과적합"
   ]
  },
  {
   "cell_type": "markdown",
   "id": "4bb4a589",
   "metadata": {},
   "source": [
    "`-` 해당 책에서는 우리가 평소에 회귀분석에서 쓰던 $\\text {MSE}= \\frac {SSE}{n-(p+1)}$ 이라고 표현하지 않는다."
   ]
  },
  {
   "cell_type": "markdown",
   "id": "72910ad6",
   "metadata": {},
   "source": [
    "`-` 교재에서 말하는 $\\text{MSE}$란 다음과 같다."
   ]
  },
  {
   "cell_type": "markdown",
   "id": "2e6804fe",
   "metadata": {},
   "source": [
    "$$\\text{MSE} = E[(\\hat y - y)^2]$$"
   ]
  },
  {
   "cell_type": "markdown",
   "id": "631992ff",
   "metadata": {},
   "source": [
    "`-` 즉, 예측값과 실제값의 차이를 제곱합으로 계산 후 평균을 내는것이다."
   ]
  },
  {
   "cell_type": "markdown",
   "id": "1eb8d8e6",
   "metadata": {},
   "source": [
    "`-` 이를 다시 나누어 보자"
   ]
  },
  {
   "cell_type": "markdown",
   "id": "bb74ae42",
   "metadata": {},
   "source": [
    "$$\\begin {align} E[(\\hat y - y)^2] &= Var(\\hat y) + \\text {bias}^2   \\\\ \n",
    "                                                                &= E[(\\hat y - E(\\hat y ))^2] + E[(E(\\hat y) - y)^2] + Var(\\varepsilon) \\end {align}$$"
   ]
  },
  {
   "cell_type": "markdown",
   "id": "6f351ce3",
   "metadata": {},
   "source": [
    "`-` $Var(\\hat y) \\, \\to \\,$  훈련자료의 변화에 $\\hat y$가 얼마나 민감하게 반응하는가?\n",
    "\n",
    "`-` $\\text {bias}^2$  :  실제자료를 모형으로 얼마나 가깝게 근사할 수 있는가? (만약, $E(\\hat y) = y$ 일 경우 해당 추정량은 불편추정량이다.)\n",
    "\n",
    "* $Var(\\hat y),\\,\\text {bias}^2$ 는 reducible error로 어떤 모델을 선택하느냐에 따라 줄일 수 있는 오차이다.\n",
    "\n",
    "`-` $Var(\\varepsilon)$ : 어떤 모델을 사용하건 줄일 수 없는 오차\n",
    "\n",
    "`-` Flexibility :  모델 복잡도 측도"
   ]
  },
  {
   "cell_type": "markdown",
   "id": "0c16c99b",
   "metadata": {},
   "source": [
    "* Flexibility가 높아지면 $Var(\\hat y)$ 는 높아지고, $\\text {bias}$는 낮아진다. (trade-off)\n",
    " \n",
    "* 이를 바꿔말하면 더 유연한(복잡한) 모형은 더 큰 분산을 가지고 더 단순한 모형일수록 큰 편의를 가진다.\n",
    "\n",
    "* 훈련 데이터로 모델 적합시, `bias`를 낮추기 위해 `Var`를 높여 모델 복잡도를 지나치게 높이는 것은 좋은 선택이 아니다.\n",
    "\n",
    "* 아래의 예시는 모형의 복잡도가 너무 높으면 **평가 데이터에 대한 MSE**가 오히려 과대추정되는 **\"과적합 문제\"** 를 보여주고 있다."
   ]
  },
  {
   "cell_type": "markdown",
   "id": "6bd1299a",
   "metadata": {},
   "source": [
    "<center><img src = \"0.png\" width = 600></center>"
   ]
  },
  {
   "cell_type": "markdown",
   "id": "0fac8e19",
   "metadata": {},
   "source": [
    "## ex1"
   ]
  },
  {
   "cell_type": "markdown",
   "id": "ece8a579",
   "metadata": {},
   "source": [
    "<center><img src = \"2.png\" width = 600></center>"
   ]
  },
  {
   "cell_type": "markdown",
   "id": "7d8dcce3",
   "metadata": {},
   "source": [
    "`-` 실제로 위의 원데이터는 일반적인 선형모형으로 적합해도 괜찮을 것 같다.\n",
    "\n",
    "`-` 왼쪽그림에서 지나치게 복잡하게 적합된 초록색 선을 살펴보자.\n",
    "\n",
    "* **훈련 MSE(회색선)** 는 3개의 모델 중 가장 낮으나, 과적합 이슈로 **평가 MSE(빨간색선)** 가 과대추정된 것을 볼 수 있다."
   ]
  },
  {
   "cell_type": "markdown",
   "id": "3cdeeb06",
   "metadata": {},
   "source": [
    "## ex2"
   ]
  },
  {
   "cell_type": "markdown",
   "id": "1c4b3bd1",
   "metadata": {},
   "source": [
    "<center><img src = \"1.png\" width = 600></center>"
   ]
  },
  {
   "cell_type": "markdown",
   "id": "723a7092",
   "metadata": {},
   "source": [
    "`-` 위 데이터는 `ex1`과 달리 일반적인 선형회귀모형으로 적합하면 안될것 같은 느낌이 든다.\n",
    "\n",
    "`-` 파란색선은 중간 정도로 적합된 복잡한 모형이고, 초록색선은 지나치게 적합된 모형이다.\n",
    "\n",
    "* 오른쪽 그림을 살펴보면 파란색선으로 적합된 모형의 `Test MSE`가 가장 낮음을 볼 수 있다."
   ]
  },
  {
   "cell_type": "markdown",
   "id": "0cbaa043",
   "metadata": {},
   "source": [
    "# Note 2. Confusion matrix"
   ]
  },
  {
   "cell_type": "markdown",
   "id": "f7f9185f",
   "metadata": {},
   "source": [
    "`-` 금일 챕터에서는 분류(Classification)의 관한 문제를 다룬다.\n",
    "\n",
    "`-` 들어가기전에 정밀도, 재현율, 정확도와 같은 예측 성능 지표를 잡고 들어가자."
   ]
  },
  {
   "cell_type": "markdown",
   "id": "9c5975db",
   "metadata": {},
   "source": [
    "<center><img src = \"4.png\" width = 500></center>"
   ]
  },
  {
   "cell_type": "markdown",
   "id": "b404b311",
   "metadata": {},
   "source": [
    "`-` 위 데이터는 회사에서 채무를 이행한자, 아닌자에 대한 예측 모델을 만들고 결과를 정리한 표이다.\n",
    "\n",
    "`-` step 1. 정확도를 살펴보자\n",
    "\n",
    "* 정확도를 살펴보니 채무이행여부를 판단하기 위해 만든 모델이 적절하게 잘 만들어진 것 같다."
   ]
  },
  {
   "cell_type": "code",
   "execution_count": 2,
   "id": "62c48f8c",
   "metadata": {},
   "outputs": [
    {
     "data": {
      "text/plain": [
       "0.9725"
      ]
     },
     "execution_count": 2,
     "metadata": {},
     "output_type": "execute_result"
    }
   ],
   "source": [
    "((9644 + 81)/10000)"
   ]
  },
  {
   "cell_type": "markdown",
   "id": "db51aa1b",
   "metadata": {},
   "source": [
    "<center><img src = \"4.png\" width = 500></center>"
   ]
  },
  {
   "cell_type": "markdown",
   "id": "98fd9983",
   "metadata": {},
   "source": [
    "`-` step2. 회사의 입장(재현율) :  손해를 끼칠 위험이 큰 고객들을 분별해야한다....\n",
    "\n",
    "* 그런데 실제 채무를 이행하지 않은 사람들은 `333`명인데 예측 모델이 채무를 이행하지 않았다고 예측한 사람은 `81` 명이다."
   ]
  },
  {
   "cell_type": "code",
   "execution_count": 6,
   "id": "5cdb8417",
   "metadata": {},
   "outputs": [
    {
     "data": {
      "text/plain": [
       "0.24324324324324326"
      ]
     },
     "execution_count": 6,
     "metadata": {},
     "output_type": "execute_result"
    }
   ],
   "source": [
    "81/333"
   ]
  },
  {
   "cell_type": "markdown",
   "id": "494d396f",
   "metadata": {},
   "source": [
    "<center><img src = \"4.png\" width = 500></center>"
   ]
  },
  {
   "cell_type": "code",
   "execution_count": 7,
   "id": "118852be",
   "metadata": {},
   "outputs": [
    {
     "data": {
      "text/plain": [
       "0.7788461538461539"
      ]
     },
     "execution_count": 7,
     "metadata": {},
     "output_type": "execute_result"
    }
   ],
   "source": [
    "(81/104)"
   ]
  },
  {
   "cell_type": "markdown",
   "id": "7788ac7b",
   "metadata": {},
   "source": [
    "`-` step3. 모델을 만든 강철의 입장(정밀도) :  내 마음을 좀 알아줘...\n",
    "\n",
    "* 제가 모델을 만들었는데 그래도 참이라고 예측한 것 104명 중에 실제로 84명이 채무를 불이행했거든요?? 그러니까 성과금좀 주세욥"
   ]
  },
  {
   "cell_type": "markdown",
   "id": "1382c85e",
   "metadata": {},
   "source": [
    "`-` result : 뭐 못 배웠다고 짤리거나 그러겠지...."
   ]
  },
  {
   "cell_type": "markdown",
   "id": "69f43174",
   "metadata": {},
   "source": [
    "`-` 시사점 : 심슨의 역설2\n",
    "    \n",
    "1.  우리는 단순히 test 데이터에 대한 정확도로만 보고 판단하면 안된다.\n",
    "\n",
    "2. 이분법적인 사고로 정작 해결해야할 비즈니스적 문제를 놓칠수 있지 않은가?"
   ]
  },
  {
   "cell_type": "markdown",
   "id": "00abcd88",
   "metadata": {},
   "source": [
    "`-` [심슨의 역설](https://gangcheol.github.io/mysite/posts/Lecture/STDV/2023-05-13-8wk.html#%EC%8B%AC%EC%8A%A8%EC%9D%98-%EC%97%AD%EC%84%A4)"
   ]
  },
  {
   "cell_type": "markdown",
   "id": "5b293ad9",
   "metadata": {},
   "source": [
    "## summary"
   ]
  },
  {
   "cell_type": "markdown",
   "id": "ec56111b",
   "metadata": {},
   "source": [
    "`1` 정확도 :  전체에서 예측값과 실제값이 일치하는 비율"
   ]
  },
  {
   "cell_type": "markdown",
   "id": "ab5983f7",
   "metadata": {},
   "source": [
    "`2` 정밀도 : 내가 참이라고 예측한 것 중에 실제로 참인 비율 (전, 이걸 모델의 건방짐이라고 외웠습니다.)"
   ]
  },
  {
   "cell_type": "markdown",
   "id": "c0a11294",
   "metadata": {},
   "source": [
    "`3`  재현율 :  실제 참인 것들 중에서 모델이 참이라고 예측한 비율 (회사의 입장)"
   ]
  },
  {
   "cell_type": "markdown",
   "id": "c8e9e029",
   "metadata": {},
   "source": [
    "***"
   ]
  },
  {
   "cell_type": "markdown",
   "id": "3895c75e",
   "metadata": {},
   "source": [
    "# Classification"
   ]
  },
  {
   "cell_type": "markdown",
   "id": "e1af6539",
   "metadata": {},
   "source": [
    "## 1. 로지스틱 회귀모형"
   ]
  }
 ],
 "metadata": {
  "kernelspec": {
   "display_name": "Python 3 (ipykernel)",
   "language": "python",
   "name": "python3"
  },
  "language_info": {
   "codemirror_mode": {
    "name": "ipython",
    "version": 3
   },
   "file_extension": ".py",
   "mimetype": "text/x-python",
   "name": "python",
   "nbconvert_exporter": "python",
   "pygments_lexer": "ipython3",
   "version": "3.11.4"
  },
  "toc": {
   "base_numbering": 1,
   "nav_menu": {},
   "number_sections": false,
   "sideBar": true,
   "skip_h1_title": false,
   "title_cell": "Table of Contents",
   "title_sidebar": "Contents",
   "toc_cell": false,
   "toc_position": {
    "height": "calc(100% - 180px)",
    "left": "10px",
    "top": "150px",
    "width": "292.554px"
   },
   "toc_section_display": true,
   "toc_window_display": true
  }
 },
 "nbformat": 4,
 "nbformat_minor": 5
}
