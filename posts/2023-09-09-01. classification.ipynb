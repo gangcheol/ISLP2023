{
 "cells": [
  {
   "cell_type": "raw",
   "id": "b777b355",
   "metadata": {},
   "source": [
    "---\n",
    "title : \"01. Classification\"\n",
    "author : \"GC\"\n",
    "date : \"09/09/23\"\n",
    "categories : [분류, 로지스틱, 예측성능]\n",
    "---"
   ]
  },
  {
   "cell_type": "markdown",
   "id": "51875691",
   "metadata": {},
   "source": [
    "# Overview 1. MSE"
   ]
  },
  {
   "cell_type": "markdown",
   "id": "4bb4a589",
   "metadata": {},
   "source": [
    "`-` 해당 책에서는 우리가 평소에 회귀분석에서 쓰던 $\\text {MSE}= \\frac {SSE}{n-(p+1)}$ 이라고 표현하지 않는다."
   ]
  },
  {
   "cell_type": "markdown",
   "id": "72910ad6",
   "metadata": {},
   "source": [
    "`-` 교재에서 말하는 $\\text{MSE}$란 다음과 같다."
   ]
  },
  {
   "cell_type": "markdown",
   "id": "2e6804fe",
   "metadata": {},
   "source": [
    "$$\\text{MSE} = E[(\\hat y - y)^2]$$"
   ]
  },
  {
   "cell_type": "markdown",
   "id": "631992ff",
   "metadata": {},
   "source": [
    "`-` 즉, 예측값과 실제값의 차이를 제곱합으로 계산 후 평균을 내는것이다."
   ]
  },
  {
   "cell_type": "markdown",
   "id": "5caf677c",
   "metadata": {},
   "source": [
    "`-` 이를 다시 나누어 보자"
   ]
  },
  {
   "cell_type": "markdown",
   "id": "af910f95",
   "metadata": {},
   "source": [
    "$$\\begin {align} E[(\\hat y - y)^2] &= Var(\\hat y) + \\text {bias}   \\\\ \n",
    "                                                                &= E[(\\hat y - E(\\hat y ))^2] + E[(E(\\hat y) - y)^2] \\end {align}$$"
   ]
  }
 ],
 "metadata": {
  "kernelspec": {
   "display_name": "Python 3 (ipykernel)",
   "language": "python",
   "name": "python3"
  },
  "language_info": {
   "codemirror_mode": {
    "name": "ipython",
    "version": 3
   },
   "file_extension": ".py",
   "mimetype": "text/x-python",
   "name": "python",
   "nbconvert_exporter": "python",
   "pygments_lexer": "ipython3",
   "version": "3.11.4"
  },
  "toc": {
   "base_numbering": 1,
   "nav_menu": {},
   "number_sections": false,
   "sideBar": true,
   "skip_h1_title": false,
   "title_cell": "Table of Contents",
   "title_sidebar": "Contents",
   "toc_cell": false,
   "toc_position": {
    "height": "calc(100% - 180px)",
    "left": "10px",
    "top": "150px",
    "width": "292.571px"
   },
   "toc_section_display": true,
   "toc_window_display": true
  }
 },
 "nbformat": 4,
 "nbformat_minor": 5
}
