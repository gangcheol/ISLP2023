{
 "cells": [
  {
   "cell_type": "raw",
   "id": "b777b355",
   "metadata": {},
   "source": [
    "---\n",
    "title : \"01. Classification\"\n",
    "author : \"GC\"\n",
    "date : \"09/10/23\"\n",
    "categories : [분류, 로지스틱, 예측성능, 과적합]\n",
    "---"
   ]
  },
  {
   "cell_type": "markdown",
   "id": "51875691",
   "metadata": {},
   "source": [
    "# Note 1. 과적합"
   ]
  },
  {
   "cell_type": "markdown",
   "id": "4bb4a589",
   "metadata": {},
   "source": [
    "`-` 해당 책에서는 우리가 평소에 회귀분석에서 쓰던 $\\text {MSE}= \\frac {SSE}{n-(p+1)}$ 이라고 표현하지 않는다."
   ]
  },
  {
   "cell_type": "markdown",
   "id": "72910ad6",
   "metadata": {},
   "source": [
    "`-` 교재에서 말하는 $\\text{MSE}$란 다음과 같다."
   ]
  },
  {
   "cell_type": "markdown",
   "id": "2e6804fe",
   "metadata": {},
   "source": [
    "$$\\text{MSE} = E[(\\hat y - y)^2]$$"
   ]
  },
  {
   "cell_type": "markdown",
   "id": "631992ff",
   "metadata": {},
   "source": [
    "`-` 즉, 예측값과 실제값의 차이를 제곱합으로 계산 후 평균을 내는것이다."
   ]
  },
  {
   "cell_type": "markdown",
   "id": "1eb8d8e6",
   "metadata": {},
   "source": [
    "`-` 이를 다시 나누어 보자"
   ]
  },
  {
   "cell_type": "markdown",
   "id": "bb74ae42",
   "metadata": {},
   "source": [
    "$$\\begin {align} E[(\\hat y - y)^2] &= Var(\\hat y) + \\text {bias}^2   \\\\ \n",
    "                                                                &= E[(\\hat y - E(\\hat y ))^2] + E[(E(\\hat y) - y)^2] + Var(\\varepsilon) \\end {align}$$"
   ]
  },
  {
   "cell_type": "markdown",
   "id": "6f351ce3",
   "metadata": {},
   "source": [
    "`-` $Var(\\hat y) \\, \\to \\,$  훈련자료의 변화에 $\\hat y$가 얼마나 민감하게 반응하는가?\n",
    "\n",
    "`-` $\\text {bias}^2$  :  실제자료를 모형으로 얼마나 가깝게 근사할 수 있는가? (만약, $E(\\hat y) = y$ 일 경우 해당 추정량은 불편추정량이다.)\n",
    "\n",
    "* $Var(\\hat y),\\,\\text {bias}^2$ 는 reducible error로 어떤 모델을 선택하느냐에 따라 줄일 수 있는 오차이다.\n",
    "\n",
    "`-` $Var(\\varepsilon)$ : 어떤 모델을 사용하건 줄일 수 없는 오차\n",
    "\n",
    "`-` Flexibility :  모델 복잡도 측도"
   ]
  },
  {
   "cell_type": "markdown",
   "id": "0c16c99b",
   "metadata": {},
   "source": [
    "* Flexibility가 높아지면 $Var(\\hat y)$ 는 높아지고, $\\text {bias}$는 낮아진다. (trade-off)\n",
    " \n",
    "* 이를 바꿔말하면 더 유연한(복잡한) 모형은 더 큰 분산을 가지고 더 단순한 모형일수록 큰 편의를 가진다.\n",
    "\n",
    "* 훈련 데이터로 모델 적합시, `bias`를 낮추기 위해 `Var`를 높여 모델 복잡도를 지나치게 높이는 것은 좋은 선택이 아니다.\n",
    "\n",
    "* 아래의 예시는 모형의 복잡도가 너무 높으면 **평가 데이터에 대한 MSE**가 오히려 과대추정되는 **\"과적합 문제\"** 를 보여주고 있다."
   ]
  },
  {
   "cell_type": "markdown",
   "id": "6bd1299a",
   "metadata": {},
   "source": [
    "<center><img src = \"0.png\" width = 600></center>"
   ]
  },
  {
   "cell_type": "markdown",
   "id": "0fac8e19",
   "metadata": {},
   "source": [
    "## ex1"
   ]
  },
  {
   "cell_type": "markdown",
   "id": "ece8a579",
   "metadata": {},
   "source": [
    "<center><img src = \"2.png\" width = 600></center>"
   ]
  },
  {
   "cell_type": "markdown",
   "id": "7d8dcce3",
   "metadata": {},
   "source": [
    "`-` 실제로 위의 원데이터는 일반적인 선형모형으로 적합해도 괜찮을 것 같다.\n",
    "\n",
    "`-` 왼쪽그림에서 지나치게 복잡하게 적합된 초록색 선을 살펴보자.\n",
    "\n",
    "* **훈련 MSE(회색선)** 는 3개의 모델 중 가장 낮으나, 과적합 이슈로 **평가 MSE(빨간색선)** 가 과대추정된 것을 볼 수 있다."
   ]
  },
  {
   "cell_type": "markdown",
   "id": "3cdeeb06",
   "metadata": {},
   "source": [
    "## ex2"
   ]
  },
  {
   "cell_type": "markdown",
   "id": "1c4b3bd1",
   "metadata": {},
   "source": [
    "<center><img src = \"1.png\" width = 600></center>"
   ]
  },
  {
   "cell_type": "markdown",
   "id": "723a7092",
   "metadata": {},
   "source": [
    "`-` 위 데이터는 `ex1`과 달리 일반적인 선형회귀모형으로 적합하면 안될것 같은 느낌이 든다.\n",
    "\n",
    "`-` 파란색선은 중간 정도로 적합된 복잡한 모형이고, 초록색선은 지나치게 적합된 모형이다.\n",
    "\n",
    "* 오른쪽 그림을 살펴보면 파란색선으로 적합된 모형의 `Test MSE`가 가장 낮음을 볼 수 있다."
   ]
  },
  {
   "cell_type": "markdown",
   "id": "0cbaa043",
   "metadata": {},
   "source": [
    "# Note 2. Confusion matrix"
   ]
  },
  {
   "cell_type": "markdown",
   "id": "f7f9185f",
   "metadata": {},
   "source": [
    "`-` 금일 챕터에서는 분류(Classification)의 관한 문제를 다룬다.\n",
    "\n",
    "`-` 들어가기전에 정밀도, 재현율, 정확도와 같은 예측 성능 지표를 잡고 들어가자."
   ]
  },
  {
   "cell_type": "markdown",
   "id": "9c5975db",
   "metadata": {},
   "source": [
    "<center><img src = \"4.png\" width = 500></center>"
   ]
  },
  {
   "cell_type": "markdown",
   "id": "b404b311",
   "metadata": {},
   "source": [
    "`-` 위 데이터는 회사에서 채무를 이행한자, 아닌자에 대한 예측 모델을 만들고 결과를 정리한 표이다.\n",
    "\n",
    "`-` step 1. 정확도를 살펴보자\n",
    "\n",
    "* 정확도를 살펴보니 채무이행여부를 판단하기 위해 만든 모델이 적절하게 잘 만들어진 것 같다."
   ]
  },
  {
   "cell_type": "code",
   "execution_count": 288,
   "id": "62c48f8c",
   "metadata": {},
   "outputs": [
    {
     "data": {
      "text/plain": [
       "0.9725"
      ]
     },
     "execution_count": 288,
     "metadata": {},
     "output_type": "execute_result"
    }
   ],
   "source": [
    "((9644 + 81)/10000)"
   ]
  },
  {
   "cell_type": "markdown",
   "id": "db51aa1b",
   "metadata": {},
   "source": [
    "<center><img src = \"4.png\" width = 500></center>"
   ]
  },
  {
   "cell_type": "markdown",
   "id": "98fd9983",
   "metadata": {},
   "source": [
    "`-` step2. 회사의 입장(재현율) :  손해를 끼칠 위험이 큰 고객들을 분별해야한다....\n",
    "\n",
    "* 그런데 실제 채무를 이행하지 않은 사람들은 `333`명인데 예측 모델이 채무를 이행하지 않았다고 예측한 사람은 `81` 명이다."
   ]
  },
  {
   "cell_type": "code",
   "execution_count": 289,
   "id": "5cdb8417",
   "metadata": {},
   "outputs": [
    {
     "data": {
      "text/plain": [
       "0.24324324324324326"
      ]
     },
     "execution_count": 289,
     "metadata": {},
     "output_type": "execute_result"
    }
   ],
   "source": [
    "81/333"
   ]
  },
  {
   "cell_type": "markdown",
   "id": "494d396f",
   "metadata": {},
   "source": [
    "<center><img src = \"4.png\" width = 500></center>"
   ]
  },
  {
   "cell_type": "code",
   "execution_count": 290,
   "id": "118852be",
   "metadata": {},
   "outputs": [
    {
     "data": {
      "text/plain": [
       "0.7788461538461539"
      ]
     },
     "execution_count": 290,
     "metadata": {},
     "output_type": "execute_result"
    }
   ],
   "source": [
    "(81/104)"
   ]
  },
  {
   "cell_type": "markdown",
   "id": "7788ac7b",
   "metadata": {},
   "source": [
    "`-` step3. 모델을 만든 강철의 입장(정밀도) :  내 마음을 좀 알아줘...\n",
    "\n",
    "* 제가 모델을 만들었는데 그래도 참이라고 예측한 것 104명 중에 실제로 84명이 채무를 불이행했거든요?? 그러니까 성과금좀 주세욥"
   ]
  },
  {
   "cell_type": "markdown",
   "id": "1382c85e",
   "metadata": {},
   "source": [
    "`-` result : 뭐 못 배웠다고 짤리거나 그러겠지...."
   ]
  },
  {
   "cell_type": "markdown",
   "id": "69f43174",
   "metadata": {},
   "source": [
    "`-` 시사점 : 심슨의 역설2\n",
    "    \n",
    "1.  우리는 단순히 test 데이터에 대한 정확도로만 보고 판단하면 안된다.\n",
    "\n",
    "2. 이분법적인 사고로 정작 해결해야할 비즈니스적 문제를 놓칠수 있지 않은가?"
   ]
  },
  {
   "cell_type": "markdown",
   "id": "00abcd88",
   "metadata": {},
   "source": [
    "`-` [심슨의 역설](https://gangcheol.github.io/mysite/posts/Lecture/STDV/2023-05-13-8wk.html#%EC%8B%AC%EC%8A%A8%EC%9D%98-%EC%97%AD%EC%84%A4)"
   ]
  },
  {
   "cell_type": "markdown",
   "id": "5b293ad9",
   "metadata": {},
   "source": [
    "## summary"
   ]
  },
  {
   "cell_type": "markdown",
   "id": "ec56111b",
   "metadata": {},
   "source": [
    "`1` 정확도 :  전체에서 예측값과 실제값이 일치하는 비율"
   ]
  },
  {
   "cell_type": "markdown",
   "id": "ab5983f7",
   "metadata": {},
   "source": [
    "`2` 정밀도 : 내가 참이라고 예측한 것 중에 실제로 참인 비율 (전, 이걸 모델의 건방짐이라고 외웠습니다.)"
   ]
  },
  {
   "cell_type": "markdown",
   "id": "c0a11294",
   "metadata": {},
   "source": [
    "`3`  재현율 :  실제 참인 것들 중에서 모델이 참이라고 예측한 비율 (회사의 입장)"
   ]
  },
  {
   "cell_type": "markdown",
   "id": "c8e9e029",
   "metadata": {},
   "source": [
    "***"
   ]
  },
  {
   "cell_type": "markdown",
   "id": "3895c75e",
   "metadata": {},
   "source": [
    "# Classification"
   ]
  },
  {
   "cell_type": "markdown",
   "id": "e1af6539",
   "metadata": {},
   "source": [
    "## 1. 로지스틱 회귀모형"
   ]
  },
  {
   "cell_type": "markdown",
   "id": "ef3443b8",
   "metadata": {},
   "source": [
    "`-` 로지스틱 모형은 target 변수인 $y$에 대한 직접적 모형화가 아닌 $y$가 특정 법주에 포함될 확률을 모형화한다."
   ]
  },
  {
   "cell_type": "markdown",
   "id": "2a5b7d40",
   "metadata": {},
   "source": [
    "$$P(y=1 \\,|\\, \\bf {X})$$"
   ]
  },
  {
   "cell_type": "markdown",
   "id": "9060ba74",
   "metadata": {},
   "source": [
    "`-` 임계치(threshole)를 정하고 어떤 범주에 포함될 확률이 임계치보다 높으면 **0 or 1**로 예측하는 분류 모형이다. (이진분류에서!)"
   ]
  },
  {
   "cell_type": "markdown",
   "id": "2cf5952d",
   "metadata": {},
   "source": [
    "### model 1. 이진분류"
   ]
  },
  {
   "cell_type": "markdown",
   "id": "2b12ae88",
   "metadata": {},
   "source": [
    "step 1.  $P(X)$ : 0과 1사이의 값으로 예측해주는 모형화 작성 **(로지스틱 함수)**"
   ]
  },
  {
   "cell_type": "markdown",
   "id": "6ffc4b9a",
   "metadata": {},
   "source": [
    "$$P(X) = \\frac {\\exp (\\beta_0 + \\beta_{1}X)}{1+\\exp (\\beta_0 + \\beta_{1}X) } \\in  (0,1 )$$"
   ]
  },
  {
   "cell_type": "markdown",
   "id": "d6cd270c",
   "metadata": {},
   "source": [
    "step 2. $\\frac{P(X)}{ 1- P(X)}$ : odds, 배팅을 하는 분야에서 확률 대신 많이 쓰이는 측도"
   ]
  },
  {
   "cell_type": "markdown",
   "id": "b893f6b1",
   "metadata": {},
   "source": [
    "$$\\frac {P(X)}{ 1- P(X)} =  \\exp(\\beta_0 + \\beta_{1} X  ),\\quad  \\in (0,\\infty)$$"
   ]
  },
  {
   "cell_type": "markdown",
   "id": "1d3f3126",
   "metadata": {},
   "source": [
    "step 3. $\\log \\frac {P(X)}{1-P(X)}$  :  이와 같은 식을 logit이라고 하며,  해당 함수를 선형회귀처럼 작성하면 다음과 같다."
   ]
  },
  {
   "cell_type": "markdown",
   "id": "c6e1d6d4",
   "metadata": {},
   "source": [
    "$$\\log \\frac {P(X)}{1-P(X)}  = \\beta_0 + \\beta_1 X,\\quad \\in (-\\infty, \\infty)$$"
   ]
  },
  {
   "cell_type": "markdown",
   "id": "7e517683",
   "metadata": {},
   "source": [
    "### 모델 추정(이진 분류)"
   ]
  },
  {
   "cell_type": "markdown",
   "id": "9450289a",
   "metadata": {},
   "source": [
    "`-` 반응변수는 범주형 변수이나 모형을 통해 예측된 값은 확률이므로 최소제곱법 등은 정당화 되기 어려움\n",
    "\n",
    "* 최대우도추정법(maximum likelihood estimation)으로 보통 추정한다.\n",
    "\n",
    "* 반응변수가 베르누이 (혹은 아항) 분포임을 이용하여 가능도함수를 기술함"
   ]
  },
  {
   "cell_type": "markdown",
   "id": "410c6387",
   "metadata": {},
   "source": [
    "$$L = \\prod_{i : y_i=1}p(x_i) \\prod_{i^{\\prime} : y_i^{\\prime} =0}(1-p(x_i)) $$"
   ]
  },
  {
   "cell_type": "markdown",
   "id": "116d0903",
   "metadata": {},
   "source": [
    "* $(\\hat {\\beta}_0, \\hat {\\beta}_1)$ : 위 수식을 최대화 하는 추정치이다."
   ]
  },
  {
   "cell_type": "markdown",
   "id": "824b8849",
   "metadata": {},
   "source": [
    "### model 2. 다중분류"
   ]
  },
  {
   "cell_type": "markdown",
   "id": "1e2ac2cf",
   "metadata": {},
   "source": [
    "$$\\log \\frac {P(X)}{1-P(X)}  = \\beta_0 + \\beta_1 X + \\dots \\beta_{p}X_{p},\\quad \\in (-\\infty, \\infty)$$"
   ]
  },
  {
   "cell_type": "markdown",
   "id": "5e6c7114",
   "metadata": {},
   "source": [
    "$$p(X) = \\frac { \\beta_0 + \\beta_1 X + \\dots \\beta_{p}X_{p}}{1+exp\\,( \\beta_0 + \\beta_1 X + \\dots \\beta_{p}X_{p})},\\quad \\in (0,1)$$"
   ]
  },
  {
   "cell_type": "markdown",
   "id": "058ecf4e",
   "metadata": {},
   "source": [
    "***"
   ]
  },
  {
   "cell_type": "markdown",
   "id": "fc532700",
   "metadata": {},
   "source": [
    "## 2. 판별분석(discriminant analysis)"
   ]
  },
  {
   "cell_type": "markdown",
   "id": "21f4aaea",
   "metadata": {},
   "source": [
    "`-` 반응변수가 셋 이상의 범주를 가질 떄, 로지스틱 모형을 확장하여 위와 같이 고려할 수 있다."
   ]
  },
  {
   "cell_type": "markdown",
   "id": "96bb7fae",
   "metadata": {},
   "source": [
    "`-`  그러나 다른 대안들의 존재로 인해 이 경우 로지스틱 모형은 폭넓게 스이지는 않는다."
   ]
  },
  {
   "cell_type": "markdown",
   "id": "7adba98e",
   "metadata": {},
   "source": [
    "`-` 대표적인 대안 중 하나는 **선형판별분석**이다."
   ]
  },
  {
   "cell_type": "markdown",
   "id": "6e3cf516",
   "metadata": {},
   "source": [
    "* 반응변수와 예측변수들의 결합분포에 기반한 방법"
   ]
  },
  {
   "cell_type": "markdown",
   "id": "add827cc",
   "metadata": {},
   "source": [
    "* $n$이작고 $X$의 분포가 정규분포에 가까울 때 판별분석의 성능이 로지스틱보다 좋다."
   ]
  },
  {
   "cell_type": "markdown",
   "id": "e6470d3b",
   "metadata": {},
   "source": [
    "`-` 베이즈 정리"
   ]
  },
  {
   "cell_type": "markdown",
   "id": "2abd93c9",
   "metadata": {},
   "source": [
    "* $k$번째 범주로부터 관측된 $X$의 분포를 $f_k(x)= P(X=x|Y =k) = P(X=x,Y =k)$ 라 하고, $\\pi_k= P(Y=k)$ 를 각 범주의 사전확률이라고 하면, 베이즈 정리에 의하여 다음을 얻는다."
   ]
  },
  {
   "cell_type": "markdown",
   "id": "5c09ec3a",
   "metadata": {},
   "source": [
    "$$P(Y=k | X=x) = \\frac{\\pi_k f_k(x)}{\\sum_{i=1}^{K} \\pi_{i}f_{i}(x)}$$"
   ]
  },
  {
   "cell_type": "markdown",
   "id": "e160e2f1",
   "metadata": {},
   "source": [
    "### (1) LDA(Linear discriminant analysis)"
   ]
  },
  {
   "cell_type": "markdown",
   "id": "1d872d7d",
   "metadata": {},
   "source": [
    "`-`  $p=1, f_k(x)$가 정규분포임과 동시에 각 범주에 해당하는 분포의 분산은 동일하다 가정"
   ]
  },
  {
   "cell_type": "markdown",
   "id": "e1715949",
   "metadata": {},
   "source": [
    "* $p$ 는 예측변수의 개수"
   ]
  },
  {
   "cell_type": "markdown",
   "id": "c0015ee2",
   "metadata": {},
   "source": [
    "$$X \\sim N(\\mu_k, \\sigma_k^{2})$$"
   ]
  },
  {
   "cell_type": "markdown",
   "id": "3b2276ea",
   "metadata": {},
   "source": [
    "`-` 조건부 확률 $P(Y=k | X=x))$를 최대화 시키는 $k$를 찾는 것은 아래의 판별함수를 최대화하는 $k$를 찾는 것이다.\n",
    "\n",
    "* $\\hat{\\delta}_{k}$ 를 최대화시키는 범주 $k$로 관측치를 할당."
   ]
  },
  {
   "cell_type": "markdown",
   "id": "41ba0709",
   "metadata": {},
   "source": [
    "$$\\delta_k(x) = x \\frac {\\mu_k}{\\sigma^2} - \\frac {\\mu_{k}^2}{2\\sigma^2}+ \\log \\pi_k$$"
   ]
  },
  {
   "cell_type": "markdown",
   "id": "2235edac",
   "metadata": {},
   "source": [
    "`-` $K=2$인 경우, 분류를 위한 경계치는"
   ]
  },
  {
   "cell_type": "markdown",
   "id": "dfb8c2f9",
   "metadata": {},
   "source": [
    "$$x = \\frac {\\mu_1+\\mu_2}{2}$$"
   ]
  },
  {
   "cell_type": "markdown",
   "id": "9f8f1702",
   "metadata": {},
   "source": [
    "<center> <img src = \"5.png\" width = 400></center>"
   ]
  },
  {
   "cell_type": "markdown",
   "id": "378f3072",
   "metadata": {},
   "source": [
    "`-` 또한, $p=1$인 경우,  LDA는 다음과 같이 베이즈 분류기를 근사하게 된다."
   ]
  },
  {
   "cell_type": "markdown",
   "id": "f7e8d710",
   "metadata": {},
   "source": [
    "$$\\hat {\\delta}_k(x) = x \\frac {\\hat {\\mu}_k}{\\hat{\\sigma}^2} - \\frac {\\hat{\\mu}_{k}^2}{2\\hat{\\sigma}^2}+ \\log \\hat{\\pi}_k$$"
   ]
  },
  {
   "cell_type": "markdown",
   "id": "dcacd333",
   "metadata": {},
   "source": [
    "$$\\hat {\\mu}_k = \\frac{1}{n_k} \\sum_{i : y_i=k} x_i$$"
   ]
  },
  {
   "cell_type": "markdown",
   "id": "563d8586",
   "metadata": {},
   "source": [
    "$$\\hat {\\sigma}^2 = \\frac{1}{n-K} \\sum_{k=1}^K \\sum_{i:y_i = k} (x_i - \\hat {\\mu}_k)^2$$"
   ]
  },
  {
   "cell_type": "markdown",
   "id": "4c5a987e",
   "metadata": {},
   "source": [
    "$$\\hat {P}(Y=k) = \\hat {\\pi}_k  = \\frac{n_k}{n}$$"
   ]
  },
  {
   "cell_type": "markdown",
   "id": "9ec6fbcd",
   "metadata": {},
   "source": [
    "`-` LDA의 `linear`라는 단어는 판별함수 $\\hat {\\delta}_k(x)$가  $x$의 선형함수로 표현된다는 사실로부터 유래한다."
   ]
  },
  {
   "cell_type": "markdown",
   "id": "adbb23d8",
   "metadata": {},
   "source": [
    "#### if, p>1?"
   ]
  },
  {
   "cell_type": "markdown",
   "id": "e2d86b30",
   "metadata": {},
   "source": [
    "`-` 예측변수가 다변량인 경우 $k$번째 범주에서 예측변수가 다변량 정규분포를 따른다는 가정으로부터 출발한다."
   ]
  },
  {
   "cell_type": "markdown",
   "id": "a95b3929",
   "metadata": {},
   "source": [
    "$$f_k(x) \\sim N(\\mu_k, \\Sigma)$$"
   ]
  },
  {
   "cell_type": "markdown",
   "id": "8ad3cc35",
   "metadata": {},
   "source": [
    "`-` $p=1$ 일 때와 마찬기지로 모든 범주에서 공분산 행렬 $\\sum$는 동일하다고 가정"
   ]
  },
  {
   "cell_type": "markdown",
   "id": "8ebaf92b",
   "metadata": {},
   "source": [
    "$$\\delta_k(x) = x ^{\\top}{\\Sigma}^{-1} {\\mu_k}- \\frac {1}{2} \\mu_{k}^{\\top}{\\Sigma}^{-1}\\mu_k+ \\log \\pi_k$$"
   ]
  },
  {
   "cell_type": "markdown",
   "id": "e7da3c24",
   "metadata": {},
   "source": [
    "### (2) QDA(Quadratic discriminant analysis)"
   ]
  },
  {
   "cell_type": "markdown",
   "id": "ce14c3be",
   "metadata": {},
   "source": [
    "`-` LDA와 다르게 각 범주를 특정하는 정규분포의 분산에 이질성을 허용한다."
   ]
  },
  {
   "cell_type": "markdown",
   "id": "210b4e40",
   "metadata": {},
   "source": [
    "$$X \\sim N(\\mu_k, {\\Sigma}_k)$$"
   ]
  },
  {
   "cell_type": "markdown",
   "id": "eb6b6893",
   "metadata": {},
   "source": [
    "`-` 판별함수는 다음과 같다."
   ]
  },
  {
   "cell_type": "markdown",
   "id": "c16048a9",
   "metadata": {},
   "source": [
    "$$\\delta_k(x) = -\\frac{1}{2}(x-\\mu_k) ^{\\top}{\\Sigma}_{k}^{-1}(x-\\mu_k)- \\frac {1}{2}\\log |{\\Sigma}_k|\\log \\pi_k$$"
   ]
  },
  {
   "cell_type": "markdown",
   "id": "eee04ae6",
   "metadata": {},
   "source": [
    "##  3. KNN(K-nearest neighbors)"
   ]
  },
  {
   "cell_type": "markdown",
   "id": "b16213e6",
   "metadata": {},
   "source": [
    "`-` 조건부 확률을 인접한 $K$개의 data points의 상대비율로 추정"
   ]
  },
  {
   "cell_type": "markdown",
   "id": "6baea7a7",
   "metadata": {},
   "source": [
    "$$P(y=j | X = x_0) = \\frac{1}{K} \\sum_{i\\in N_0} I(y_i=j)$$"
   ]
  },
  {
   "cell_type": "markdown",
   "id": "99f247cf",
   "metadata": {},
   "source": [
    "$$N_0  : x_0  \\text{와 가장 가까운} K \\text{개의 자료의 집합}$$"
   ]
  },
  {
   "cell_type": "markdown",
   "id": "295f6a36",
   "metadata": {},
   "source": [
    "`-` 위 확률을 최대로 하는 $j$로 관측치를 분류"
   ]
  },
  {
   "cell_type": "markdown",
   "id": "c8ddb28f",
   "metadata": {},
   "source": [
    "`-` K의 선택이 분류기의 성능을 결정하는데 매우 핵심적인 역할을 수행한다,"
   ]
  },
  {
   "cell_type": "markdown",
   "id": "b4cfe2ca",
   "metadata": {},
   "source": [
    "## summary"
   ]
  },
  {
   "cell_type": "markdown",
   "id": "19e687a6",
   "metadata": {},
   "source": [
    "`-` 범주가 2개일 때, LDA와 로지스틱모형은 선형적인 decision boundary를 생성한다는 측면에서 동일함"
   ]
  },
  {
   "cell_type": "markdown",
   "id": "b9a1446f",
   "metadata": {},
   "source": [
    "`-` 각 범주의 분포가 정규분포로 잘 근사되는지 여부에 의해서 두 방식의 성능이 엇갈릴 수 있음"
   ]
  },
  {
   "cell_type": "markdown",
   "id": "6a206ea7",
   "metadata": {},
   "source": [
    "`-`  KNN은 decision boundary에 어떠한 가정도 하지 않음. 즉, decision boundary가 비선형인 경우 위 두 방식에 비해 우월성을 보임\n"
   ]
  },
  {
   "cell_type": "markdown",
   "id": "23fc70d4",
   "metadata": {},
   "source": [
    "`-` QDA는 qudratic decision boundary를 설정한다는 면에서 KNN과 LDA 혹은 로지스틱의 중간쯤에 위치하는 방법으로 볼 수 있음"
   ]
  },
  {
   "cell_type": "markdown",
   "id": "90d112ad",
   "metadata": {},
   "source": [
    "* **모든 상황에서 항상 우월한 분류기는 없다**"
   ]
  },
  {
   "cell_type": "markdown",
   "id": "8036868e",
   "metadata": {},
   "source": [
    "## 4. Naive Bayes"
   ]
  },
  {
   "cell_type": "markdown",
   "id": "cc06df6b",
   "metadata": {},
   "source": [
    "`-` 사실 LDA, QDA의 경우  $X$의 확률분포가 정규분포라고 추정하는 것은 어렵다.\n",
    "\n",
    "1.  예측변수 $X_j$ 간의 어떠한 연관성이 있을수가 있음. 즉 독립이 아님\n",
    "\n",
    "2.  따라서 추정이 어려움, 독립이 아닐경우, 결합분포, 주변확률 분포 등등 사전, 사후 확률 계산시  고려해야할 사항들이 너무 많고 복잡함.\n",
    "\n",
    "3.  그래서 나이브 베이즈에서는 각각의 클래스안에서 예측변수들은 서로 독립이다. 라는 가정에서  출발\n",
    "\n",
    "4. $k$번째 클래스 안에서 $X_j$에 대한 확률분포는 다음과 같다."
   ]
  },
  {
   "cell_type": "markdown",
   "id": "837326b2",
   "metadata": {},
   "source": [
    "$$X_j|Y = k \\sim N(\\mu_{jk},\\sigma^{2}_{jk})$$"
   ]
  },
  {
   "cell_type": "markdown",
   "id": "7819a448",
   "metadata": {},
   "source": [
    "`-` 아래는 $k$번째 클래스의 확률분포이다."
   ]
  },
  {
   "cell_type": "markdown",
   "id": "5c08c7bb",
   "metadata": {},
   "source": [
    "$$f_k(x) = f_{k1}(x_1) \\times \\dots  \\times f_{kp}(x_p) $$"
   ]
  },
  {
   "cell_type": "markdown",
   "id": "21b5608d",
   "metadata": {},
   "source": [
    "`-` 이제 사후 확률을 계산식을 살펴보자"
   ]
  },
  {
   "cell_type": "markdown",
   "id": "6394eab0",
   "metadata": {},
   "source": [
    "$$P(Y=k|X=x ) = \\frac{\\pi_k \\times f_{k1}(x_1) \\times f_{k2}(x_2) \\times f_{kp}(x_p)}{\\sum_{i=1}^{k}\\pi_i \\times f_{i1}(x_1) \\times f_{i2}(x_2) \\times f_{ip}(x_p) }$$"
   ]
  },
  {
   "cell_type": "markdown",
   "id": "51e6e54d",
   "metadata": {},
   "source": [
    "`-` example : $\\pi_1= \\pi_2= 0.5$"
   ]
  },
  {
   "cell_type": "markdown",
   "id": "8aad64f8",
   "metadata": {},
   "source": [
    "$K=1, (\\hat {f}_{11}(0.4) = 0.368, \\,\\hat{f}_{12}(1.5) = 0.484, \\, \\hat {f}_{13}(1) = 0.226)  $"
   ]
  },
  {
   "cell_type": "markdown",
   "id": "39a542b0",
   "metadata": {},
   "source": [
    "$K=2, (\\hat {f}_{21}(0.4) = 0.030, \\,\\hat{f}_{22}(1.5) = 0.130, \\, \\hat {f}_{23}(1) = 0.616)  $"
   ]
  },
  {
   "cell_type": "markdown",
   "id": "3721df72",
   "metadata": {},
   "source": [
    "위 공식을 이용하여 각각에 대한 사후활률을 추정하면?"
   ]
  },
  {
   "cell_type": "code",
   "execution_count": 291,
   "id": "3054c6d4",
   "metadata": {},
   "outputs": [
    {
     "name": "stdout",
     "output_type": "stream",
     "text": [
      "P(y=1) = 0.944, P(y=2) = 0.056 \n"
     ]
    }
   ],
   "source": [
    "k1= 0.5*0.368*0.484*0.226/(0.5*0.368*0.484*0.226+ 0.5*0.030*0.130*0.616)\n",
    "k2 = 0.5*0.030*0.130*0.616/(0.5*0.368*0.484*0.226+ 0.5*0.030*0.130*0.616)\n",
    "\n",
    "print(f\"P(y=1) ={k1 : .3f}, P(y=2) ={k2 : .3f} \")"
   ]
  },
  {
   "cell_type": "markdown",
   "id": "ef4e9b9d",
   "metadata": {},
   "source": [
    "* 나이브 베이즈 분류기는 확실이 LDA, QDA보다 계산이 간단하고 모델링 시 더 빠르게 수행될 것 같음"
   ]
  },
  {
   "cell_type": "markdown",
   "id": "66c77614",
   "metadata": {},
   "source": [
    "***"
   ]
  },
  {
   "cell_type": "markdown",
   "id": "6243331c",
   "metadata": {},
   "source": [
    "# Lab"
   ]
  },
  {
   "cell_type": "markdown",
   "id": "9d322aba",
   "metadata": {},
   "source": [
    "## import"
   ]
  },
  {
   "cell_type": "code",
   "execution_count": 1,
   "id": "ff5460ce",
   "metadata": {
    "tags": []
   },
   "outputs": [],
   "source": [
    "# | code-fold : true\n",
    "import numpy as np\n",
    "import pandas as pd\n",
    "from matplotlib.pyplot import subplots\n",
    "import statsmodels.api as sm\n",
    "from ISLP import load_data\n",
    "from ISLP.models import (ModelSpec as MS,\n",
    "summarize)\n",
    "\n",
    "from ISLP import confusion_table\n",
    "from ISLP.models import contrast\n",
    "from sklearn.discriminant_analysis import \\\n",
    "(LinearDiscriminantAnalysis as LDA,\n",
    "QuadraticDiscriminantAnalysis as QDA)\n",
    "from sklearn.naive_bayes import GaussianNB\n",
    "from sklearn.neighbors import KNeighborsClassifier\n",
    "from sklearn.preprocessing import StandardScaler\n",
    "from sklearn.model_selection import train_test_split\n",
    "from sklearn.linear_model import LogisticRegression\n",
    "from sklearn.metrics import classification_report\n",
    "\n",
    "import plotly.express as px\n",
    "import plotly.io as pio\n",
    "pio.renderers.default = \"plotly_mimetype+notebook_connected\""
   ]
  },
  {
   "cell_type": "markdown",
   "id": "d38803ca",
   "metadata": {},
   "source": [
    "## data load"
   ]
  },
  {
   "cell_type": "code",
   "execution_count": 293,
   "id": "11deb629",
   "metadata": {},
   "outputs": [
    {
     "name": "stdout",
     "output_type": "stream",
     "text": [
      "<class 'pandas.core.frame.DataFrame'>\n",
      "RangeIndex: 1250 entries, 0 to 1249\n",
      "Data columns (total 9 columns):\n",
      " #   Column     Non-Null Count  Dtype  \n",
      "---  ------     --------------  -----  \n",
      " 0   Year       1250 non-null   int64  \n",
      " 1   Lag1       1250 non-null   float64\n",
      " 2   Lag2       1250 non-null   float64\n",
      " 3   Lag3       1250 non-null   float64\n",
      " 4   Lag4       1250 non-null   float64\n",
      " 5   Lag5       1250 non-null   float64\n",
      " 6   Volume     1250 non-null   float64\n",
      " 7   Today      1250 non-null   float64\n",
      " 8   Direction  1250 non-null   object \n",
      "dtypes: float64(7), int64(1), object(1)\n",
      "memory usage: 88.0+ KB\n"
     ]
    }
   ],
   "source": [
    "Smarket = load_data('Smarket')\n",
    "Smarket.info()"
   ]
  },
  {
   "cell_type": "code",
   "execution_count": 294,
   "id": "179270f5",
   "metadata": {},
   "outputs": [
    {
     "data": {
      "text/html": [
       "<div>\n",
       "<style scoped>\n",
       "    .dataframe tbody tr th:only-of-type {\n",
       "        vertical-align: middle;\n",
       "    }\n",
       "\n",
       "    .dataframe tbody tr th {\n",
       "        vertical-align: top;\n",
       "    }\n",
       "\n",
       "    .dataframe thead th {\n",
       "        text-align: right;\n",
       "    }\n",
       "</style>\n",
       "<table border=\"1\" class=\"dataframe\">\n",
       "  <thead>\n",
       "    <tr style=\"text-align: right;\">\n",
       "      <th></th>\n",
       "      <th>Year</th>\n",
       "      <th>Lag1</th>\n",
       "      <th>Lag2</th>\n",
       "      <th>Lag3</th>\n",
       "      <th>Lag4</th>\n",
       "      <th>Lag5</th>\n",
       "      <th>Volume</th>\n",
       "      <th>Today</th>\n",
       "      <th>Direction</th>\n",
       "    </tr>\n",
       "  </thead>\n",
       "  <tbody>\n",
       "    <tr>\n",
       "      <th>0</th>\n",
       "      <td>2001</td>\n",
       "      <td>0.381</td>\n",
       "      <td>-0.192</td>\n",
       "      <td>-2.624</td>\n",
       "      <td>-1.055</td>\n",
       "      <td>5.010</td>\n",
       "      <td>1.1913</td>\n",
       "      <td>0.959</td>\n",
       "      <td>Up</td>\n",
       "    </tr>\n",
       "    <tr>\n",
       "      <th>1</th>\n",
       "      <td>2001</td>\n",
       "      <td>0.959</td>\n",
       "      <td>0.381</td>\n",
       "      <td>-0.192</td>\n",
       "      <td>-2.624</td>\n",
       "      <td>-1.055</td>\n",
       "      <td>1.2965</td>\n",
       "      <td>1.032</td>\n",
       "      <td>Up</td>\n",
       "    </tr>\n",
       "    <tr>\n",
       "      <th>2</th>\n",
       "      <td>2001</td>\n",
       "      <td>1.032</td>\n",
       "      <td>0.959</td>\n",
       "      <td>0.381</td>\n",
       "      <td>-0.192</td>\n",
       "      <td>-2.624</td>\n",
       "      <td>1.4112</td>\n",
       "      <td>-0.623</td>\n",
       "      <td>Down</td>\n",
       "    </tr>\n",
       "    <tr>\n",
       "      <th>3</th>\n",
       "      <td>2001</td>\n",
       "      <td>-0.623</td>\n",
       "      <td>1.032</td>\n",
       "      <td>0.959</td>\n",
       "      <td>0.381</td>\n",
       "      <td>-0.192</td>\n",
       "      <td>1.2760</td>\n",
       "      <td>0.614</td>\n",
       "      <td>Up</td>\n",
       "    </tr>\n",
       "    <tr>\n",
       "      <th>4</th>\n",
       "      <td>2001</td>\n",
       "      <td>0.614</td>\n",
       "      <td>-0.623</td>\n",
       "      <td>1.032</td>\n",
       "      <td>0.959</td>\n",
       "      <td>0.381</td>\n",
       "      <td>1.2057</td>\n",
       "      <td>0.213</td>\n",
       "      <td>Up</td>\n",
       "    </tr>\n",
       "  </tbody>\n",
       "</table>\n",
       "</div>"
      ],
      "text/plain": [
       "   Year   Lag1   Lag2   Lag3   Lag4   Lag5  Volume  Today Direction\n",
       "0  2001  0.381 -0.192 -2.624 -1.055  5.010  1.1913  0.959        Up\n",
       "1  2001  0.959  0.381 -0.192 -2.624 -1.055  1.2965  1.032        Up\n",
       "2  2001  1.032  0.959  0.381 -0.192 -2.624  1.4112 -0.623      Down\n",
       "3  2001 -0.623  1.032  0.959  0.381 -0.192  1.2760  0.614        Up\n",
       "4  2001  0.614 -0.623  1.032  0.959  0.381  1.2057  0.213        Up"
      ]
     },
     "execution_count": 294,
     "metadata": {},
     "output_type": "execute_result"
    }
   ],
   "source": [
    "Smarket.head()"
   ]
  },
  {
   "cell_type": "markdown",
   "id": "155bc793",
   "metadata": {},
   "source": [
    "`-` 해당 데이터는 2001년 부터 2005년까지 주식 데이터이다.\n",
    "\n",
    "* Year는 해당 데이터가 관측된 년도\n",
    "\n",
    "* Lag1은 하루 전의 수익률\n",
    "\n",
    "* Lag2는 이틀 전의 수익률\n",
    "\n",
    "* 이렇게 Lag5까지 5일 전까지의 수익률을 가지고 있다.\n",
    "\n",
    "* Volume은 하루에 평균적으로 몇 주가 거래되었는지 \n",
    "\n",
    "* Today는 오늘의 수익률\n",
    "\n",
    "* Direction은 오늘 시장이 Up인지 Down인지 (target)"
   ]
  },
  {
   "cell_type": "markdown",
   "id": "7d1b44fc",
   "metadata": {},
   "source": [
    "## correlation"
   ]
  },
  {
   "cell_type": "code",
   "execution_count": 295,
   "id": "8842cf45",
   "metadata": {},
   "outputs": [
    {
     "data": {
      "text/html": [
       "<div>\n",
       "<style scoped>\n",
       "    .dataframe tbody tr th:only-of-type {\n",
       "        vertical-align: middle;\n",
       "    }\n",
       "\n",
       "    .dataframe tbody tr th {\n",
       "        vertical-align: top;\n",
       "    }\n",
       "\n",
       "    .dataframe thead th {\n",
       "        text-align: right;\n",
       "    }\n",
       "</style>\n",
       "<table border=\"1\" class=\"dataframe\">\n",
       "  <thead>\n",
       "    <tr style=\"text-align: right;\">\n",
       "      <th></th>\n",
       "      <th>Year</th>\n",
       "      <th>Lag1</th>\n",
       "      <th>Lag2</th>\n",
       "      <th>Lag3</th>\n",
       "      <th>Lag4</th>\n",
       "      <th>Lag5</th>\n",
       "      <th>Volume</th>\n",
       "      <th>Today</th>\n",
       "    </tr>\n",
       "  </thead>\n",
       "  <tbody>\n",
       "    <tr>\n",
       "      <th>Year</th>\n",
       "      <td>1.000000</td>\n",
       "      <td>0.029700</td>\n",
       "      <td>0.030596</td>\n",
       "      <td>0.033195</td>\n",
       "      <td>0.035689</td>\n",
       "      <td>0.029788</td>\n",
       "      <td>0.539006</td>\n",
       "      <td>0.030095</td>\n",
       "    </tr>\n",
       "    <tr>\n",
       "      <th>Lag1</th>\n",
       "      <td>0.029700</td>\n",
       "      <td>1.000000</td>\n",
       "      <td>-0.026294</td>\n",
       "      <td>-0.010803</td>\n",
       "      <td>-0.002986</td>\n",
       "      <td>-0.005675</td>\n",
       "      <td>0.040910</td>\n",
       "      <td>-0.026155</td>\n",
       "    </tr>\n",
       "    <tr>\n",
       "      <th>Lag2</th>\n",
       "      <td>0.030596</td>\n",
       "      <td>-0.026294</td>\n",
       "      <td>1.000000</td>\n",
       "      <td>-0.025897</td>\n",
       "      <td>-0.010854</td>\n",
       "      <td>-0.003558</td>\n",
       "      <td>-0.043383</td>\n",
       "      <td>-0.010250</td>\n",
       "    </tr>\n",
       "    <tr>\n",
       "      <th>Lag3</th>\n",
       "      <td>0.033195</td>\n",
       "      <td>-0.010803</td>\n",
       "      <td>-0.025897</td>\n",
       "      <td>1.000000</td>\n",
       "      <td>-0.024051</td>\n",
       "      <td>-0.018808</td>\n",
       "      <td>-0.041824</td>\n",
       "      <td>-0.002448</td>\n",
       "    </tr>\n",
       "    <tr>\n",
       "      <th>Lag4</th>\n",
       "      <td>0.035689</td>\n",
       "      <td>-0.002986</td>\n",
       "      <td>-0.010854</td>\n",
       "      <td>-0.024051</td>\n",
       "      <td>1.000000</td>\n",
       "      <td>-0.027084</td>\n",
       "      <td>-0.048414</td>\n",
       "      <td>-0.006900</td>\n",
       "    </tr>\n",
       "    <tr>\n",
       "      <th>Lag5</th>\n",
       "      <td>0.029788</td>\n",
       "      <td>-0.005675</td>\n",
       "      <td>-0.003558</td>\n",
       "      <td>-0.018808</td>\n",
       "      <td>-0.027084</td>\n",
       "      <td>1.000000</td>\n",
       "      <td>-0.022002</td>\n",
       "      <td>-0.034860</td>\n",
       "    </tr>\n",
       "    <tr>\n",
       "      <th>Volume</th>\n",
       "      <td>0.539006</td>\n",
       "      <td>0.040910</td>\n",
       "      <td>-0.043383</td>\n",
       "      <td>-0.041824</td>\n",
       "      <td>-0.048414</td>\n",
       "      <td>-0.022002</td>\n",
       "      <td>1.000000</td>\n",
       "      <td>0.014592</td>\n",
       "    </tr>\n",
       "    <tr>\n",
       "      <th>Today</th>\n",
       "      <td>0.030095</td>\n",
       "      <td>-0.026155</td>\n",
       "      <td>-0.010250</td>\n",
       "      <td>-0.002448</td>\n",
       "      <td>-0.006900</td>\n",
       "      <td>-0.034860</td>\n",
       "      <td>0.014592</td>\n",
       "      <td>1.000000</td>\n",
       "    </tr>\n",
       "  </tbody>\n",
       "</table>\n",
       "</div>"
      ],
      "text/plain": [
       "            Year      Lag1      Lag2      Lag3      Lag4      Lag5    Volume  \\\n",
       "Year    1.000000  0.029700  0.030596  0.033195  0.035689  0.029788  0.539006   \n",
       "Lag1    0.029700  1.000000 -0.026294 -0.010803 -0.002986 -0.005675  0.040910   \n",
       "Lag2    0.030596 -0.026294  1.000000 -0.025897 -0.010854 -0.003558 -0.043383   \n",
       "Lag3    0.033195 -0.010803 -0.025897  1.000000 -0.024051 -0.018808 -0.041824   \n",
       "Lag4    0.035689 -0.002986 -0.010854 -0.024051  1.000000 -0.027084 -0.048414   \n",
       "Lag5    0.029788 -0.005675 -0.003558 -0.018808 -0.027084  1.000000 -0.022002   \n",
       "Volume  0.539006  0.040910 -0.043383 -0.041824 -0.048414 -0.022002  1.000000   \n",
       "Today   0.030095 -0.026155 -0.010250 -0.002448 -0.006900 -0.034860  0.014592   \n",
       "\n",
       "           Today  \n",
       "Year    0.030095  \n",
       "Lag1   -0.026155  \n",
       "Lag2   -0.010250  \n",
       "Lag3   -0.002448  \n",
       "Lag4   -0.006900  \n",
       "Lag5   -0.034860  \n",
       "Volume  0.014592  \n",
       "Today   1.000000  "
      ]
     },
     "execution_count": 295,
     "metadata": {},
     "output_type": "execute_result"
    }
   ],
   "source": [
    "Smarket.select_dtypes(\"number\").corr()"
   ]
  },
  {
   "cell_type": "markdown",
   "id": "73be13cc",
   "metadata": {},
   "source": [
    "* `Lag_i, todayt` 간 상관계수는 거의 0에 가깝다.\n",
    "\n",
    "* 유일하게 의미가 있아보이는 상관관계는 `Year, Volume`로 계산된 $r$이 **'0.539'** 이다.\n",
    "\n",
    "* 다시 말해서, 2001년부터 2005년까지, 하루 평균 거래량이 증가하고 있다."
   ]
  },
  {
   "cell_type": "code",
   "execution_count": 296,
   "id": "367c6c6f",
   "metadata": {},
   "outputs": [
    {
     "data": {
      "text/plain": [
       "<Axes: >"
      ]
     },
     "execution_count": 296,
     "metadata": {},
     "output_type": "execute_result"
    },
    {
     "data": {
      "image/png": "[encoded data removed]",
      "text/plain": [
       "<Figure size 640x480 with 1 Axes>"
      ]
     },
     "metadata": {},
     "output_type": "display_data"
    }
   ],
   "source": [
    "Smarket.plot( y=\"Volume\")"
   ]
  },
  {
   "cell_type": "markdown",
   "id": "102b87b4",
   "metadata": {},
   "source": [
    "## model1. Logistic"
   ]
  },
  {
   "cell_type": "markdown",
   "id": "e06f81ba",
   "metadata": {},
   "source": [
    "`-` Lag1 ~ Lag5 까지의 변수로 금일 시장이 `up`인지 `down`인지 예측해보자."
   ]
  },
  {
   "cell_type": "code",
   "execution_count": 297,
   "id": "fe024d1a",
   "metadata": {},
   "outputs": [
    {
     "data": {
      "text/plain": [
       "intercept    0.600700\n",
       "Lag1         0.145232\n",
       "Lag2         0.398352\n",
       "Lag3         0.824334\n",
       "Lag4         0.851445\n",
       "Lag5         0.834998\n",
       "Volume       0.392404\n",
       "dtype: float64"
      ]
     },
     "execution_count": 297,
     "metadata": {},
     "output_type": "execute_result"
    }
   ],
   "source": [
    "# step 1. x,y를 저장\n",
    "allvars = Smarket.columns.drop([\"Today\",\"Year\",\"Direction\"])\n",
    "\n",
    "X = MS(allvars).fit_transform(Smarket) \n",
    "y = Smarket.Direction == \"Up\"\n",
    "\n",
    "# step 2.  모형 적합\n",
    "\n",
    "glm = sm.GLM(y,X , family = sm.families.Binomial())\n",
    "\n",
    "# step 3. 모형에 대한 유의성 확인\n",
    "results = glm.fit()\n",
    "results.pvalues"
   ]
  },
  {
   "cell_type": "markdown",
   "id": "a7b42e6e",
   "metadata": {},
   "source": [
    "* 유의미한 변수가 한개도 없다..\n",
    "\n",
    "* 그나마 p-value가 낮은, lag1, lag2만 포함시켜보자\n"
   ]
  },
  {
   "cell_type": "markdown",
   "id": "4bd7243d",
   "metadata": {},
   "source": [
    "`-` predict() : 데이터 집합을 인자로 전달해주지 않으면 훈련 데이터를 이용하여 예측을 수행"
   ]
  },
  {
   "cell_type": "code",
   "execution_count": 298,
   "id": "a33d769f",
   "metadata": {},
   "outputs": [],
   "source": [
    "# step 1. x,y를 저장\n",
    "\n",
    "X = MS([\"Lag1\",\"Lag2\"]).fit_transform(Smarket) \n",
    "y = Smarket.Direction == \"Up\"\n",
    "\n",
    "# step 2.  모형 적합\n",
    "\n",
    "glm = sm.GLM(y,X , family = sm.families.Binomial())\n",
    "\n",
    "# step 3. 모형에 대한 유의성 확인\n",
    "results = glm.fit()"
   ]
  },
  {
   "cell_type": "code",
   "execution_count": 299,
   "id": "00f72f20",
   "metadata": {},
   "outputs": [
    {
     "data": {
      "text/html": [
       "<div>\n",
       "<style scoped>\n",
       "    .dataframe tbody tr th:only-of-type {\n",
       "        vertical-align: middle;\n",
       "    }\n",
       "\n",
       "    .dataframe tbody tr th {\n",
       "        vertical-align: top;\n",
       "    }\n",
       "\n",
       "    .dataframe thead th {\n",
       "        text-align: right;\n",
       "    }\n",
       "</style>\n",
       "<table border=\"1\" class=\"dataframe\">\n",
       "  <thead>\n",
       "    <tr style=\"text-align: right;\">\n",
       "      <th>Truth</th>\n",
       "      <th>Down</th>\n",
       "      <th>Up</th>\n",
       "    </tr>\n",
       "    <tr>\n",
       "      <th>Predicted</th>\n",
       "      <th></th>\n",
       "      <th></th>\n",
       "    </tr>\n",
       "  </thead>\n",
       "  <tbody>\n",
       "    <tr>\n",
       "      <th>Down</th>\n",
       "      <td>114</td>\n",
       "      <td>102</td>\n",
       "    </tr>\n",
       "    <tr>\n",
       "      <th>Up</th>\n",
       "      <td>488</td>\n",
       "      <td>546</td>\n",
       "    </tr>\n",
       "  </tbody>\n",
       "</table>\n",
       "</div>"
      ],
      "text/plain": [
       "Truth      Down   Up\n",
       "Predicted           \n",
       "Down        114  102\n",
       "Up          488  546"
      ]
     },
     "execution_count": 299,
     "metadata": {},
     "output_type": "execute_result"
    }
   ],
   "source": [
    "probs = results.predict()\n",
    "\n",
    "labels = np.array([\"Down\"]*1250)\n",
    "labels[probs > 0.5] = \"Up\"\n",
    "label = [\"Up\",\"Down\"]\n",
    "\n",
    "confusion_table(labels, Smarket.Direction)"
   ]
  },
  {
   "cell_type": "markdown",
   "id": "c2030d8f",
   "metadata": {},
   "source": [
    "### 데이터셋 분할"
   ]
  },
  {
   "cell_type": "markdown",
   "id": "aee157e0",
   "metadata": {},
   "source": [
    "`-` 2005년 이전을 train, 이후를 test로 전환"
   ]
  },
  {
   "cell_type": "code",
   "execution_count": 300,
   "id": "627fabdd",
   "metadata": {},
   "outputs": [],
   "source": [
    "train = (Smarket.Year < 2005)\n",
    "Smarket_train = Smarket.loc[train]\n",
    "Smarket_test = Smarket.loc[-train]\n",
    "\n",
    "X_train, X_test = X.loc[train], X.loc[-train]\n",
    "y_train, y_test = y.loc[train], y.loc[-train]"
   ]
  },
  {
   "cell_type": "markdown",
   "id": "ee31751a",
   "metadata": {},
   "source": [
    "### 모델 적합"
   ]
  },
  {
   "cell_type": "code",
   "execution_count": 302,
   "id": "062b42cc",
   "metadata": {},
   "outputs": [],
   "source": [
    "glm_train = sm.GLM(y_train,\n",
    "                  X_train,\n",
    "                family=sm.families.Binomial())\n",
    "\n",
    "results = glm_train.fit()\n",
    "probs = results.predict(exog=X_test)\n",
    "labels = np.array(['Down']*252)\n",
    "\n",
    "labels[probs >0.5] = 'Up'"
   ]
  },
  {
   "cell_type": "code",
   "execution_count": 304,
   "id": "629fa54e",
   "metadata": {},
   "outputs": [],
   "source": [
    "D = Smarket.Direction\n",
    "L_train, L_test = D.loc[train], D.loc[-train]"
   ]
  },
  {
   "cell_type": "code",
   "execution_count": 306,
   "id": "c5e7f8de",
   "metadata": {},
   "outputs": [
    {
     "data": {
      "text/plain": [
       "0.5595238095238095"
      ]
     },
     "execution_count": 306,
     "metadata": {},
     "output_type": "execute_result"
    }
   ],
   "source": [
    "np.mean(labels == L_test)"
   ]
  },
  {
   "cell_type": "code",
   "execution_count": 307,
   "id": "dfb1554a",
   "metadata": {},
   "outputs": [
    {
     "data": {
      "text/html": [
       "<div>\n",
       "<style scoped>\n",
       "    .dataframe tbody tr th:only-of-type {\n",
       "        vertical-align: middle;\n",
       "    }\n",
       "\n",
       "    .dataframe tbody tr th {\n",
       "        vertical-align: top;\n",
       "    }\n",
       "\n",
       "    .dataframe thead th {\n",
       "        text-align: right;\n",
       "    }\n",
       "</style>\n",
       "<table border=\"1\" class=\"dataframe\">\n",
       "  <thead>\n",
       "    <tr style=\"text-align: right;\">\n",
       "      <th></th>\n",
       "      <th>acc</th>\n",
       "      <th>model</th>\n",
       "    </tr>\n",
       "  </thead>\n",
       "  <tbody>\n",
       "    <tr>\n",
       "      <th>0</th>\n",
       "      <td>0.559524</td>\n",
       "      <td>로지스틱</td>\n",
       "    </tr>\n",
       "  </tbody>\n",
       "</table>\n",
       "</div>"
      ],
      "text/plain": [
       "        acc model\n",
       "0  0.559524  로지스틱"
      ]
     },
     "execution_count": 307,
     "metadata": {},
     "output_type": "execute_result"
    }
   ],
   "source": [
    "report = classification_report(y_true = L_test, y_pred = labels,target_names=label,output_dict=True)\n",
    "result_acc_logistic = pd.DataFrame({\"acc\" : [report[\"accuracy\"]],\n",
    "                             \"model\" : [\"로지스틱\"]})\n",
    "result_acc_logistic"
   ]
  },
  {
   "cell_type": "code",
   "execution_count": 309,
   "id": "942848cd",
   "metadata": {},
   "outputs": [
    {
     "data": {
      "text/html": [
       "<div>\n",
       "<style scoped>\n",
       "    .dataframe tbody tr th:only-of-type {\n",
       "        vertical-align: middle;\n",
       "    }\n",
       "\n",
       "    .dataframe tbody tr th {\n",
       "        vertical-align: top;\n",
       "    }\n",
       "\n",
       "    .dataframe thead th {\n",
       "        text-align: right;\n",
       "    }\n",
       "</style>\n",
       "<table border=\"1\" class=\"dataframe\">\n",
       "  <thead>\n",
       "    <tr style=\"text-align: right;\">\n",
       "      <th></th>\n",
       "      <th>index</th>\n",
       "      <th>Up</th>\n",
       "      <th>model</th>\n",
       "    </tr>\n",
       "  </thead>\n",
       "  <tbody>\n",
       "    <tr>\n",
       "      <th>0</th>\n",
       "      <td>precision</td>\n",
       "      <td>0.500000</td>\n",
       "      <td>로지스틱</td>\n",
       "    </tr>\n",
       "    <tr>\n",
       "      <th>1</th>\n",
       "      <td>recall</td>\n",
       "      <td>0.315315</td>\n",
       "      <td>로지스틱</td>\n",
       "    </tr>\n",
       "    <tr>\n",
       "      <th>2</th>\n",
       "      <td>f1-score</td>\n",
       "      <td>0.386740</td>\n",
       "      <td>로지스틱</td>\n",
       "    </tr>\n",
       "  </tbody>\n",
       "</table>\n",
       "</div>"
      ],
      "text/plain": [
       "       index        Up model\n",
       "0  precision  0.500000  로지스틱\n",
       "1     recall  0.315315  로지스틱\n",
       "2   f1-score  0.386740  로지스틱"
      ]
     },
     "execution_count": 309,
     "metadata": {},
     "output_type": "execute_result"
    }
   ],
   "source": [
    "result_logistic = pd.DataFrame(report).\\\n",
    "                                    eval(\"model = '로지스틱'\")[[\"Up\",\"model\"]].\\\n",
    "                                                reset_index().iloc[:-1,]\n",
    "result_logistic"
   ]
  }
 ],
 "metadata": {
  "kernelspec": {
   "display_name": "Python 3 (ipykernel)",
   "language": "python",
   "name": "python3"
  },
  "language_info": {
   "codemirror_mode": {
    "name": "ipython",
    "version": 3
   },
   "file_extension": ".py",
   "mimetype": "text/x-python",
   "name": "python",
   "nbconvert_exporter": "python",
   "pygments_lexer": "ipython3",
   "version": "3.11.4"
  },
  "toc": {
   "base_numbering": 1,
   "nav_menu": {},
   "number_sections": false,
   "sideBar": true,
   "skip_h1_title": false,
   "title_cell": "Table of Contents",
   "title_sidebar": "Contents",
   "toc_cell": false,
   "toc_position": {
    "height": "calc(100% - 180px)",
    "left": "10px",
    "top": "150px",
    "width": "292.542px"
   },
   "toc_section_display": true,
   "toc_window_display": true
  }
 },
 "nbformat": 4,
 "nbformat_minor": 5
}
