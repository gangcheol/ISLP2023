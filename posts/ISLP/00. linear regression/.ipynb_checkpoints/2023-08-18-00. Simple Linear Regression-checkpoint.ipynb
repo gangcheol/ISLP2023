{
 "cells": [
  {
   "cell_type": "raw",
   "id": "807a3268-8d98-46b3-a742-fe210794923f",
   "metadata": {
    "id": "807a3268-8d98-46b3-a742-fe210794923f"
   },
   "source": [
    "---\n",
    "title : \"00. Simple Linear Regression\"\n",
    "author : \"GC\"\n",
    "date : \"09/03/23\"\n",
    "categories : [LR]\n",
    "---"
   ]
  },
  {
   "cell_type": "markdown",
   "id": "002c755d-6f19-4ce4-bbde-70f0b66f0c08",
   "metadata": {
    "id": "002c755d-6f19-4ce4-bbde-70f0b66f0c08"
   },
   "source": [
    "# import"
   ]
  },
  {
   "cell_type": "markdown",
   "id": "CmvToICe-4h6",
   "metadata": {
    "id": "CmvToICe-4h6"
   },
   "source": [
    "`-` 코랩환경에서 아래 순서대로 진행해야 `ISLP` 패키지 설치시 오류가 발생하지 않는다.\n",
    "\n",
    "1. 드라이브 마운트\n",
    "\n",
    "2. 현재 작업중인 경로로 이동\n",
    "\n",
    "3. 패키지 import"
   ]
  },
  {
   "cell_type": "markdown",
   "id": "f8cec7d8-89af-454c-91aa-789a3a5510dd",
   "metadata": {
    "colab": {
     "base_uri": "https://localhost:8080/"
    },
    "executionInfo": {
     "elapsed": 2445,
     "status": "ok",
     "timestamp": 1692418103482,
     "user": {
      "displayName": "ccc flkwerkdai",
      "userId": "13507850890638580947"
     },
     "user_tz": -540
    },
    "id": "GtR05dYV-sAF",
    "outputId": "d6b14220-8626-4801-bb60-1efac6f91bcf"
   },
   "source": [
    "```python\n",
    "from google.colab import drive\n",
    "drive.mount('/content/drive')\n",
    "```"
   ]
  },
  {
   "cell_type": "markdown",
   "id": "7b144696-edc1-440f-829a-586de0b98879",
   "metadata": {
    "colab": {
     "base_uri": "https://localhost:8080/"
    },
    "executionInfo": {
     "elapsed": 3,
     "status": "ok",
     "timestamp": 1692418108176,
     "user": {
      "displayName": "ccc flkwerkdai",
      "userId": "13507850890638580947"
     },
     "user_tz": -540
    },
    "id": "WrKlP7Wx-JJC",
    "outputId": "3bb6f575-6aab-443a-bdad-80fa983ba208"
   },
   "source": [
    "```python\n",
    "cd /content/drive/MyDrive/Colab Notebooks/ISLP/Linear Regression\n",
    "```"
   ]
  },
  {
   "cell_type": "code",
   "execution_count": 1,
   "id": "c77V1xqf96o8",
   "metadata": {
    "executionInfo": {
     "elapsed": 5,
     "status": "ok",
     "timestamp": 1692418124654,
     "user": {
      "displayName": "ccc flkwerkdai",
      "userId": "13507850890638580947"
     },
     "user_tz": -540
    },
    "id": "c77V1xqf96o8"
   },
   "outputs": [],
   "source": [
    "#pip install ISLP"
   ]
  },
  {
   "cell_type": "code",
   "execution_count": 2,
   "id": "835a1d85-8d7e-40f9-a25e-3bd9a0423f59",
   "metadata": {
    "executionInfo": {
     "elapsed": 5583,
     "status": "ok",
     "timestamp": 1692418133940,
     "user": {
      "displayName": "ccc flkwerkdai",
      "userId": "13507850890638580947"
     },
     "user_tz": -540
    },
    "id": "835a1d85-8d7e-40f9-a25e-3bd9a0423f59",
    "tags": []
   },
   "outputs": [],
   "source": [
    "import numpy as np\n",
    "import pandas as pd\n",
    "import matplotlib.pyplot as plt\n",
    "from ISLP import load_data\n",
    "\n",
    "import statsmodels.api as sm\n",
    "\n",
    "from statsmodels.stats.outliers_influence \\\n",
    "import variance_inflation_factor as VIF\n",
    "from statsmodels.stats.anova import anova_lm\n",
    "from ISLP.models import (ModelSpec as MS,\n",
    "summarize,poly)"
   ]
  },
  {
   "cell_type": "markdown",
   "id": "1a22a766-ea9f-4e39-8efb-8ecab7871b4c",
   "metadata": {
    "id": "1a22a766-ea9f-4e39-8efb-8ecab7871b4c"
   },
   "source": [
    "# 단순선형회귀"
   ]
  },
  {
   "cell_type": "markdown",
   "id": "718ade8f-2742-46e9-b4fd-78c44ea02165",
   "metadata": {
    "id": "718ade8f-2742-46e9-b4fd-78c44ea02165"
   },
   "source": [
    "`-` 정의 : 한 개의 예측변수 $x$를 이용하여 반응변수 $y$를 예측하기 위한 모델링을 수행한다."
   ]
  },
  {
   "cell_type": "markdown",
   "id": "60423e9b-f8eb-43bf-8d43-84c5bacf44fe",
   "metadata": {
    "id": "60423e9b-f8eb-43bf-8d43-84c5bacf44fe"
   },
   "source": [
    "## 표현1"
   ]
  },
  {
   "cell_type": "markdown",
   "id": "07188d50-7d82-45e5-9158-e8f569cdfbf5",
   "metadata": {
    "id": "07188d50-7d82-45e5-9158-e8f569cdfbf5"
   },
   "source": [
    "$$\\hat {y} = \\hat {\\beta}_1x + \\hat {\\beta}_0$$"
   ]
  },
  {
   "cell_type": "markdown",
   "id": "66709679-1e68-4b4e-a587-6984730d3630",
   "metadata": {
    "id": "66709679-1e68-4b4e-a587-6984730d3630"
   },
   "source": [
    "## 표현 2 ($\\star\\star\\star$)"
   ]
  },
  {
   "cell_type": "markdown",
   "id": "2bf88928-f3a4-4691-a432-4a4dc50d19b0",
   "metadata": {
    "id": "2bf88928-f3a4-4691-a432-4a4dc50d19b0"
   },
   "source": [
    "`-` 표현 2가 자주 쓰이니 잘 알아두자."
   ]
  },
  {
   "cell_type": "markdown",
   "id": "941f0d39-50ef-42f2-a070-fdb5e23f41ec",
   "metadata": {
    "id": "941f0d39-50ef-42f2-a070-fdb5e23f41ec"
   },
   "source": [
    "$$\\bf \\hat Y = X \\hat {\\boldsymbol{\\beta}} = \\begin{bmatrix}\n",
    "1  & x_1 \\\\ 1 & x_2  \\\\ \\dots & \\dots \\\\  1  & x_n\\end{bmatrix}\\begin{bmatrix} \\hat \\beta_0  \\\\ \\hat \\beta_1 \\end{bmatrix} $$"
   ]
  },
  {
   "cell_type": "markdown",
   "id": "6853008e-317d-4920-a277-9691590ad216",
   "metadata": {
    "id": "6853008e-317d-4920-a277-9691590ad216"
   },
   "source": [
    "# Lab"
   ]
  },
  {
   "cell_type": "markdown",
   "id": "a62fab6a-eff3-4e34-9176-7120dde690e2",
   "metadata": {
    "id": "a62fab6a-eff3-4e34-9176-7120dde690e2"
   },
   "source": [
    "## 데이터 로드"
   ]
  },
  {
   "cell_type": "markdown",
   "id": "5260ca53-8175-4bd6-9eed-7af5119db987",
   "metadata": {
    "id": "5260ca53-8175-4bd6-9eed-7af5119db987"
   },
   "source": [
    "`-` 아래의 데이터를 살펴보자."
   ]
  },
  {
   "cell_type": "markdown",
   "id": "a5635789-5ba2-4417-b114-54c772937df6",
   "metadata": {
    "id": "a5635789-5ba2-4417-b114-54c772937df6"
   },
   "source": [
    "* `Boston data` :  보스턴 시의 주택 가격에 대한 데이터 정보\n",
    "    * crim : 자치시 별 1인당 범죄율\n",
    "    * zn : 25,000 평방피트르 초과하는 거주지역의 비율\n",
    "    * indus : 비소매상업지역이 점유하고 있는 토지의 비율\n",
    "    * chas : 찰스강에 대한 더미변수 (강의 경계에 위치한 경우는 1, 아니면 0)\n",
    "    * nos : 10ppm당 농축 일산화 질소\n",
    "    * rm : 주택 1가구당 평균 방의 개수\n",
    "    * age : 1940년 이전에 건축된 소유주택의 비율\n",
    "    * dis : 5개의 보스턴 직업센터까지의 접근성 지수\n",
    "    * rad : 방사형 도로까지의 접근성 지수\n",
    "    * tax : 10,000 달러 당 재산 세율\n",
    "    * ptratio : 자치시별 학생/교사 비율\n",
    "    * lstat : 모집단의 하위 계층의 비율\n",
    "    * medv : 본인 소유의 주택가격(중앙값) (단위 : $ 1,000)"
   ]
  },
  {
   "cell_type": "code",
   "execution_count": 3,
   "id": "427014be-442a-4551-ad30-c62c261db93c",
   "metadata": {
    "colab": {
     "base_uri": "https://localhost:8080/"
    },
    "executionInfo": {
     "elapsed": 285,
     "status": "ok",
     "timestamp": 1692418295016,
     "user": {
      "displayName": "ccc flkwerkdai",
      "userId": "13507850890638580947"
     },
     "user_tz": -540
    },
    "id": "427014be-442a-4551-ad30-c62c261db93c",
    "outputId": "9149e5ae-7ea3-455e-ca53-0b3a5808dc6e",
    "tags": []
   },
   "outputs": [
    {
     "data": {
      "text/plain": [
       "Index(['crim', 'zn', 'indus', 'chas', 'nox', 'rm', 'age', 'dis', 'rad', 'tax',\n",
       "       'ptratio', 'lstat', 'medv'],\n",
       "      dtype='object')"
      ]
     },
     "execution_count": 3,
     "metadata": {},
     "output_type": "execute_result"
    }
   ],
   "source": [
    "Boston = load_data(\"Boston\")\n",
    "Boston.columns\n",
    "#len(Boston.columns)"
   ]
  },
  {
   "cell_type": "markdown",
   "id": "355b7151-b669-43fe-ad06-db7fdf0d8586",
   "metadata": {
    "id": "355b7151-b669-43fe-ad06-db7fdf0d8586"
   },
   "source": [
    "## X,y 생성"
   ]
  },
  {
   "cell_type": "markdown",
   "id": "303f96bb-4fbc-4e99-9bd6-16d4be022516",
   "metadata": {
    "id": "303f96bb-4fbc-4e99-9bd6-16d4be022516"
   },
   "source": [
    "$$\\bf X = \\begin{bmatrix}\n",
    "1  & x_1 \\\\ 1 & x_2  \\\\ \\dots & \\dots \\\\  1  & x_n\\end{bmatrix}$$"
   ]
  },
  {
   "cell_type": "markdown",
   "id": "e9429ee3-381e-4dbd-9622-eef205d6d87f",
   "metadata": {
    "id": "e9429ee3-381e-4dbd-9622-eef205d6d87f"
   },
   "source": [
    "* `lstat` 변수를 예측변수로, `medv`변수를 반응변수로 사용"
   ]
  },
  {
   "cell_type": "code",
   "execution_count": 4,
   "id": "57e77576-8419-427b-81fb-c8c997fc167c",
   "metadata": {
    "colab": {
     "base_uri": "https://localhost:8080/",
     "height": 206
    },
    "executionInfo": {
     "elapsed": 367,
     "status": "ok",
     "timestamp": 1692418296890,
     "user": {
      "displayName": "ccc flkwerkdai",
      "userId": "13507850890638580947"
     },
     "user_tz": -540
    },
    "id": "57e77576-8419-427b-81fb-c8c997fc167c",
    "outputId": "f944789d-4e28-4573-d367-427f6d4879c0",
    "tags": []
   },
   "outputs": [
    {
     "data": {
      "text/html": [
       "<div>\n",
       "<style scoped>\n",
       "    .dataframe tbody tr th:only-of-type {\n",
       "        vertical-align: middle;\n",
       "    }\n",
       "\n",
       "    .dataframe tbody tr th {\n",
       "        vertical-align: top;\n",
       "    }\n",
       "\n",
       "    .dataframe thead th {\n",
       "        text-align: right;\n",
       "    }\n",
       "</style>\n",
       "<table border=\"1\" class=\"dataframe\">\n",
       "  <thead>\n",
       "    <tr style=\"text-align: right;\">\n",
       "      <th></th>\n",
       "      <th>intercept</th>\n",
       "      <th>lstat</th>\n",
       "    </tr>\n",
       "  </thead>\n",
       "  <tbody>\n",
       "    <tr>\n",
       "      <th>0</th>\n",
       "      <td>1.0</td>\n",
       "      <td>4.98</td>\n",
       "    </tr>\n",
       "    <tr>\n",
       "      <th>1</th>\n",
       "      <td>1.0</td>\n",
       "      <td>9.14</td>\n",
       "    </tr>\n",
       "    <tr>\n",
       "      <th>2</th>\n",
       "      <td>1.0</td>\n",
       "      <td>4.03</td>\n",
       "    </tr>\n",
       "    <tr>\n",
       "      <th>3</th>\n",
       "      <td>1.0</td>\n",
       "      <td>2.94</td>\n",
       "    </tr>\n",
       "    <tr>\n",
       "      <th>4</th>\n",
       "      <td>1.0</td>\n",
       "      <td>5.33</td>\n",
       "    </tr>\n",
       "  </tbody>\n",
       "</table>\n",
       "</div>"
      ],
      "text/plain": [
       "   intercept  lstat\n",
       "0        1.0   4.98\n",
       "1        1.0   9.14\n",
       "2        1.0   4.03\n",
       "3        1.0   2.94\n",
       "4        1.0   5.33"
      ]
     },
     "execution_count": 4,
     "metadata": {},
     "output_type": "execute_result"
    }
   ],
   "source": [
    "X = pd.DataFrame({\"intercept\" : np.ones(Boston.shape[0]),\n",
    "                  \"lstat\" : Boston[\"lstat\"]})\n",
    "y = Boston[\"medv\"]\n",
    "X.head()"
   ]
  },
  {
   "cell_type": "markdown",
   "id": "060f7624-fa31-4441-bdde-0d01df8897be",
   "metadata": {
    "id": "060f7624-fa31-4441-bdde-0d01df8897be"
   },
   "source": [
    "`-` OLS : Ordinary Least Squares의 약자로, 주어진 데이터에서 오차의 제곱을 최소화하는 $\\beta_i$를 추정한다."
   ]
  },
  {
   "cell_type": "raw",
   "id": "96a35fb6-193d-44eb-ab12-3b2f60a0b621",
   "metadata": {
    "id": "96a35fb6-193d-44eb-ab12-3b2f60a0b621"
   },
   "source": [
    "## 모델 적합"
   ]
  },
  {
   "cell_type": "code",
   "execution_count": 5,
   "id": "d91d0e18-6275-4e28-9069-2b121fcb9beb",
   "metadata": {
    "executionInfo": {
     "elapsed": 1,
     "status": "ok",
     "timestamp": 1692418298191,
     "user": {
      "displayName": "ccc flkwerkdai",
      "userId": "13507850890638580947"
     },
     "user_tz": -540
    },
    "id": "d91d0e18-6275-4e28-9069-2b121fcb9beb",
    "tags": []
   },
   "outputs": [],
   "source": [
    "model = sm.OLS(y,X)\n",
    "results = model.fit()"
   ]
  },
  {
   "cell_type": "code",
   "execution_count": 6,
   "id": "0b729f87-0ae4-4943-b831-0e94e2ed42ee",
   "metadata": {
    "executionInfo": {
     "elapsed": 458,
     "status": "ok",
     "timestamp": 1692418299090,
     "user": {
      "displayName": "ccc flkwerkdai",
      "userId": "13507850890638580947"
     },
     "user_tz": -540
    },
    "id": "0b729f87-0ae4-4943-b831-0e94e2ed42ee",
    "tags": []
   },
   "outputs": [],
   "source": [
    "s_result = summarize(results)"
   ]
  },
  {
   "cell_type": "code",
   "execution_count": 7,
   "id": "67e7fd1c-8211-4e8f-a856-4c6bce44f7d3",
   "metadata": {
    "colab": {
     "base_uri": "https://localhost:8080/",
     "height": 112
    },
    "executionInfo": {
     "elapsed": 5,
     "status": "ok",
     "timestamp": 1692418299090,
     "user": {
      "displayName": "ccc flkwerkdai",
      "userId": "13507850890638580947"
     },
     "user_tz": -540
    },
    "id": "67e7fd1c-8211-4e8f-a856-4c6bce44f7d3",
    "outputId": "9470f95a-83af-46d6-ce2d-88294e9e35dc",
    "tags": []
   },
   "outputs": [
    {
     "data": {
      "text/html": [
       "<div>\n",
       "<style scoped>\n",
       "    .dataframe tbody tr th:only-of-type {\n",
       "        vertical-align: middle;\n",
       "    }\n",
       "\n",
       "    .dataframe tbody tr th {\n",
       "        vertical-align: top;\n",
       "    }\n",
       "\n",
       "    .dataframe thead th {\n",
       "        text-align: right;\n",
       "    }\n",
       "</style>\n",
       "<table border=\"1\" class=\"dataframe\">\n",
       "  <thead>\n",
       "    <tr style=\"text-align: right;\">\n",
       "      <th></th>\n",
       "      <th>coef</th>\n",
       "      <th>std err</th>\n",
       "      <th>t</th>\n",
       "      <th>P&gt;|t|</th>\n",
       "    </tr>\n",
       "  </thead>\n",
       "  <tbody>\n",
       "    <tr>\n",
       "      <th>intercept</th>\n",
       "      <td>34.5538</td>\n",
       "      <td>0.563</td>\n",
       "      <td>61.415</td>\n",
       "      <td>0.0</td>\n",
       "    </tr>\n",
       "    <tr>\n",
       "      <th>lstat</th>\n",
       "      <td>-0.9500</td>\n",
       "      <td>0.039</td>\n",
       "      <td>-24.528</td>\n",
       "      <td>0.0</td>\n",
       "    </tr>\n",
       "  </tbody>\n",
       "</table>\n",
       "</div>"
      ],
      "text/plain": [
       "              coef  std err       t  P>|t|\n",
       "intercept  34.5538    0.563  61.415    0.0\n",
       "lstat      -0.9500    0.039 -24.528    0.0"
      ]
     },
     "execution_count": 7,
     "metadata": {},
     "output_type": "execute_result"
    }
   ],
   "source": [
    "s_result"
   ]
  },
  {
   "cell_type": "markdown",
   "id": "0ec74ec8-9ace-4a4d-bbd7-fa21d60ccbe2",
   "metadata": {
    "id": "0ec74ec8-9ace-4a4d-bbd7-fa21d60ccbe2"
   },
   "source": [
    "`-` 적합된 모델을 해석하면 다음과 같다."
   ]
  },
  {
   "cell_type": "markdown",
   "id": "c0ba3b01-088a-4314-ba23-1d763b0bcc16",
   "metadata": {
    "id": "c0ba3b01-088a-4314-ba23-1d763b0bcc16"
   },
   "source": [
    "$$\\hat {\\text{medv}} = -0.95 \\times \\text{lstat} + 34\n",
    ".5538$$"
   ]
  },
  {
   "cell_type": "markdown",
   "id": "45665236-da7b-4643-90d1-8c3520bc1275",
   "metadata": {
    "id": "45665236-da7b-4643-90d1-8c3520bc1275"
   },
   "source": [
    "## 시각화"
   ]
  },
  {
   "cell_type": "code",
   "execution_count": 8,
   "id": "235181d7-2db0-42cb-8148-688ae5fe91ea",
   "metadata": {
    "executionInfo": {
     "elapsed": 2,
     "status": "ok",
     "timestamp": 1692418300127,
     "user": {
      "displayName": "ccc flkwerkdai",
      "userId": "13507850890638580947"
     },
     "user_tz": -540
    },
    "id": "235181d7-2db0-42cb-8148-688ae5fe91ea",
    "tags": []
   },
   "outputs": [],
   "source": [
    "x = Boston[\"lstat\"]\n",
    "yhat = results.predict()"
   ]
  },
  {
   "cell_type": "code",
   "execution_count": 9,
   "id": "ac41997f-0fbc-4d5e-82e0-ea992069ddfa",
   "metadata": {
    "colab": {
     "base_uri": "https://localhost:8080/",
     "height": 448
    },
    "executionInfo": {
     "elapsed": 974,
     "status": "ok",
     "timestamp": 1692418301507,
     "user": {
      "displayName": "ccc flkwerkdai",
      "userId": "13507850890638580947"
     },
     "user_tz": -540
    },
    "id": "ac41997f-0fbc-4d5e-82e0-ea992069ddfa",
    "outputId": "a1188bb9-5489-430d-fcdd-8d16ce5e6788",
    "tags": []
   },
   "outputs": [
    {
     "data": {
      "text/plain": [
       "<matplotlib.legend.Legend at 0x28355668350>"
      ]
     },
     "execution_count": 9,
     "metadata": {},
     "output_type": "execute_result"
    },
    {
     "data": {
      "image/png": "[encoded data removed]",
      "text/plain": [
       "<Figure size 640x480 with 1 Axes>"
      ]
     },
     "metadata": {},
     "output_type": "display_data"
    }
   ],
   "source": [
    "#| code-fold : true\n",
    "plt.plot(x,y,\"o\",label = r\"$(x,y)$\",alpha=0.3)\n",
    "plt.plot(x,yhat,\"--\",label = r\"$(x,\\hat {y})$\")\n",
    "plt.legend()"
   ]
  },
  {
   "cell_type": "markdown",
   "id": "4f1e174f-c17f-4c81-aa60-b46ee1ad1f91",
   "metadata": {
    "id": "4f1e174f-c17f-4c81-aa60-b46ee1ad1f91"
   },
   "source": [
    "## ModelSpec() : $\\bf X$를 선언하는 또 다른 방법"
   ]
  },
  {
   "cell_type": "markdown",
   "id": "496d4f10-c817-45a9-b217-4a904d0c9fd7",
   "metadata": {
    "id": "496d4f10-c817-45a9-b217-4a904d0c9fd7"
   },
   "source": [
    "`-` 우리는 앞서 다음과 같은 module을 import 했다"
   ]
  },
  {
   "cell_type": "markdown",
   "id": "84189675-c28f-42ca-9846-dd73a0200d74",
   "metadata": {
    "id": "84189675-c28f-42ca-9846-dd73a0200d74"
   },
   "source": [
    "```python\n",
    "from ISLP.models import (ModelSpec as MS,\n",
    "summarize,poly)\n",
    "```"
   ]
  },
  {
   "cell_type": "markdown",
   "id": "7be121b9-1fe5-4288-9c3b-f3aa906e22bb",
   "metadata": {
    "id": "7be121b9-1fe5-4288-9c3b-f3aa906e22bb",
    "tags": []
   },
   "source": [
    "`-` ModelSpec이라는 모듈을 `MS`로 사용할 것으로 지칭"
   ]
  },
  {
   "cell_type": "markdown",
   "id": "4cccd8a1-fb01-4aea-b19e-1d910d32afa0",
   "metadata": {
    "id": "4cccd8a1-fb01-4aea-b19e-1d910d32afa0"
   },
   "source": [
    "`-` 이 모듈은 예측변수 $x$를 컴퓨터가 이해할 수 있게끔 변환해준다."
   ]
  },
  {
   "cell_type": "markdown",
   "id": "5ae4299e-b84e-4b38-8a5c-f4b4a4bf5615",
   "metadata": {
    "id": "5ae4299e-b84e-4b38-8a5c-f4b4a4bf5615"
   },
   "source": [
    "`-` step1. 전달할 $x$를 다음과 같이 전달"
   ]
  },
  {
   "cell_type": "code",
   "execution_count": 10,
   "id": "313b716d-2b97-4068-89ad-f994bd6a38cd",
   "metadata": {
    "executionInfo": {
     "elapsed": 2,
     "status": "ok",
     "timestamp": 1692418303684,
     "user": {
      "displayName": "ccc flkwerkdai",
      "userId": "13507850890638580947"
     },
     "user_tz": -540
    },
    "id": "313b716d-2b97-4068-89ad-f994bd6a38cd",
    "tags": []
   },
   "outputs": [],
   "source": [
    "design = MS(['lstat'])"
   ]
  },
  {
   "cell_type": "markdown",
   "id": "2caf5e43-67bf-4767-85ed-d8c48fc9d6f8",
   "metadata": {
    "id": "2caf5e43-67bf-4767-85ed-d8c48fc9d6f8"
   },
   "source": [
    "`-` step2. 컴퓨터가 이해할 수 있는 형태에 맞게 $x$를 변환 $\\to$ 주어진 $x$를 매트릭스 형태로 변환해줌"
   ]
  },
  {
   "cell_type": "code",
   "execution_count": 11,
   "id": "17bd6943-9ee7-4432-8a46-1d484df3d447",
   "metadata": {
    "id": "17bd6943-9ee7-4432-8a46-1d484df3d447",
    "tags": []
   },
   "outputs": [],
   "source": [
    "X = design.fit_transform(Boston)"
   ]
  },
  {
   "cell_type": "code",
   "execution_count": 12,
   "id": "5807bba0-c8a1-45bf-adcf-f1f23a48e9ed",
   "metadata": {
    "colab": {
     "base_uri": "https://localhost:8080/",
     "height": 206
    },
    "executionInfo": {
     "elapsed": 3,
     "status": "ok",
     "timestamp": 1692418304836,
     "user": {
      "displayName": "ccc flkwerkdai",
      "userId": "13507850890638580947"
     },
     "user_tz": -540
    },
    "id": "5807bba0-c8a1-45bf-adcf-f1f23a48e9ed",
    "outputId": "8397293e-2576-455b-af07-b1f872b62b59",
    "tags": []
   },
   "outputs": [
    {
     "data": {
      "text/html": [
       "<div>\n",
       "<style scoped>\n",
       "    .dataframe tbody tr th:only-of-type {\n",
       "        vertical-align: middle;\n",
       "    }\n",
       "\n",
       "    .dataframe tbody tr th {\n",
       "        vertical-align: top;\n",
       "    }\n",
       "\n",
       "    .dataframe thead th {\n",
       "        text-align: right;\n",
       "    }\n",
       "</style>\n",
       "<table border=\"1\" class=\"dataframe\">\n",
       "  <thead>\n",
       "    <tr style=\"text-align: right;\">\n",
       "      <th></th>\n",
       "      <th>intercept</th>\n",
       "      <th>lstat</th>\n",
       "    </tr>\n",
       "  </thead>\n",
       "  <tbody>\n",
       "    <tr>\n",
       "      <th>0</th>\n",
       "      <td>1.0</td>\n",
       "      <td>4.98</td>\n",
       "    </tr>\n",
       "    <tr>\n",
       "      <th>1</th>\n",
       "      <td>1.0</td>\n",
       "      <td>9.14</td>\n",
       "    </tr>\n",
       "    <tr>\n",
       "      <th>2</th>\n",
       "      <td>1.0</td>\n",
       "      <td>4.03</td>\n",
       "    </tr>\n",
       "    <tr>\n",
       "      <th>3</th>\n",
       "      <td>1.0</td>\n",
       "      <td>2.94</td>\n",
       "    </tr>\n",
       "    <tr>\n",
       "      <th>4</th>\n",
       "      <td>1.0</td>\n",
       "      <td>5.33</td>\n",
       "    </tr>\n",
       "  </tbody>\n",
       "</table>\n",
       "</div>"
      ],
      "text/plain": [
       "   intercept  lstat\n",
       "0        1.0   4.98\n",
       "1        1.0   9.14\n",
       "2        1.0   4.03\n",
       "3        1.0   2.94\n",
       "4        1.0   5.33"
      ]
     },
     "execution_count": 12,
     "metadata": {},
     "output_type": "execute_result"
    }
   ],
   "source": [
    "X.head()"
   ]
  },
  {
   "cell_type": "markdown",
   "id": "ede29a39-1862-4186-b711-c1555712cd93",
   "metadata": {
    "id": "ede29a39-1862-4186-b711-c1555712cd93"
   },
   "source": [
    "### 모델 적합"
   ]
  },
  {
   "cell_type": "code",
   "execution_count": 13,
   "id": "2819b70a-262a-439c-a46f-651d92520e2c",
   "metadata": {
    "executionInfo": {
     "elapsed": 1,
     "status": "ok",
     "timestamp": 1692418305709,
     "user": {
      "displayName": "ccc flkwerkdai",
      "userId": "13507850890638580947"
     },
     "user_tz": -540
    },
    "id": "2819b70a-262a-439c-a46f-651d92520e2c",
    "tags": []
   },
   "outputs": [],
   "source": [
    "model = sm.OLS(y, X)\n",
    "results = model.fit()"
   ]
  },
  {
   "cell_type": "markdown",
   "id": "cc70dbe8-b6a5-488f-9630-6da0ed637c7a",
   "metadata": {
    "id": "cc70dbe8-b6a5-488f-9630-6da0ed637c7a"
   },
   "source": [
    "### 모델 요약"
   ]
  },
  {
   "cell_type": "code",
   "execution_count": 14,
   "id": "d1d08c06-cfd3-4601-827d-7d9145d9c0f4",
   "metadata": {
    "executionInfo": {
     "elapsed": 282,
     "status": "ok",
     "timestamp": 1692418306910,
     "user": {
      "displayName": "ccc flkwerkdai",
      "userId": "13507850890638580947"
     },
     "user_tz": -540
    },
    "id": "d1d08c06-cfd3-4601-827d-7d9145d9c0f4",
    "tags": []
   },
   "outputs": [],
   "source": [
    "report = results.summary()"
   ]
  },
  {
   "cell_type": "code",
   "execution_count": 15,
   "id": "e966562c-e7d4-4717-b8ff-11ab8559b505",
   "metadata": {
    "colab": {
     "base_uri": "https://localhost:8080/",
     "height": 226
    },
    "executionInfo": {
     "elapsed": 3,
     "status": "ok",
     "timestamp": 1692418307229,
     "user": {
      "displayName": "ccc flkwerkdai",
      "userId": "13507850890638580947"
     },
     "user_tz": -540
    },
    "id": "e966562c-e7d4-4717-b8ff-11ab8559b505",
    "outputId": "8fa53537-4f7e-4944-d85c-08a7080c4240",
    "tags": []
   },
   "outputs": [
    {
     "data": {
      "text/html": [
       "<table class=\"simpletable\">\n",
       "<caption>OLS Regression Results</caption>\n",
       "<tr>\n",
       "  <th>Dep. Variable:</th>          <td>medv</td>       <th>  R-squared:         </th> <td>   0.544</td>\n",
       "</tr>\n",
       "<tr>\n",
       "  <th>Model:</th>                   <td>OLS</td>       <th>  Adj. R-squared:    </th> <td>   0.543</td>\n",
       "</tr>\n",
       "<tr>\n",
       "  <th>Method:</th>             <td>Least Squares</td>  <th>  F-statistic:       </th> <td>   601.6</td>\n",
       "</tr>\n",
       "<tr>\n",
       "  <th>Date:</th>             <td>Sun, 03 Sep 2023</td> <th>  Prob (F-statistic):</th> <td>5.08e-88</td>\n",
       "</tr>\n",
       "<tr>\n",
       "  <th>Time:</th>                 <td>19:16:47</td>     <th>  Log-Likelihood:    </th> <td> -1641.5</td>\n",
       "</tr>\n",
       "<tr>\n",
       "  <th>No. Observations:</th>      <td>   506</td>      <th>  AIC:               </th> <td>   3287.</td>\n",
       "</tr>\n",
       "<tr>\n",
       "  <th>Df Residuals:</th>          <td>   504</td>      <th>  BIC:               </th> <td>   3295.</td>\n",
       "</tr>\n",
       "<tr>\n",
       "  <th>Df Model:</th>              <td>     1</td>      <th>                     </th>     <td> </td>   \n",
       "</tr>\n",
       "<tr>\n",
       "  <th>Covariance Type:</th>      <td>nonrobust</td>    <th>                     </th>     <td> </td>   \n",
       "</tr>\n",
       "</table>"
      ],
      "text/latex": [
       "\\begin{center}\n",
       "\\begin{tabular}{lclc}\n",
       "\\toprule\n",
       "\\textbf{Dep. Variable:}    &       medv       & \\textbf{  R-squared:         } &    0.544  \\\\\n",
       "\\textbf{Model:}            &       OLS        & \\textbf{  Adj. R-squared:    } &    0.543  \\\\\n",
       "\\textbf{Method:}           &  Least Squares   & \\textbf{  F-statistic:       } &    601.6  \\\\\n",
       "\\textbf{Date:}             & Sun, 03 Sep 2023 & \\textbf{  Prob (F-statistic):} & 5.08e-88  \\\\\n",
       "\\textbf{Time:}             &     19:16:47     & \\textbf{  Log-Likelihood:    } &  -1641.5  \\\\\n",
       "\\textbf{No. Observations:} &         506      & \\textbf{  AIC:               } &    3287.  \\\\\n",
       "\\textbf{Df Residuals:}     &         504      & \\textbf{  BIC:               } &    3295.  \\\\\n",
       "\\textbf{Df Model:}         &           1      & \\textbf{                     } &           \\\\\n",
       "\\textbf{Covariance Type:}  &    nonrobust     & \\textbf{                     } &           \\\\\n",
       "\\bottomrule\n",
       "\\end{tabular}\n",
       "%\\caption{OLS Regression Results}\n",
       "\\end{center}"
      ],
      "text/plain": [
       "<class 'statsmodels.iolib.table.SimpleTable'>"
      ]
     },
     "execution_count": 15,
     "metadata": {},
     "output_type": "execute_result"
    }
   ],
   "source": [
    "report.tables[0]"
   ]
  },
  {
   "cell_type": "markdown",
   "id": "32380d1a-f00b-4d71-8fe1-3bab4fc8f53d",
   "metadata": {
    "id": "32380d1a-f00b-4d71-8fe1-3bab4fc8f53d"
   },
   "source": [
    "`-` 이런식으로 위의 표에 대한 데이터도 확인할 수 있음"
   ]
  },
  {
   "cell_type": "code",
   "execution_count": 16,
   "id": "b4a1650b-9613-4b22-9824-d69b06181b49",
   "metadata": {
    "colab": {
     "base_uri": "https://localhost:8080/"
    },
    "executionInfo": {
     "elapsed": 2,
     "status": "ok",
     "timestamp": 1692418308330,
     "user": {
      "displayName": "ccc flkwerkdai",
      "userId": "13507850890638580947"
     },
     "user_tz": -540
    },
    "id": "b4a1650b-9613-4b22-9824-d69b06181b49",
    "outputId": "4eaf52f9-81bb-41d0-aa92-75e999ad92bb",
    "tags": []
   },
   "outputs": [
    {
     "data": {
      "text/plain": [
       "[['Dep. Variable:', 'medv', '  R-squared:         ', '   0.544'],\n",
       " ['Model:', 'OLS', '  Adj. R-squared:    ', '   0.543'],\n",
       " ['Method:', 'Least Squares', '  F-statistic:       ', '   601.6'],\n",
       " ['Date:', 'Sun, 03 Sep 2023', '  Prob (F-statistic):', '5.08e-88'],\n",
       " ['Time:', '19:16:47', '  Log-Likelihood:    ', ' -1641.5'],\n",
       " ['No. Observations:', '   506', '  AIC:               ', '   3287.'],\n",
       " ['Df Residuals:', '   504', '  BIC:               ', '   3295.'],\n",
       " ['Df Model:', '     1', '                     ', ' '],\n",
       " ['Covariance Type:', 'nonrobust', '                     ', ' ']]"
      ]
     },
     "execution_count": 16,
     "metadata": {},
     "output_type": "execute_result"
    }
   ],
   "source": [
    "report.tables[0].data"
   ]
  },
  {
   "cell_type": "markdown",
   "id": "ca75c01e-43d4-4e6d-b7cb-b9d9cd2191b5",
   "metadata": {
    "id": "ca75c01e-43d4-4e6d-b7cb-b9d9cd2191b5"
   },
   "source": [
    "`-` 추정된 회귀계수값 확인"
   ]
  },
  {
   "cell_type": "code",
   "execution_count": 17,
   "id": "aec8dce8-43ab-4e98-8ab5-f133769d5921",
   "metadata": {
    "colab": {
     "base_uri": "https://localhost:8080/"
    },
    "executionInfo": {
     "elapsed": 1,
     "status": "ok",
     "timestamp": 1692418309619,
     "user": {
      "displayName": "ccc flkwerkdai",
      "userId": "13507850890638580947"
     },
     "user_tz": -540
    },
    "id": "aec8dce8-43ab-4e98-8ab5-f133769d5921",
    "outputId": "d2d63192-13b9-46d4-b4c3-4d54e5792013",
    "tags": []
   },
   "outputs": [
    {
     "data": {
      "text/plain": [
       "intercept    34.553841\n",
       "lstat        -0.950049\n",
       "dtype: float64"
      ]
     },
     "execution_count": 17,
     "metadata": {},
     "output_type": "execute_result"
    }
   ],
   "source": [
    "results.params"
   ]
  },
  {
   "cell_type": "markdown",
   "id": "d96d950e-9f49-4c72-945c-6168ce4326f9",
   "metadata": {
    "id": "d96d950e-9f49-4c72-945c-6168ce4326f9"
   },
   "source": [
    "### 모델 해석1 (모델의 유의성)"
   ]
  },
  {
   "cell_type": "code",
   "execution_count": 18,
   "id": "3d83dad6-9af6-4bc8-88fe-dff9edba6830",
   "metadata": {
    "colab": {
     "base_uri": "https://localhost:8080/",
     "height": 226
    },
    "executionInfo": {
     "elapsed": 449,
     "status": "ok",
     "timestamp": 1692418310485,
     "user": {
      "displayName": "ccc flkwerkdai",
      "userId": "13507850890638580947"
     },
     "user_tz": -540
    },
    "id": "3d83dad6-9af6-4bc8-88fe-dff9edba6830",
    "outputId": "e25bd048-2142-4031-d092-dff498233970",
    "tags": []
   },
   "outputs": [
    {
     "data": {
      "text/html": [
       "<table class=\"simpletable\">\n",
       "<caption>OLS Regression Results</caption>\n",
       "<tr>\n",
       "  <th>Dep. Variable:</th>          <td>medv</td>       <th>  R-squared:         </th> <td>   0.544</td>\n",
       "</tr>\n",
       "<tr>\n",
       "  <th>Model:</th>                   <td>OLS</td>       <th>  Adj. R-squared:    </th> <td>   0.543</td>\n",
       "</tr>\n",
       "<tr>\n",
       "  <th>Method:</th>             <td>Least Squares</td>  <th>  F-statistic:       </th> <td>   601.6</td>\n",
       "</tr>\n",
       "<tr>\n",
       "  <th>Date:</th>             <td>Sun, 03 Sep 2023</td> <th>  Prob (F-statistic):</th> <td>5.08e-88</td>\n",
       "</tr>\n",
       "<tr>\n",
       "  <th>Time:</th>                 <td>19:16:47</td>     <th>  Log-Likelihood:    </th> <td> -1641.5</td>\n",
       "</tr>\n",
       "<tr>\n",
       "  <th>No. Observations:</th>      <td>   506</td>      <th>  AIC:               </th> <td>   3287.</td>\n",
       "</tr>\n",
       "<tr>\n",
       "  <th>Df Residuals:</th>          <td>   504</td>      <th>  BIC:               </th> <td>   3295.</td>\n",
       "</tr>\n",
       "<tr>\n",
       "  <th>Df Model:</th>              <td>     1</td>      <th>                     </th>     <td> </td>   \n",
       "</tr>\n",
       "<tr>\n",
       "  <th>Covariance Type:</th>      <td>nonrobust</td>    <th>                     </th>     <td> </td>   \n",
       "</tr>\n",
       "</table>"
      ],
      "text/latex": [
       "\\begin{center}\n",
       "\\begin{tabular}{lclc}\n",
       "\\toprule\n",
       "\\textbf{Dep. Variable:}    &       medv       & \\textbf{  R-squared:         } &    0.544  \\\\\n",
       "\\textbf{Model:}            &       OLS        & \\textbf{  Adj. R-squared:    } &    0.543  \\\\\n",
       "\\textbf{Method:}           &  Least Squares   & \\textbf{  F-statistic:       } &    601.6  \\\\\n",
       "\\textbf{Date:}             & Sun, 03 Sep 2023 & \\textbf{  Prob (F-statistic):} & 5.08e-88  \\\\\n",
       "\\textbf{Time:}             &     19:16:47     & \\textbf{  Log-Likelihood:    } &  -1641.5  \\\\\n",
       "\\textbf{No. Observations:} &         506      & \\textbf{  AIC:               } &    3287.  \\\\\n",
       "\\textbf{Df Residuals:}     &         504      & \\textbf{  BIC:               } &    3295.  \\\\\n",
       "\\textbf{Df Model:}         &           1      & \\textbf{                     } &           \\\\\n",
       "\\textbf{Covariance Type:}  &    nonrobust     & \\textbf{                     } &           \\\\\n",
       "\\bottomrule\n",
       "\\end{tabular}\n",
       "%\\caption{OLS Regression Results}\n",
       "\\end{center}"
      ],
      "text/plain": [
       "<class 'statsmodels.iolib.table.SimpleTable'>"
      ]
     },
     "execution_count": 18,
     "metadata": {},
     "output_type": "execute_result"
    }
   ],
   "source": [
    "report.tables[0]"
   ]
  },
  {
   "cell_type": "markdown",
   "id": "8eb1f7b5-533c-433c-a9d8-9f3fc5d2ad11",
   "metadata": {
    "id": "8eb1f7b5-533c-433c-a9d8-9f3fc5d2ad11"
   },
   "source": [
    "`-` 결정계수 ($R^2$) 값을 살펴보니 약 54%의 설명력을 가진 모델이다."
   ]
  },
  {
   "cell_type": "markdown",
   "id": "f550d31e-17bf-4dd3-bdce-ae357bd0ee02",
   "metadata": {
    "id": "f550d31e-17bf-4dd3-bdce-ae357bd0ee02",
    "tags": []
   },
   "source": [
    "`-` 또한, F통계량에 근거한 `p-value` 값을 살펴보았을 때 주어진 표본으로 부터 추출된 모형은 통계적으로 유의하다."
   ]
  },
  {
   "cell_type": "markdown",
   "id": "e1d69ef5-b465-4cfc-9910-4461edf367a8",
   "metadata": {
    "id": "e1d69ef5-b465-4cfc-9910-4461edf367a8"
   },
   "source": [
    "### 모델 해석2 (예측변수의 유의성)"
   ]
  },
  {
   "cell_type": "code",
   "execution_count": 19,
   "id": "10db0a0d-cca0-412a-ac1a-bcba982e6cdf",
   "metadata": {
    "colab": {
     "base_uri": "https://localhost:8080/",
     "height": 82
    },
    "executionInfo": {
     "elapsed": 306,
     "status": "ok",
     "timestamp": 1692418312489,
     "user": {
      "displayName": "ccc flkwerkdai",
      "userId": "13507850890638580947"
     },
     "user_tz": -540
    },
    "id": "10db0a0d-cca0-412a-ac1a-bcba982e6cdf",
    "outputId": "0ff19035-9a00-4847-e0cd-9e77a47b84b9",
    "tags": []
   },
   "outputs": [
    {
     "data": {
      "text/html": [
       "<table class=\"simpletable\">\n",
       "<tr>\n",
       "      <td></td>         <th>coef</th>     <th>std err</th>      <th>t</th>      <th>P>|t|</th>  <th>[0.025</th>    <th>0.975]</th>  \n",
       "</tr>\n",
       "<tr>\n",
       "  <th>intercept</th> <td>   34.5538</td> <td>    0.563</td> <td>   61.415</td> <td> 0.000</td> <td>   33.448</td> <td>   35.659</td>\n",
       "</tr>\n",
       "<tr>\n",
       "  <th>lstat</th>     <td>   -0.9500</td> <td>    0.039</td> <td>  -24.528</td> <td> 0.000</td> <td>   -1.026</td> <td>   -0.874</td>\n",
       "</tr>\n",
       "</table>"
      ],
      "text/latex": [
       "\\begin{center}\n",
       "\\begin{tabular}{lcccccc}\n",
       "\\toprule\n",
       "                   & \\textbf{coef} & \\textbf{std err} & \\textbf{t} & \\textbf{P$> |$t$|$} & \\textbf{[0.025} & \\textbf{0.975]}  \\\\\n",
       "\\midrule\n",
       "\\textbf{intercept} &      34.5538  &        0.563     &    61.415  &         0.000        &       33.448    &       35.659     \\\\\n",
       "\\textbf{lstat}     &      -0.9500  &        0.039     &   -24.528  &         0.000        &       -1.026    &       -0.874     \\\\\n",
       "\\bottomrule\n",
       "\\end{tabular}\n",
       "\\end{center}"
      ],
      "text/plain": [
       "<class 'statsmodels.iolib.table.SimpleTable'>"
      ]
     },
     "execution_count": 19,
     "metadata": {},
     "output_type": "execute_result"
    }
   ],
   "source": [
    "report.tables[1]"
   ]
  },
  {
   "cell_type": "markdown",
   "id": "19af0d79-6fcf-4321-a9f8-b5f4dbf393b3",
   "metadata": {
    "id": "19af0d79-6fcf-4321-a9f8-b5f4dbf393b3"
   },
   "source": [
    "`-` `lstat`의 coef $\\to$ 즉, 회귀계수에 대한 유의성 검정결과"
   ]
  },
  {
   "cell_type": "markdown",
   "id": "cea75a53-68d7-45d4-9070-a5942206dc79",
   "metadata": {
    "id": "cea75a53-68d7-45d4-9070-a5942206dc79"
   },
   "source": [
    "* `p-value`값을 살펴본 결과 유의수준 0.05에서 유의성을 만족한다. 따라서 `lstat`의 회귀계수는 통계적으로 유의하다."
   ]
  },
  {
   "cell_type": "markdown",
   "id": "31ba94c1-fbdc-42bf-83f1-2fd658ce3aa7",
   "metadata": {
    "id": "31ba94c1-fbdc-42bf-83f1-2fd658ce3aa7"
   },
   "source": [
    "### 시각화"
   ]
  },
  {
   "cell_type": "code",
   "execution_count": 20,
   "id": "e42086e2-aa45-49c3-86dc-db333dd89799",
   "metadata": {
    "executionInfo": {
     "elapsed": 279,
     "status": "ok",
     "timestamp": 1692418313976,
     "user": {
      "displayName": "ccc flkwerkdai",
      "userId": "13507850890638580947"
     },
     "user_tz": -540
    },
    "id": "e42086e2-aa45-49c3-86dc-db333dd89799",
    "tags": []
   },
   "outputs": [],
   "source": [
    "yhat = results.predict()\n",
    "x = X[\"lstat\"]"
   ]
  },
  {
   "cell_type": "markdown",
   "id": "d6b37ddc-443e-41a6-a787-086675b84681",
   "metadata": {
    "id": "d6b37ddc-443e-41a6-a787-086675b84681"
   },
   "source": [
    "`-` 적합된 $(x,\\hat y)$와 $(x,y)$를 시각화한 결과 몇몇 이상치를 제외하고 잘 예측하고 있는것 같다."
   ]
  },
  {
   "cell_type": "code",
   "execution_count": 21,
   "id": "2e61fe3c-0486-450e-8bb7-fd2fea5a7059",
   "metadata": {
    "colab": {
     "base_uri": "https://localhost:8080/",
     "height": 448
    },
    "executionInfo": {
     "elapsed": 1102,
     "status": "ok",
     "timestamp": 1692418316354,
     "user": {
      "displayName": "ccc flkwerkdai",
      "userId": "13507850890638580947"
     },
     "user_tz": -540
    },
    "id": "2e61fe3c-0486-450e-8bb7-fd2fea5a7059",
    "outputId": "72809662-e872-4986-c0e4-1e63a2d4b76f",
    "tags": []
   },
   "outputs": [
    {
     "data": {
      "text/plain": [
       "<matplotlib.legend.Legend at 0x283559cf750>"
      ]
     },
     "execution_count": 21,
     "metadata": {},
     "output_type": "execute_result"
    },
    {
     "data": {
      "image/png": "[encoded data removed]",
      "text/plain": [
       "<Figure size 640x480 with 1 Axes>"
      ]
     },
     "metadata": {},
     "output_type": "display_data"
    }
   ],
   "source": [
    "#| code-fold : true\n",
    "plt.plot(x,y,\"o\",label = r\"$(x,y)$\",alpha=0.3)\n",
    "plt.plot(x,yhat,\"--\",label = r\"$(x,\\hat {y})$\")\n",
    "plt.legend()"
   ]
  },
  {
   "cell_type": "markdown",
   "id": "070183b3-effd-4098-9a77-dc87dda3b9cf",
   "metadata": {
    "id": "070183b3-effd-4098-9a77-dc87dda3b9cf"
   },
   "source": [
    "## test data에 대한 예측"
   ]
  },
  {
   "cell_type": "markdown",
   "id": "d07eef6d-b0d3-4a85-a484-1b52879dc295",
   "metadata": {
    "id": "d07eef6d-b0d3-4a85-a484-1b52879dc295"
   },
   "source": [
    "`-` 임의의 데이터 생성"
   ]
  },
  {
   "cell_type": "code",
   "execution_count": 22,
   "id": "712c6d47-a0ec-4af9-8d5f-884ece932530",
   "metadata": {
    "colab": {
     "base_uri": "https://localhost:8080/",
     "height": 143
    },
    "executionInfo": {
     "elapsed": 6,
     "status": "ok",
     "timestamp": 1692418447270,
     "user": {
      "displayName": "ccc flkwerkdai",
      "userId": "13507850890638580947"
     },
     "user_tz": -540
    },
    "id": "712c6d47-a0ec-4af9-8d5f-884ece932530",
    "outputId": "ee28e538-7a73-486d-953f-728113526577",
    "tags": []
   },
   "outputs": [
    {
     "data": {
      "text/html": [
       "<div>\n",
       "<style scoped>\n",
       "    .dataframe tbody tr th:only-of-type {\n",
       "        vertical-align: middle;\n",
       "    }\n",
       "\n",
       "    .dataframe tbody tr th {\n",
       "        vertical-align: top;\n",
       "    }\n",
       "\n",
       "    .dataframe thead th {\n",
       "        text-align: right;\n",
       "    }\n",
       "</style>\n",
       "<table border=\"1\" class=\"dataframe\">\n",
       "  <thead>\n",
       "    <tr style=\"text-align: right;\">\n",
       "      <th></th>\n",
       "      <th>intercept</th>\n",
       "      <th>lstat</th>\n",
       "    </tr>\n",
       "  </thead>\n",
       "  <tbody>\n",
       "    <tr>\n",
       "      <th>0</th>\n",
       "      <td>1.0</td>\n",
       "      <td>5</td>\n",
       "    </tr>\n",
       "    <tr>\n",
       "      <th>1</th>\n",
       "      <td>1.0</td>\n",
       "      <td>10</td>\n",
       "    </tr>\n",
       "    <tr>\n",
       "      <th>2</th>\n",
       "      <td>1.0</td>\n",
       "      <td>15</td>\n",
       "    </tr>\n",
       "  </tbody>\n",
       "</table>\n",
       "</div>"
      ],
      "text/plain": [
       "   intercept  lstat\n",
       "0        1.0      5\n",
       "1        1.0     10\n",
       "2        1.0     15"
      ]
     },
     "execution_count": 22,
     "metadata": {},
     "output_type": "execute_result"
    }
   ],
   "source": [
    "new_df = pd.DataFrame({'lstat':[5, 10, 15]})\n",
    "newX = design.fit_transform(new_df)\n",
    "newX"
   ]
  },
  {
   "cell_type": "markdown",
   "id": "f43f49d0-b53d-4bc4-83e1-dc28301399ba",
   "metadata": {
    "id": "f43f49d0-b53d-4bc4-83e1-dc28301399ba"
   },
   "source": [
    "`-` 예측"
   ]
  },
  {
   "cell_type": "code",
   "execution_count": 23,
   "id": "cbc18145-a1b9-4858-a6ff-6021d7a9bcc1",
   "metadata": {
    "colab": {
     "base_uri": "https://localhost:8080/"
    },
    "executionInfo": {
     "elapsed": 300,
     "status": "ok",
     "timestamp": 1692418450401,
     "user": {
      "displayName": "ccc flkwerkdai",
      "userId": "13507850890638580947"
     },
     "user_tz": -540
    },
    "id": "cbc18145-a1b9-4858-a6ff-6021d7a9bcc1",
    "outputId": "9d35d037-b751-49be-e1f3-fefe111d3492",
    "tags": []
   },
   "outputs": [
    {
     "data": {
      "text/plain": [
       "array([29.80359411, 25.05334734, 20.30310057])"
      ]
     },
     "execution_count": 23,
     "metadata": {},
     "output_type": "execute_result"
    }
   ],
   "source": [
    "new_predictions = results.get_prediction(newX)\n",
    "new_predictions.predicted_mean ## 예측값 확인"
   ]
  },
  {
   "cell_type": "markdown",
   "id": "f8473971-9a23-4206-9adf-d1766855393a",
   "metadata": {
    "id": "f8473971-9a23-4206-9adf-d1766855393a"
   },
   "source": [
    "`-` 예측값에 대한 신뢰구간 (유의수준 = 0.05)"
   ]
  },
  {
   "cell_type": "code",
   "execution_count": 24,
   "id": "804eed81-abc2-4cec-a559-3925c0024b9b",
   "metadata": {
    "colab": {
     "base_uri": "https://localhost:8080/"
    },
    "executionInfo": {
     "elapsed": 2,
     "status": "ok",
     "timestamp": 1692418451688,
     "user": {
      "displayName": "ccc flkwerkdai",
      "userId": "13507850890638580947"
     },
     "user_tz": -540
    },
    "id": "804eed81-abc2-4cec-a559-3925c0024b9b",
    "outputId": "43473eeb-4c72-4941-84d2-01cb0c67d35c",
    "tags": []
   },
   "outputs": [
    {
     "data": {
      "text/plain": [
       "array([[29.00741194, 30.59977628],\n",
       "       [24.47413202, 25.63256267],\n",
       "       [19.73158815, 20.87461299]])"
      ]
     },
     "execution_count": 24,
     "metadata": {},
     "output_type": "execute_result"
    }
   ],
   "source": [
    "new_predictions.conf_int(alpha=0.05)"
   ]
  },
  {
   "cell_type": "markdown",
   "id": "c1d34335-ac1c-4252-afa8-d6e8da1e3c87",
   "metadata": {
    "id": "c1d34335-ac1c-4252-afa8-d6e8da1e3c87",
    "tags": []
   },
   "source": [
    "`-` 예측값에 대한 예측구간 (유의수준 = 0.05)"
   ]
  },
  {
   "cell_type": "code",
   "execution_count": 25,
   "id": "16113c8c-238c-4bd8-a7aa-75402e502c63",
   "metadata": {
    "colab": {
     "base_uri": "https://localhost:8080/"
    },
    "executionInfo": {
     "elapsed": 2,
     "status": "ok",
     "timestamp": 1692418452804,
     "user": {
      "displayName": "ccc flkwerkdai",
      "userId": "13507850890638580947"
     },
     "user_tz": -540
    },
    "id": "16113c8c-238c-4bd8-a7aa-75402e502c63",
    "outputId": "81249bd3-bb21-493f-e071-c84b606792f1",
    "tags": []
   },
   "outputs": [
    {
     "data": {
      "text/plain": [
       "array([[17.56567478, 42.04151344],\n",
       "       [12.82762635, 37.27906833],\n",
       "       [ 8.0777421 , 32.52845905]])"
      ]
     },
     "execution_count": 25,
     "metadata": {},
     "output_type": "execute_result"
    }
   ],
   "source": [
    "new_predictions.conf_int(obs=True, alpha=0.05)"
   ]
  },
  {
   "cell_type": "markdown",
   "id": "c4c6ad60-2640-4ff3-8e62-058dc21bee81",
   "metadata": {
    "id": "c4c6ad60-2640-4ff3-8e62-058dc21bee81",
    "tags": []
   },
   "source": [
    "## `fitted value` vs `residual`"
   ]
  },
  {
   "cell_type": "markdown",
   "id": "6a2e98f7-500c-4529-aae6-a70d040960f9",
   "metadata": {
    "id": "6a2e98f7-500c-4529-aae6-a70d040960f9"
   },
   "source": [
    "$$\\text{resid} = y-\\hat y$$"
   ]
  },
  {
   "cell_type": "code",
   "execution_count": 26,
   "id": "56a30868-aa3f-4ac0-b8cb-e58bb3e89d74",
   "metadata": {
    "executionInfo": {
     "elapsed": 278,
     "status": "ok",
     "timestamp": 1692418454983,
     "user": {
      "displayName": "ccc flkwerkdai",
      "userId": "13507850890638580947"
     },
     "user_tz": -540
    },
    "id": "56a30868-aa3f-4ac0-b8cb-e58bb3e89d74",
    "tags": []
   },
   "outputs": [],
   "source": [
    "fv = results.fittedvalues ## 적합치\n",
    "re = results.resid ## 잔차"
   ]
  },
  {
   "cell_type": "code",
   "execution_count": 27,
   "id": "6e085f93-54dd-473c-9da3-e2b513d80a10",
   "metadata": {
    "executionInfo": {
     "elapsed": 1,
     "status": "ok",
     "timestamp": 1692418455898,
     "user": {
      "displayName": "ccc flkwerkdai",
      "userId": "13507850890638580947"
     },
     "user_tz": -540
    },
    "id": "6e085f93-54dd-473c-9da3-e2b513d80a10",
    "tags": []
   },
   "outputs": [],
   "source": [
    "from scipy import stats"
   ]
  },
  {
   "cell_type": "code",
   "execution_count": 29,
   "id": "1aa95841-a29a-40c1-be21-b3c14c3fe6e8",
   "metadata": {
    "colab": {
     "base_uri": "https://localhost:8080/",
     "height": 582
    },
    "executionInfo": {
     "elapsed": 1648,
     "status": "ok",
     "timestamp": 1692418458769,
     "user": {
      "displayName": "ccc flkwerkdai",
      "userId": "13507850890638580947"
     },
     "user_tz": -540
    },
    "id": "1aa95841-a29a-40c1-be21-b3c14c3fe6e8",
    "outputId": "32fd9875-2773-4b90-b820-faa62198d176",
    "tags": []
   },
   "outputs": [
    {
     "data": {
      "text/plain": [
       "Text(0.5, 1.0, 'qqplot')"
      ]
     },
     "execution_count": 29,
     "metadata": {},
     "output_type": "execute_result"
    },
    {
     "data": {
      "image/png": "[encoded data removed]",
      "text/plain": [
       "<Figure size 1200x600 with 2 Axes>"
      ]
     },
     "metadata": {},
     "output_type": "display_data"
    }
   ],
   "source": [
    "# code-fold : true\n",
    "fig,axes = plt.subplots(1,2,figsize=(12,6))\n",
    "\n",
    "ax1,ax2 = axes\n",
    "ax1.plot(fv,re,\"o\",alpha=0.3)\n",
    "ax1.axhline(0,c=\"k\",ls =\"--\") ## c=k 검은색, ls= linestyle\n",
    "ax1.set_xlabel(\"fitted value\")\n",
    "ax1.set_ylabel(\"Residual\")\n",
    "ax1.set_title(\"fitted value vs Residual\")\n",
    "\n",
    "_ = stats.probplot(re,plot=ax2)\n",
    "ax2.set_ylabel(\"standard residual\")\n",
    "ax2.set_title(\"qqplot\")"
   ]
  },
  {
   "cell_type": "markdown",
   "id": "cc131ebd-93c7-4485-a666-6c44826ff839",
   "metadata": {
    "id": "cc131ebd-93c7-4485-a666-6c44826ff839"
   },
   "source": [
    "### 잔차 해석"
   ]
  },
  {
   "cell_type": "markdown",
   "id": "3f14fb75-6682-406c-b5ec-35be7ba30e5d",
   "metadata": {
    "id": "3f14fb75-6682-406c-b5ec-35be7ba30e5d"
   },
   "source": [
    "* 잔차 plot을 살펴본 결과 : fitted value가 커질수록 잔차의 분산도 커지고 있다. $\\to$ 잔차가 등분산성을 만족하지 못하고 있다.\n",
    "    * 반응변수에 변환을 취하거나, 가중최소 제곱법을 이용해 해결해야한다."
   ]
  },
  {
   "cell_type": "markdown",
   "id": "01a31e69-58ee-4fb6-97ee-4a053e21dfa1",
   "metadata": {
    "id": "01a31e69-58ee-4fb6-97ee-4a053e21dfa1"
   },
   "source": [
    "* qqplot을 그려본결과 왼쪽 꼬리는 이론적으로 나와야할 값보다. 큰값을 가진다.\n",
    "\n",
    "* 오른쪽 꼬리는 마찬가지이다.\n",
    "\n",
    "* 즉, 잔차는 정규성 가정에 위배되는 것처럼 보인다."
   ]
  }
 ],
 "metadata": {
  "colab": {
   "provenance": []
  },
  "kernelspec": {
   "display_name": "Python 3 (ipykernel)",
   "language": "python",
   "name": "python3"
  },
  "language_info": {
   "codemirror_mode": {
    "name": "ipython",
    "version": 3
   },
   "file_extension": ".py",
   "mimetype": "text/x-python",
   "name": "python",
   "nbconvert_exporter": "python",
   "pygments_lexer": "ipython3",
   "version": "3.11.4"
  },
  "toc": {
   "base_numbering": 1,
   "nav_menu": {},
   "number_sections": false,
   "sideBar": true,
   "skip_h1_title": false,
   "title_cell": "Table of Contents",
   "title_sidebar": "Contents",
   "toc_cell": false,
   "toc_position": {},
   "toc_section_display": true,
   "toc_window_display": true
  }
 },
 "nbformat": 4,
 "nbformat_minor": 5
}
